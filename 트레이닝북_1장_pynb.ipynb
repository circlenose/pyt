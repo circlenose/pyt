{
  "nbformat": 4,
  "nbformat_minor": 0,
  "metadata": {
    "colab": {
      "name": "트레이닝북 1장.pynb",
      "provenance": [],
      "authorship_tag": "ABX9TyN8MF2QH9IM7djv2GBtfe3r",
      "include_colab_link": true
    },
    "kernelspec": {
      "name": "python3",
      "display_name": "Python 3"
    },
    "language_info": {
      "name": "python"
    }
  },
  "cells": [
    {
      "cell_type": "markdown",
      "metadata": {
        "id": "view-in-github",
        "colab_type": "text"
      },
      "source": [
        "<a href=\"https://colab.research.google.com/github/circlenose/pyt/blob/master/%ED%8A%B8%EB%A0%88%EC%9D%B4%EB%8B%9D%EB%B6%81_1%EC%9E%A5_pynb.ipynb\" target=\"_parent\"><img src=\"https://colab.research.google.com/assets/colab-badge.svg\" alt=\"Open In Colab\"/></a>"
      ]
    },
    {
      "cell_type": "markdown",
      "metadata": {
        "id": "KgRcKxtd6--G"
      },
      "source": [
        "### 1.2.2 파이썬 기초"
      ]
    },
    {
      "cell_type": "markdown",
      "metadata": {
        "id": "PprYDmZ464jK"
      },
      "source": [
        "변수"
      ]
    },
    {
      "cell_type": "code",
      "metadata": {
        "colab": {
          "base_uri": "https://localhost:8080/"
        },
        "id": "hlMcWF8H7Z3Y",
        "outputId": "617dd3a4-1358-43b7-be2e-4bc0ed1b26df"
      },
      "source": [
        "msg ='test'\n",
        "print(msg)"
      ],
      "execution_count": 3,
      "outputs": [
        {
          "output_type": "stream",
          "text": [
            "test\n"
          ],
          "name": "stdout"
        }
      ]
    },
    {
      "cell_type": "code",
      "metadata": {
        "colab": {
          "base_uri": "https://localhost:8080/",
          "height": 35
        },
        "id": "P4Nk7_Jr7iE_",
        "outputId": "3d06705e-4ff2-463d-ae77-dd6d02775a6b"
      },
      "source": [
        "msg[0]"
      ],
      "execution_count": 4,
      "outputs": [
        {
          "output_type": "execute_result",
          "data": {
            "application/vnd.google.colaboratory.intrinsic+json": {
              "type": "string"
            },
            "text/plain": [
              "'t'"
            ]
          },
          "metadata": {
            "tags": []
          },
          "execution_count": 4
        }
      ]
    },
    {
      "cell_type": "markdown",
      "metadata": {
        "id": "pWzs28Ji9HxZ"
      },
      "source": [
        "연산"
      ]
    },
    {
      "cell_type": "code",
      "metadata": {
        "colab": {
          "base_uri": "https://localhost:8080/"
        },
        "id": "txd8SYr07r9y",
        "outputId": "64310c43-c479-44fb-989e-c092866a4daf"
      },
      "source": [
        "data = 1\n",
        "data = data + 10\n",
        "print(data)"
      ],
      "execution_count": 5,
      "outputs": [
        {
          "output_type": "stream",
          "text": [
            "11\n"
          ],
          "name": "stdout"
        }
      ]
    },
    {
      "cell_type": "markdown",
      "metadata": {
        "id": "1XVXEtpi9UpJ"
      },
      "source": [
        "예약어"
      ]
    },
    {
      "cell_type": "code",
      "metadata": {
        "colab": {
          "base_uri": "https://localhost:8080/"
        },
        "id": "M7rrFU4P9Txh",
        "outputId": "c118a462-80d2-48a5-ce14-45946321765b"
      },
      "source": [
        "# 객체 : 데이터(값)과 데이터의 처리가 하나로 묶인 어떤 것!\n",
        "\n",
        "# 예약어를 표시하는 명령어\n",
        "__import__('keyword').kwlist"
      ],
      "execution_count": 6,
      "outputs": [
        {
          "output_type": "execute_result",
          "data": {
            "text/plain": [
              "['False',\n",
              " 'None',\n",
              " 'True',\n",
              " 'and',\n",
              " 'as',\n",
              " 'assert',\n",
              " 'async',\n",
              " 'await',\n",
              " 'break',\n",
              " 'class',\n",
              " 'continue',\n",
              " 'def',\n",
              " 'del',\n",
              " 'elif',\n",
              " 'else',\n",
              " 'except',\n",
              " 'finally',\n",
              " 'for',\n",
              " 'from',\n",
              " 'global',\n",
              " 'if',\n",
              " 'import',\n",
              " 'in',\n",
              " 'is',\n",
              " 'lambda',\n",
              " 'nonlocal',\n",
              " 'not',\n",
              " 'or',\n",
              " 'pass',\n",
              " 'raise',\n",
              " 'return',\n",
              " 'try',\n",
              " 'while',\n",
              " 'with',\n",
              " 'yield']"
            ]
          },
          "metadata": {
            "tags": []
          },
          "execution_count": 6
        }
      ]
    },
    {
      "cell_type": "code",
      "metadata": {
        "colab": {
          "base_uri": "https://localhost:8080/"
        },
        "id": "8f81JCja93d2",
        "outputId": "a80c593e-7198-401f-c2c7-a5ebd6ccb08c"
      },
      "source": [
        "# 내장형 함수 목록\n",
        "dir(__builtins__)"
      ],
      "execution_count": 7,
      "outputs": [
        {
          "output_type": "execute_result",
          "data": {
            "text/plain": [
              "['ArithmeticError',\n",
              " 'AssertionError',\n",
              " 'AttributeError',\n",
              " 'BaseException',\n",
              " 'BlockingIOError',\n",
              " 'BrokenPipeError',\n",
              " 'BufferError',\n",
              " 'BytesWarning',\n",
              " 'ChildProcessError',\n",
              " 'ConnectionAbortedError',\n",
              " 'ConnectionError',\n",
              " 'ConnectionRefusedError',\n",
              " 'ConnectionResetError',\n",
              " 'DeprecationWarning',\n",
              " 'EOFError',\n",
              " 'Ellipsis',\n",
              " 'EnvironmentError',\n",
              " 'Exception',\n",
              " 'False',\n",
              " 'FileExistsError',\n",
              " 'FileNotFoundError',\n",
              " 'FloatingPointError',\n",
              " 'FutureWarning',\n",
              " 'GeneratorExit',\n",
              " 'IOError',\n",
              " 'ImportError',\n",
              " 'ImportWarning',\n",
              " 'IndentationError',\n",
              " 'IndexError',\n",
              " 'InterruptedError',\n",
              " 'IsADirectoryError',\n",
              " 'KeyError',\n",
              " 'KeyboardInterrupt',\n",
              " 'LookupError',\n",
              " 'MemoryError',\n",
              " 'ModuleNotFoundError',\n",
              " 'NameError',\n",
              " 'None',\n",
              " 'NotADirectoryError',\n",
              " 'NotImplemented',\n",
              " 'NotImplementedError',\n",
              " 'OSError',\n",
              " 'OverflowError',\n",
              " 'PendingDeprecationWarning',\n",
              " 'PermissionError',\n",
              " 'ProcessLookupError',\n",
              " 'RecursionError',\n",
              " 'ReferenceError',\n",
              " 'ResourceWarning',\n",
              " 'RuntimeError',\n",
              " 'RuntimeWarning',\n",
              " 'StopAsyncIteration',\n",
              " 'StopIteration',\n",
              " 'SyntaxError',\n",
              " 'SyntaxWarning',\n",
              " 'SystemError',\n",
              " 'SystemExit',\n",
              " 'TabError',\n",
              " 'TimeoutError',\n",
              " 'True',\n",
              " 'TypeError',\n",
              " 'UnboundLocalError',\n",
              " 'UnicodeDecodeError',\n",
              " 'UnicodeEncodeError',\n",
              " 'UnicodeError',\n",
              " 'UnicodeTranslateError',\n",
              " 'UnicodeWarning',\n",
              " 'UserWarning',\n",
              " 'ValueError',\n",
              " 'Warning',\n",
              " 'ZeroDivisionError',\n",
              " '__IPYTHON__',\n",
              " '__build_class__',\n",
              " '__debug__',\n",
              " '__doc__',\n",
              " '__import__',\n",
              " '__loader__',\n",
              " '__name__',\n",
              " '__package__',\n",
              " '__spec__',\n",
              " 'abs',\n",
              " 'all',\n",
              " 'any',\n",
              " 'ascii',\n",
              " 'bin',\n",
              " 'bool',\n",
              " 'breakpoint',\n",
              " 'bytearray',\n",
              " 'bytes',\n",
              " 'callable',\n",
              " 'chr',\n",
              " 'classmethod',\n",
              " 'compile',\n",
              " 'complex',\n",
              " 'copyright',\n",
              " 'credits',\n",
              " 'delattr',\n",
              " 'dict',\n",
              " 'dir',\n",
              " 'display',\n",
              " 'divmod',\n",
              " 'dreload',\n",
              " 'enumerate',\n",
              " 'eval',\n",
              " 'exec',\n",
              " 'execfile',\n",
              " 'filter',\n",
              " 'float',\n",
              " 'format',\n",
              " 'frozenset',\n",
              " 'get_ipython',\n",
              " 'getattr',\n",
              " 'globals',\n",
              " 'hasattr',\n",
              " 'hash',\n",
              " 'help',\n",
              " 'hex',\n",
              " 'id',\n",
              " 'input',\n",
              " 'int',\n",
              " 'isinstance',\n",
              " 'issubclass',\n",
              " 'iter',\n",
              " 'len',\n",
              " 'license',\n",
              " 'list',\n",
              " 'locals',\n",
              " 'map',\n",
              " 'max',\n",
              " 'memoryview',\n",
              " 'min',\n",
              " 'next',\n",
              " 'object',\n",
              " 'oct',\n",
              " 'open',\n",
              " 'ord',\n",
              " 'pow',\n",
              " 'print',\n",
              " 'property',\n",
              " 'range',\n",
              " 'repr',\n",
              " 'reversed',\n",
              " 'round',\n",
              " 'runfile',\n",
              " 'set',\n",
              " 'setattr',\n",
              " 'slice',\n",
              " 'sorted',\n",
              " 'staticmethod',\n",
              " 'str',\n",
              " 'sum',\n",
              " 'super',\n",
              " 'tuple',\n",
              " 'type',\n",
              " 'vars',\n",
              " 'zip']"
            ]
          },
          "metadata": {
            "tags": []
          },
          "execution_count": 7
        }
      ]
    },
    {
      "cell_type": "markdown",
      "metadata": {
        "id": "IZBNM2NC-f_F"
      },
      "source": [
        "### 1.2.3 리스트와 딕셔너리"
      ]
    },
    {
      "cell_type": "code",
      "metadata": {
        "colab": {
          "base_uri": "https://localhost:8080/"
        },
        "id": "LyFmgyhh-AzA",
        "outputId": "d46b49f6-4978-467f-d62c-946858e16872"
      },
      "source": [
        "# 리스트 : 복수의 값을 하나의 그룹으로 다루기 위한 구조\n",
        "# 다른 언어에서의 배열과 같은 것\n",
        "\n",
        "# 리스트 생성\n",
        "data_list = [1, 2, 3, 4, 5, 6, 7, 8, 9, 10]\n",
        "print(data_list)\n",
        "\n",
        "# type 명령으로 변수 형을 알 수 있다\n",
        "print('변수 형:', type(data_list))\n",
        "\n",
        "# 1개의 원소 출력\n",
        "print('두 번째 원소:', data_list[1])\n",
        "\n",
        "# len 함수로 원소의 개수를 출력\n",
        "# 여기에서는 1부터 10까지 10개의 원소가 있기 때문에 결과는 10\n",
        "print('원소의 개수는:', len(data_list))"
      ],
      "execution_count": 8,
      "outputs": [
        {
          "output_type": "stream",
          "text": [
            "[1, 2, 3, 4, 5, 6, 7, 8, 9, 10]\n",
            "변수 형: <class 'list'>\n",
            "두 번째 원소: 2\n",
            "원소의 개수는: 10\n"
          ],
          "name": "stdout"
        }
      ]
    },
    {
      "cell_type": "code",
      "metadata": {
        "colab": {
          "base_uri": "https://localhost:8080/"
        },
        "id": "GJ5k1Ry3_IG2",
        "outputId": "ff2ea602-5c46-481b-93ed-6ab3021e2610"
      },
      "source": [
        "# 리스트 자체가 두 번 생성됨\n",
        "data_list * 2"
      ],
      "execution_count": 9,
      "outputs": [
        {
          "output_type": "execute_result",
          "data": {
            "text/plain": [
              "[1, 2, 3, 4, 5, 6, 7, 8, 9, 10, 1, 2, 3, 4, 5, 6, 7, 8, 9, 10]"
            ]
          },
          "metadata": {
            "tags": []
          },
          "execution_count": 9
        }
      ]
    },
    {
      "cell_type": "code",
      "metadata": {
        "id": "6QjFCCTk_oKx"
      },
      "source": [
        "# 메서드 \n",
        "  # append : 리스트 원소 추가\n",
        "  # remove, pop, del : 리스트 원소 제거"
      ],
      "execution_count": 10,
      "outputs": []
    },
    {
      "cell_type": "code",
      "metadata": {
        "colab": {
          "base_uri": "https://localhost:8080/"
        },
        "id": "V3bCpAXuCCvF",
        "outputId": "61f94e8a-0a6b-4f9c-9064-3b61f6d485ca"
      },
      "source": [
        "# 딕셔너리 : 키와 값을 한 쌍으로 복수의 원소 관리, 키에는 정수뿐 아니라 문자열도 가능, 순서 없음\n",
        "  # 형식 : {키:값}\n",
        "\n",
        "dic_data = {'apple':100, 'banana':100, 'orange':300, 'mango':400, 'melon':500}\n",
        "print(dic_data['melon'])"
      ],
      "execution_count": 11,
      "outputs": [
        {
          "output_type": "stream",
          "text": [
            "500\n"
          ],
          "name": "stdout"
        }
      ]
    },
    {
      "cell_type": "code",
      "metadata": {
        "colab": {
          "base_uri": "https://localhost:8080/"
        },
        "id": "8NtuISctFMpZ",
        "outputId": "19d513e2-f5d4-42d6-b338-920c7d6cac91"
      },
      "source": [
        "print(dic_data['orange'])\n",
        "print(dic_data['apple'] + dic_data['orange'])"
      ],
      "execution_count": 12,
      "outputs": [
        {
          "output_type": "stream",
          "text": [
            "300\n",
            "400\n"
          ],
          "name": "stdout"
        }
      ]
    },
    {
      "cell_type": "code",
      "metadata": {
        "colab": {
          "base_uri": "https://localhost:8080/"
        },
        "id": "elPuxRVcGQvf",
        "outputId": "c3478171-59c3-4ba7-8563-02cb9306d09f"
      },
      "source": [
        "# 딕셔너리 데이터에 새로운 원소 추가\n",
        "dic_data['grape'] = 1000\n",
        "print(dic_data)"
      ],
      "execution_count": 13,
      "outputs": [
        {
          "output_type": "stream",
          "text": [
            "{'apple': 100, 'banana': 100, 'orange': 300, 'mango': 400, 'melon': 500, 'grape': 1000}\n"
          ],
          "name": "stdout"
        }
      ]
    },
    {
      "cell_type": "code",
      "metadata": {
        "colab": {
          "base_uri": "https://localhost:8080/"
        },
        "id": "6pWLHPonGj9Z",
        "outputId": "09278659-9f80-4b9a-8d7a-e0f500c21cbc"
      },
      "source": [
        "# 딕셔너리 데이터에서 원소 삭제\n",
        "del dic_data['grape']\n",
        "print(dic_data)"
      ],
      "execution_count": 14,
      "outputs": [
        {
          "output_type": "stream",
          "text": [
            "{'apple': 100, 'banana': 100, 'orange': 300, 'mango': 400, 'melon': 500}\n"
          ],
          "name": "stdout"
        }
      ]
    },
    {
      "cell_type": "code",
      "metadata": {
        "id": "D2F19JRiHDlO"
      },
      "source": [
        "# 파이썬 튜플과 집합에 대해 역할과 사용 방법을 찾아보고 사용해 봅시다"
      ],
      "execution_count": 15,
      "outputs": []
    },
    {
      "cell_type": "markdown",
      "metadata": {
        "id": "iXa2BtdoHWTU"
      },
      "source": [
        "### 1.2.4 조건 분기와 반복문"
      ]
    },
    {
      "cell_type": "markdown",
      "metadata": {
        "id": "VIdyxoksH4cG"
      },
      "source": [
        "비교 연산자와 진릿값 연산"
      ]
    },
    {
      "cell_type": "code",
      "metadata": {
        "colab": {
          "base_uri": "https://localhost:8080/"
        },
        "id": "GoQz4EduHVTk",
        "outputId": "63cd3796-083c-4d81-f094-22fd47c20b98"
      },
      "source": [
        "# 어떤 식이 성립할지(참) 성립하지 않을지(거짓) 판정\n",
        "# 진릿값 연산은 if문과 반복문 처리에서 사용\n",
        "\n",
        "1 == 1"
      ],
      "execution_count": 16,
      "outputs": [
        {
          "output_type": "execute_result",
          "data": {
            "text/plain": [
              "True"
            ]
          },
          "metadata": {
            "tags": []
          },
          "execution_count": 16
        }
      ]
    },
    {
      "cell_type": "code",
      "metadata": {
        "colab": {
          "base_uri": "https://localhost:8080/"
        },
        "id": "LjBZHDS8ICqR",
        "outputId": "6bdf9639-ad00-4b17-a84e-3ae30de2d213"
      },
      "source": [
        "1 == 2"
      ],
      "execution_count": 17,
      "outputs": [
        {
          "output_type": "execute_result",
          "data": {
            "text/plain": [
              "False"
            ]
          },
          "metadata": {
            "tags": []
          },
          "execution_count": 17
        }
      ]
    },
    {
      "cell_type": "code",
      "metadata": {
        "colab": {
          "base_uri": "https://localhost:8080/"
        },
        "id": "2r4Vd6_HID74",
        "outputId": "4cc06d60-0f95-417c-8ad9-b97bbbf925fd"
      },
      "source": [
        "1 != 2"
      ],
      "execution_count": 18,
      "outputs": [
        {
          "output_type": "execute_result",
          "data": {
            "text/plain": [
              "True"
            ]
          },
          "metadata": {
            "tags": []
          },
          "execution_count": 18
        }
      ]
    },
    {
      "cell_type": "code",
      "metadata": {
        "colab": {
          "base_uri": "https://localhost:8080/"
        },
        "id": "crJ5YtYfIFg0",
        "outputId": "96bdd64f-dce7-415a-d6bd-daaca5db5e02"
      },
      "source": [
        "1 > 0"
      ],
      "execution_count": 19,
      "outputs": [
        {
          "output_type": "execute_result",
          "data": {
            "text/plain": [
              "True"
            ]
          },
          "metadata": {
            "tags": []
          },
          "execution_count": 19
        }
      ]
    },
    {
      "cell_type": "code",
      "metadata": {
        "colab": {
          "base_uri": "https://localhost:8080/"
        },
        "id": "6Lg5nGj_IHvP",
        "outputId": "2721edd5-5625-40d6-e9de-d75869792221"
      },
      "source": [
        "1 > 2"
      ],
      "execution_count": 20,
      "outputs": [
        {
          "output_type": "execute_result",
          "data": {
            "text/plain": [
              "False"
            ]
          },
          "metadata": {
            "tags": []
          },
          "execution_count": 20
        }
      ]
    },
    {
      "cell_type": "code",
      "metadata": {
        "colab": {
          "base_uri": "https://localhost:8080/"
        },
        "id": "ks8dw18WII1Q",
        "outputId": "7521a3d0-1445-4367-c679-fa009132e1fa"
      },
      "source": [
        "# and : 두 개의 조건식이 모두 성립하면 참\n",
        "(1 > 0) and (10 > 5)"
      ],
      "execution_count": 21,
      "outputs": [
        {
          "output_type": "execute_result",
          "data": {
            "text/plain": [
              "True"
            ]
          },
          "metadata": {
            "tags": []
          },
          "execution_count": 21
        }
      ]
    },
    {
      "cell_type": "code",
      "metadata": {
        "colab": {
          "base_uri": "https://localhost:8080/"
        },
        "id": "DCs-NrViIgvL",
        "outputId": "16a86e32-d5a4-4a4a-d2ac-4c965ed500ac"
      },
      "source": [
        "# or : 어느 한쪽만 성립하면 참\n",
        "(1 < 0) or (10 > 5)"
      ],
      "execution_count": 22,
      "outputs": [
        {
          "output_type": "execute_result",
          "data": {
            "text/plain": [
              "True"
            ]
          },
          "metadata": {
            "tags": []
          },
          "execution_count": 22
        }
      ]
    },
    {
      "cell_type": "code",
      "metadata": {
        "colab": {
          "base_uri": "https://localhost:8080/"
        },
        "id": "2R2VwPboIvFu",
        "outputId": "31aa04b9-4924-40bf-f028-5675644ddb20"
      },
      "source": [
        "# not : 참거짓을 부정\n",
        "not(1 < 0)"
      ],
      "execution_count": 23,
      "outputs": [
        {
          "output_type": "execute_result",
          "data": {
            "text/plain": [
              "True"
            ]
          },
          "metadata": {
            "tags": []
          },
          "execution_count": 23
        }
      ]
    },
    {
      "cell_type": "markdown",
      "metadata": {
        "id": "sUDVGs0lJLac"
      },
      "source": [
        "if 문"
      ]
    },
    {
      "cell_type": "code",
      "metadata": {
        "colab": {
          "base_uri": "https://localhost:8080/"
        },
        "id": "75yeTmzVI1G3",
        "outputId": "c629c088-c6b6-4258-ef8f-5e38c9df09f9"
      },
      "source": [
        "# 조건 분기 : 어떤 조건에 따라 처리 내용이 달라지는 것, if문 사용\n",
        "findvalue = 5\n",
        "\n",
        "# if문 시작\n",
        "if findvalue in data_list:\n",
        "  # 조건식의 결과가 참일 때\n",
        "  print('{0}은 들어 있습니다.'.format(findvalue))\n",
        "else:\n",
        "  # 조건식 결과가 거짓일 때\n",
        "  print('{0}은 들어 있지 않습니다.'.format(findvalue))\n",
        "# 여기에서 if문 끝남\n",
        "\n",
        "# 이하부터 if문과 다른 내용이 시작\n",
        "print('여기서부터는 if문과 관계없이, 반드시 표시됩니다.')"
      ],
      "execution_count": 24,
      "outputs": [
        {
          "output_type": "stream",
          "text": [
            "5은 들어 있습니다.\n",
            "여기서부터는 if문과 관계없이, 반드시 표시됩니다.\n"
          ],
          "name": "stdout"
        }
      ]
    },
    {
      "cell_type": "code",
      "metadata": {
        "id": "2Fj147DcQx3K",
        "colab": {
          "base_uri": "https://localhost:8080/"
        },
        "outputId": "bdfd6557-c586-47c7-9f75-7c0b810a4af3"
      },
      "source": [
        "# 출력 결과가 바뀌도록 숫자를 바꿔 실행해 봅시다. 또 조건문이나 출력 결과 등을 바꿔 봅니다.\n",
        "findvalue = 8 or 9\n",
        "\n",
        "if findvalue in data_list:\n",
        "  print('{0}은 들어 있습니다.'.format(findvalue))\n",
        "\n",
        "  # 여러가지를 넣는 법을 알고 싶다!"
      ],
      "execution_count": 33,
      "outputs": [
        {
          "output_type": "stream",
          "text": [
            "8은 들어 있습니다.\n"
          ],
          "name": "stdout"
        }
      ]
    },
    {
      "cell_type": "code",
      "metadata": {
        "colab": {
          "base_uri": "https://localhost:8080/"
        },
        "id": "TM4HJh6YRb9_",
        "outputId": "25f25688-0a51-46fc-d953-8309a3385671"
      },
      "source": [
        "print('{0}과 {1}을 더하면 {2}입니다.'.format(2, 3, 5))"
      ],
      "execution_count": null,
      "outputs": [
        {
          "output_type": "stream",
          "text": [
            "2과 3을 더하면 5입니다.\n"
          ],
          "name": "stdout"
        }
      ]
    },
    {
      "cell_type": "code",
      "metadata": {
        "id": "jx_KHTbXUJZL"
      },
      "source": [
        "# {0}이나 {1}과 같이 값을 끼워 넣는 표기에는 숫자의 자릿수 표시 방법을 지정하는 옵션도 있습니다. 찾아보세요\n",
        "# https://dojang.io/mod/page/view.php?id=2300"
      ],
      "execution_count": null,
      "outputs": []
    },
    {
      "cell_type": "markdown",
      "metadata": {
        "id": "aP1szPnwVX7F"
      },
      "source": [
        "for 문"
      ]
    },
    {
      "cell_type": "code",
      "metadata": {
        "colab": {
          "base_uri": "https://localhost:8080/"
        },
        "id": "mJpoQjrMUgGc",
        "outputId": "75b011c6-4824-49e3-b865-e648af6bf481"
      },
      "source": [
        "# for : 코드를 반복적으로 실행, 리스트 데이터 등에서 데이터를 1개씩 추출해 데이터가 더 이상 없을 때까지 반복 처리\n",
        "\n",
        "# 초깃값 설정\n",
        "total = 0\n",
        "\n",
        "# for 문\n",
        "for num in [1, 2, 3]:\n",
        "  # 추출한 값 출력\n",
        "  print('num:', num)\n",
        "  # 지금까지 추출한 값의 합계\n",
        "  total = total + num\n",
        "\n",
        "# 최종 합계 출력\n",
        "print('total:', total)"
      ],
      "execution_count": null,
      "outputs": [
        {
          "output_type": "stream",
          "text": [
            "num: 1\n",
            "num: 2\n",
            "num: 3\n",
            "total: 6\n"
          ],
          "name": "stdout"
        }
      ]
    },
    {
      "cell_type": "code",
      "metadata": {
        "colab": {
          "base_uri": "https://localhost:8080/"
        },
        "id": "um78EzCIYFUz",
        "outputId": "d9aa3262-2e95-45b5-9fbe-6302c8e183f7"
      },
      "source": [
        "# for문 딕셔너리\n",
        "for dic_key in dic_data:\n",
        "  print(dic_key, dic_data[dic_key])\n",
        "\n",
        "  # 위에서는 dic_data['키 이름'] 으로 불러왔고 여기서는 dic_data[변수명]"
      ],
      "execution_count": null,
      "outputs": [
        {
          "output_type": "stream",
          "text": [
            "apple 100\n",
            "banana 100\n",
            "orange 300\n",
            "mango 400\n",
            "melon 500\n"
          ],
          "name": "stdout"
        }
      ]
    },
    {
      "cell_type": "markdown",
      "metadata": {
        "id": "Q7vwhsJyZysm"
      },
      "source": [
        "range 함수를 이용한 반복 리스트 지정"
      ]
    },
    {
      "cell_type": "code",
      "metadata": {
        "colab": {
          "base_uri": "https://localhost:8080/"
        },
        "id": "SKlcU929ZWgF",
        "outputId": "38ddac90-b6f0-4173-d3b2-dbfd726322a8"
      },
      "source": [
        "# range : 연속된 정수값으로 리스트 생성 시 편리, N 지정 시 N-1까지 출력!\n",
        "\n",
        "# range(N)으로 코딩했을 때 0부터 N-1까지의 정수\n",
        "for i in range(11):\n",
        "  print(i)"
      ],
      "execution_count": null,
      "outputs": [
        {
          "output_type": "stream",
          "text": [
            "0\n",
            "1\n",
            "2\n",
            "3\n",
            "4\n",
            "5\n",
            "6\n",
            "7\n",
            "8\n",
            "9\n",
            "10\n"
          ],
          "name": "stdout"
        }
      ]
    },
    {
      "cell_type": "code",
      "metadata": {
        "colab": {
          "base_uri": "https://localhost:8080/"
        },
        "id": "zrvvUagPaP9_",
        "outputId": "2ce16778-3fd9-44fa-9ae0-ce8cbff66f44"
      },
      "source": [
        "# range(시작값, 마지막값-1, 간격) range는 연속된 값을 불러오는 거라는 것을 잊지마!!!\n",
        "for i in range(1, 11, 2):\n",
        "  print(i)"
      ],
      "execution_count": null,
      "outputs": [
        {
          "output_type": "stream",
          "text": [
            "1\n",
            "3\n",
            "5\n",
            "7\n",
            "9\n"
          ],
          "name": "stdout"
        }
      ]
    },
    {
      "cell_type": "markdown",
      "metadata": {
        "id": "-22gUPaPchNf"
      },
      "source": [
        "복합한 for문과 컴프리헨션"
      ]
    },
    {
      "cell_type": "code",
      "metadata": {
        "colab": {
          "base_uri": "https://localhost:8080/"
        },
        "id": "wzgV-KE4afgn",
        "outputId": "07eee4cc-d899-48ec-ba30-f78b9af7105c"
      },
      "source": [
        "# 키와 값을 추출하고 출력\n",
        "for key, value in dic_data.items():\n",
        "  print(key, value)"
      ],
      "execution_count": null,
      "outputs": [
        {
          "output_type": "stream",
          "text": [
            "apple 100\n",
            "banana 100\n",
            "orange 300\n",
            "mango 400\n",
            "melon 500\n"
          ],
          "name": "stdout"
        }
      ]
    },
    {
      "cell_type": "code",
      "metadata": {
        "colab": {
          "base_uri": "https://localhost:8080/"
        },
        "id": "xYxTqMk1eDOE",
        "outputId": "44c345cf-dc13-4e60-ac1c-ef516b96286d"
      },
      "source": [
        "# 컴프리헨션 : for문을 이용해 추출한 데이터를 별도의 리스트 데이터로 만드는 방법\n",
        "\n",
        "# 빈 리스트 생성\n",
        "data_list1 = []\n",
        "\n",
        "# 컴프리핸션. data_list에서 하나씩 추출한 원소 값을 2배로 만든 새로운 값의 리스트를 생성\n",
        "data_list1 = [i * 2 for i in data_list]\n",
        "print(data_list1)"
      ],
      "execution_count": null,
      "outputs": [
        {
          "output_type": "stream",
          "text": [
            "[2, 4, 6, 8, 10, 12, 14, 16, 18, 20]\n"
          ],
          "name": "stdout"
        }
      ]
    },
    {
      "cell_type": "code",
      "metadata": {
        "colab": {
          "base_uri": "https://localhost:8080/"
        },
        "id": "6ZIoY8zzjDd8",
        "outputId": "a2577a93-7478-4c2d-d14d-afc9203bcd26"
      },
      "source": [
        "# 컴프리헨션에서는 조건을 지정하고 조건에 일치하는 값만 새로운 리스트의 원소로 만드는 것도 가능\n",
        "[i * 2 for i in data_list if i % 2 == 0]"
      ],
      "execution_count": null,
      "outputs": [
        {
          "output_type": "execute_result",
          "data": {
            "text/plain": [
              "[4, 8, 12, 16, 20]"
            ]
          },
          "metadata": {
            "tags": []
          },
          "execution_count": 101
        }
      ]
    },
    {
      "cell_type": "markdown",
      "metadata": {
        "id": "Hbwch8i4kfvR"
      },
      "source": [
        "zip 함수"
      ]
    },
    {
      "cell_type": "code",
      "metadata": {
        "id": "UQgMDUHTjs-O",
        "colab": {
          "base_uri": "https://localhost:8080/"
        },
        "outputId": "b0e7bcda-9331-4b97-d625-e450b70c29d5"
      },
      "source": [
        "# zip ; 각기 다른 리스트에서 동시에 값 추출\n",
        "for one, two in zip([1, 2, 3], [11, 12, 13]):\n",
        "  print(one, '과', two)"
      ],
      "execution_count": 34,
      "outputs": [
        {
          "output_type": "stream",
          "text": [
            "1 과 11\n",
            "2 과 12\n",
            "3 과 13\n"
          ],
          "name": "stdout"
        }
      ]
    },
    {
      "cell_type": "markdown",
      "metadata": {
        "id": "eKe5FNCHj7T7"
      },
      "source": [
        "while문을 이용한 반복 실행"
      ]
    },
    {
      "cell_type": "code",
      "metadata": {
        "id": "GzdMPIMGj3LG"
      },
      "source": [
        "# while문 : 조건이 성립할 동안 계속 반복 실행되는 구문"
      ],
      "execution_count": null,
      "outputs": []
    },
    {
      "cell_type": "code",
      "metadata": {
        "colab": {
          "base_uri": "https://localhost:8080/"
        },
        "id": "zwfTyvPej3rm",
        "outputId": "0d8670c4-b958-40d1-ef51-1e0cafbc61ee"
      },
      "source": [
        "# 초깃값 설정\n",
        "num = 1\n",
        "\n",
        "# while문 시작\n",
        "while num <= 10:\n",
        "  print(num)\n",
        "  num = num + 1\n",
        "# while문 끝\n",
        "\n",
        "# 마지막 입력된 값을 출력\n",
        "print('마지막 값은 {0}입니다.'.format(num))"
      ],
      "execution_count": 35,
      "outputs": [
        {
          "output_type": "stream",
          "text": [
            "1\n",
            "2\n",
            "3\n",
            "4\n",
            "5\n",
            "6\n",
            "7\n",
            "8\n",
            "9\n",
            "10\n",
            "마지막 값은 11입니다.\n"
          ],
          "name": "stdout"
        }
      ]
    },
    {
      "cell_type": "markdown",
      "metadata": {
        "id": "jJSeIR8FkqJo"
      },
      "source": [
        "### 1.2.5 함수"
      ]
    },
    {
      "cell_type": "markdown",
      "metadata": {
        "id": "0M6Bb8zjks8x"
      },
      "source": [
        "함수 기초"
      ]
    },
    {
      "cell_type": "code",
      "metadata": {
        "id": "QeXiak2ykuK8"
      },
      "source": [
        "# 함수 : 여러 가지 수행할 작업을 하나로 정리해 묶어 놓은 구조, 반복 작업 시 편리"
      ],
      "execution_count": null,
      "outputs": []
    },
    {
      "cell_type": "code",
      "metadata": {
        "id": "3EcyDoAJk5su"
      },
      "source": [
        "# 곱셈 계산 함수\n",
        "def calc_multi(a, b):\n",
        "  return a * b"
      ],
      "execution_count": 37,
      "outputs": []
    },
    {
      "cell_type": "code",
      "metadata": {
        "colab": {
          "base_uri": "https://localhost:8080/"
        },
        "id": "YTT1wh6HpuGc",
        "outputId": "56856c7b-0953-41c5-bd3e-c9a3316f2308"
      },
      "source": [
        "calc_multi(3, 10)"
      ],
      "execution_count": 38,
      "outputs": [
        {
          "output_type": "execute_result",
          "data": {
            "text/plain": [
              "30"
            ]
          },
          "metadata": {
            "tags": []
          },
          "execution_count": 38
        }
      ]
    },
    {
      "cell_type": "code",
      "metadata": {
        "id": "qYWUFChep1lb"
      },
      "source": [
        "def calc_print():\n",
        "  print('print 샘플 함수')"
      ],
      "execution_count": 39,
      "outputs": []
    },
    {
      "cell_type": "code",
      "metadata": {
        "colab": {
          "base_uri": "https://localhost:8080/"
        },
        "id": "DTC8gYBwp7CA",
        "outputId": "38259953-7548-4bf4-e4af-237950d5963d"
      },
      "source": [
        "calc_print()"
      ],
      "execution_count": 40,
      "outputs": [
        {
          "output_type": "stream",
          "text": [
            "print 샘플 함수\n"
          ],
          "name": "stdout"
        }
      ]
    },
    {
      "cell_type": "code",
      "metadata": {
        "id": "lEvh_V7yqNcc"
      },
      "source": [
        "# 피보나치 수 계산 함수\n",
        "def calc_fib(n):\n",
        "  if n == 1 or n == 2:\n",
        "    return 1\n",
        "  else :\n",
        "    return calc_fib(n - 1) + calc_fib(n - 2)"
      ],
      "execution_count": 42,
      "outputs": []
    },
    {
      "cell_type": "code",
      "metadata": {
        "colab": {
          "base_uri": "https://localhost:8080/"
        },
        "id": "YbfIJx2aremc",
        "outputId": "a85d2c2e-1054-408b-d9f1-d7598c508f4c"
      },
      "source": [
        "print('피보나치 수:', calc_fib(10))"
      ],
      "execution_count": 43,
      "outputs": [
        {
          "output_type": "stream",
          "text": [
            "피보나치 수: 55\n"
          ],
          "name": "stdout"
        }
      ]
    },
    {
      "cell_type": "markdown",
      "metadata": {
        "id": "70zbOJ-MsJ6F"
      },
      "source": [
        "익명 함수와 map"
      ]
    },
    {
      "cell_type": "code",
      "metadata": {
        "colab": {
          "base_uri": "https://localhost:8080/"
        },
        "id": "A4_90yi5rhPa",
        "outputId": "352e9f91-4c74-4a6b-8221-c9e476dda2b5"
      },
      "source": [
        "# lambda : 익명 함수(이름이 없는 함수) 생성 키워드, 리스트나 배열 등의 원소 값에 어떤 함수를 실행해야 할 때 주로 사용\n",
        "\n",
        "# calc_multi 함수를 정의\n",
        "def calc_multi(a, b):\n",
        "  return a * b\n",
        "\n",
        "# 정의한 함수를 실행\n",
        "calc_multi(3, 10)"
      ],
      "execution_count": 44,
      "outputs": [
        {
          "output_type": "execute_result",
          "data": {
            "text/plain": [
              "30"
            ]
          },
          "metadata": {
            "tags": []
          },
          "execution_count": 44
        }
      ]
    },
    {
      "cell_type": "code",
      "metadata": {
        "colab": {
          "base_uri": "https://localhost:8080/"
        },
        "id": "ygAviwncriYg",
        "outputId": "09cb2cbb-0467-4a29-d31f-c25ea81f3e28"
      },
      "source": [
        "(lambda a,b : a * b)(3, 10)"
      ],
      "execution_count": 48,
      "outputs": [
        {
          "output_type": "execute_result",
          "data": {
            "text/plain": [
              "30"
            ]
          },
          "metadata": {
            "tags": []
          },
          "execution_count": 48
        }
      ]
    },
    {
      "cell_type": "code",
      "metadata": {
        "id": "UWAe_f6wy2zv"
      },
      "source": [
        "# map : 원소 값을 대상으로 어떤 작업을 수행할 경우 사용, 고차함수라고도 불림(함수를 인수 값으로 받거나 결과를 함수로 반환), 개별 원소에 대해 어떤 작업을 수행할 때 사용"
      ],
      "execution_count": 49,
      "outputs": []
    },
    {
      "cell_type": "code",
      "metadata": {
        "id": "YyV5qa7_zXSO"
      },
      "source": [
        "def calc_double(x):\n",
        "  return x * 2"
      ],
      "execution_count": 50,
      "outputs": []
    },
    {
      "cell_type": "code",
      "metadata": {
        "colab": {
          "base_uri": "https://localhost:8080/"
        },
        "id": "0qu0giXTzXX9",
        "outputId": "f07f0dca-50ab-4aba-fd09-265966a53335"
      },
      "source": [
        "for num in [1, 2, 3, 4]:\n",
        "  print(calc_double(num))"
      ],
      "execution_count": 51,
      "outputs": [
        {
          "output_type": "stream",
          "text": [
            "2\n",
            "4\n",
            "6\n",
            "8\n"
          ],
          "name": "stdout"
        }
      ]
    },
    {
      "cell_type": "code",
      "metadata": {
        "colab": {
          "base_uri": "https://localhost:8080/"
        },
        "id": "QstfD6oFztyR",
        "outputId": "ab7a4736-9125-494f-a029-eaabaa0bba4b"
      },
      "source": [
        "# map 함수 사용\n",
        "list(map(calc_double, [1, 2, 3, 4]))"
      ],
      "execution_count": 53,
      "outputs": [
        {
          "output_type": "execute_result",
          "data": {
            "text/plain": [
              "[2, 4, 6, 8]"
            ]
          },
          "metadata": {
            "tags": []
          },
          "execution_count": 53
        }
      ]
    },
    {
      "cell_type": "code",
      "metadata": {
        "colab": {
          "base_uri": "https://localhost:8080/"
        },
        "id": "CWNRMcB_0CEz",
        "outputId": "a269a5e0-a42d-4005-d0d8-af6803ca2b46"
      },
      "source": [
        "list(map(lambda x : x * 2, [1, 2, 3, 4]))"
      ],
      "execution_count": 57,
      "outputs": [
        {
          "output_type": "execute_result",
          "data": {
            "text/plain": [
              "[2, 4, 6, 8]"
            ]
          },
          "metadata": {
            "tags": []
          },
          "execution_count": 57
        }
      ]
    },
    {
      "cell_type": "code",
      "metadata": {
        "id": "r2ziAc0S24am"
      },
      "source": [
        "# reduce 함수나 filter 함수의 사용방법을 찾아보고 직접 사용해 봅시다"
      ],
      "execution_count": null,
      "outputs": []
    },
    {
      "cell_type": "markdown",
      "metadata": {
        "id": "PsLPIOjL3AUT"
      },
      "source": [
        "### [ 연습문제 1-1 ]\n",
        "어떤 문자열(Data Science 등)을 변수로 저장하고 그것을 한 문자씩 출력하는 프로그램을 작성하세요."
      ]
    },
    {
      "cell_type": "code",
      "metadata": {
        "colab": {
          "base_uri": "https://localhost:8080/"
        },
        "id": "zDqQe17r2_mp",
        "outputId": "8c9fa62c-c532-4c55-ee56-5b9ef0878638"
      },
      "source": [
        "str1 = 'Data Science'\n",
        "\n",
        "for i in str1:\n",
        "  print(i)"
      ],
      "execution_count": 74,
      "outputs": [
        {
          "output_type": "stream",
          "text": [
            "D\n",
            "a\n",
            "t\n",
            "a\n",
            " \n",
            "S\n",
            "c\n",
            "i\n",
            "e\n",
            "n\n",
            "c\n",
            "e\n"
          ],
          "name": "stdout"
        }
      ]
    },
    {
      "cell_type": "markdown",
      "metadata": {
        "id": "UgUNmFAq436E"
      },
      "source": [
        "답안 1"
      ]
    },
    {
      "cell_type": "code",
      "metadata": {
        "colab": {
          "base_uri": "https://localhost:8080/"
        },
        "id": "HzliMFQd45WC",
        "outputId": "47dc5350-87d2-4f1d-a385-76b449a92be2"
      },
      "source": [
        "sampl_str = \"Data Science\"\n",
        "\n",
        "for i in range(0, len(sampl_str)):\n",
        "  print(sampl_str[i])"
      ],
      "execution_count": 75,
      "outputs": [
        {
          "output_type": "stream",
          "text": [
            "D\n",
            "a\n",
            "t\n",
            "a\n",
            " \n",
            "S\n",
            "c\n",
            "i\n",
            "e\n",
            "n\n",
            "c\n",
            "e\n"
          ],
          "name": "stdout"
        }
      ]
    },
    {
      "cell_type": "markdown",
      "metadata": {
        "id": "J2GLALmN4-o0"
      },
      "source": [
        "답안 2"
      ]
    },
    {
      "cell_type": "code",
      "metadata": {
        "colab": {
          "base_uri": "https://localhost:8080/"
        },
        "id": "uJCvfN9C49GM",
        "outputId": "e47ff690-2a79-45d1-d00c-acfdf9a3ebcd"
      },
      "source": [
        "for i in sampl_str:\n",
        "  print(i, end = \"\") # 개행 없에기"
      ],
      "execution_count": 77,
      "outputs": [
        {
          "output_type": "stream",
          "text": [
            "Data Science"
          ],
          "name": "stdout"
        }
      ]
    },
    {
      "cell_type": "markdown",
      "metadata": {
        "id": "ntSLQE7p3Kcn"
      },
      "source": [
        "###[ 연습문제 1-2 ]\n",
        "1부터 50까지 자연수의 합을 계산해 최종적으로 합산 결과를 출력하는 프로그램을 작성하세요. "
      ]
    },
    {
      "cell_type": "code",
      "metadata": {
        "colab": {
          "base_uri": "https://localhost:8080/"
        },
        "id": "8TytLjtt3Sk9",
        "outputId": "84cb08cd-59fd-4a56-ca1d-faabadcedccb"
      },
      "source": [
        "a = 0\n",
        "for i in range(51):\n",
        "  a += i\n",
        "\n",
        "print(a)"
      ],
      "execution_count": 80,
      "outputs": [
        {
          "output_type": "stream",
          "text": [
            "1275\n"
          ],
          "name": "stdout"
        }
      ]
    },
    {
      "cell_type": "markdown",
      "metadata": {
        "id": "6jWStvC_5aAc"
      },
      "source": [
        "답안 1"
      ]
    },
    {
      "cell_type": "code",
      "metadata": {
        "colab": {
          "base_uri": "https://localhost:8080/"
        },
        "id": "fnS07OeY5b9V",
        "outputId": "1d178f6c-8665-4fb2-9b04-2b3288efb8ff"
      },
      "source": [
        "print(sum(range(1, 51))) # sum 함수 이용"
      ],
      "execution_count": 81,
      "outputs": [
        {
          "output_type": "stream",
          "text": [
            "1275\n"
          ],
          "name": "stdout"
        }
      ]
    },
    {
      "cell_type": "markdown",
      "metadata": {
        "id": "jZtpsoct5jlp"
      },
      "source": [
        "답안 2"
      ]
    },
    {
      "cell_type": "code",
      "metadata": {
        "colab": {
          "base_uri": "https://localhost:8080/"
        },
        "id": "zuVajlVs5kKv",
        "outputId": "2e8067d5-9c7c-4703-a486-997674b72bc4"
      },
      "source": [
        "print(sum(x for x in range(1, 51)))"
      ],
      "execution_count": 92,
      "outputs": [
        {
          "output_type": "stream",
          "text": [
            "1275\n"
          ],
          "name": "stdout"
        }
      ]
    },
    {
      "cell_type": "markdown",
      "metadata": {
        "id": "QRK_iSe_7RCj"
      },
      "source": [
        "### 1.2.6 클래스와 인스턴스"
      ]
    },
    {
      "cell_type": "code",
      "metadata": {
        "colab": {
          "base_uri": "https://localhost:8080/"
        },
        "id": "v6r0_Tas7QXy",
        "outputId": "0346e812-5574-4fdd-dc6c-30646c2e98e0"
      },
      "source": [
        "# PrintClass 클래스 작성과 print_me 메서드(함수) 작성\n",
        "class PrintClass : \n",
        "  def print_me(self):\n",
        "    print(self.x, self.y)\n",
        "  \n",
        "# 인스턴스 작성 및 생성\n",
        "p1 = PrintClass()\n",
        "\n",
        "# 속성 값 입력\n",
        "p1.x = 10\n",
        "p1.y = 100\n",
        "p1.z = 1000\n",
        "\n",
        "# 메서드 호출\n",
        "p1.print_me()"
      ],
      "execution_count": 97,
      "outputs": [
        {
          "output_type": "stream",
          "text": [
            "10 100\n"
          ],
          "name": "stdout"
        }
      ]
    },
    {
      "cell_type": "code",
      "metadata": {
        "id": "ivkpP61V_QVc"
      },
      "source": [
        "class MyClacClass:\n",
        "\n",
        "  # 생성자 : 객체 생성 시 호출되는 특수한 함수, 초기화 등\n",
        "  def __init__(self, x, y):\n",
        "    self.x = x\n",
        "    self.y = y\n",
        "\n",
        "  def calc_add1(self, a, b):\n",
        "    return a + b\n",
        "\n",
        "  def calc_add2(self):\n",
        "    return self.x + self.y\n",
        "\n",
        "  def calc_multi(self, a, b):\n",
        "    return a * b\n",
        "\n",
        "  def calc_print(self, a):\n",
        "    print('data:{0}:y의 값{1}'.format(a, self.y))"
      ],
      "execution_count": 107,
      "outputs": []
    },
    {
      "cell_type": "code",
      "metadata": {
        "id": "p6sMPHJKAYmm"
      },
      "source": [
        "instance_1 = MyClacClass(1, 2)\n",
        "instance_2 = MyClacClass(5, 10)"
      ],
      "execution_count": 108,
      "outputs": []
    },
    {
      "cell_type": "code",
      "metadata": {
        "colab": {
          "base_uri": "https://localhost:8080/"
        },
        "id": "BXrd7u7NAmyl",
        "outputId": "04d6269e-bac2-44d5-a619-94e6dc74373b"
      },
      "source": [
        "print('2개의 수를 더함(새로운 숫자를 인수로 지정):', instance_1.calc_add1(5, 3))\n",
        "print('2개의 수를 더함(인스턴스화 될 때의 값:)', instance_1.calc_add2())\n",
        "print('2개의 수를 곱함:', instance_1.calc_multi(5, 3))\n",
        "instance_1.calc_print(5)"
      ],
      "execution_count": 109,
      "outputs": [
        {
          "output_type": "stream",
          "text": [
            "2개의 수를 더함(새로운 숫자를 인수로 지정): 8\n",
            "2개의 수를 더함(인스턴스화 될 때의 값:) 3\n",
            "2개의 수를 곱함: 15\n",
            "data:5:y의 값2\n"
          ],
          "name": "stdout"
        }
      ]
    },
    {
      "cell_type": "code",
      "metadata": {
        "colab": {
          "base_uri": "https://localhost:8080/"
        },
        "id": "chp0ce7dBtCM",
        "outputId": "8fb3cb3b-46e6-4b2e-9163-15bffc48e319"
      },
      "source": [
        "print('2개의 수를 더함(새로운 숫자를 인수로 지정):', instance_2.calc_add1(10, 3))\n",
        "print('2개의 수를 더함(인스턴스화 될 때의 값:', instance_2.calc_add2())\n",
        "print('2개의 수를 곱함:', instance_2.calc_multi(4, 3))\n",
        "instance_2.calc_print(20)"
      ],
      "execution_count": 110,
      "outputs": [
        {
          "output_type": "stream",
          "text": [
            "2개의 수를 더함(새로운 숫자를 인수로 지정): 13\n",
            "2개의 수를 더함(인스턴스화 될 때의 값: 15\n",
            "2개의 수를 곱함: 12\n",
            "data:20:y의 값10\n"
          ],
          "name": "stdout"
        }
      ]
    },
    {
      "cell_type": "markdown",
      "metadata": {
        "id": "VjRnUcFRkxdd"
      },
      "source": [
        "### 1장 종합문제\n",
        "종합문제 [1-1 소수판정]\n",
        "1. 10까지의 소수를 출력하는 프로그램을 작성하세요. 여기서 소수는 약수가 1과 자기자신 뿐인 양의 정수를 말합니다.\n",
        "\n",
        "2. 위의 예제를 일반화해서, 자연수 N까지의 소수를 출력하는 함수를 작성하세요."
      ]
    },
    {
      "cell_type": "code",
      "metadata": {
        "id": "Oxl7VoKNkwr4",
        "colab": {
          "base_uri": "https://localhost:8080/",
          "height": 103
        },
        "outputId": "bf897740-bdf4-4193-f7f4-cb574ab8f444"
      },
      "source": [
        "# 문제 1\n",
        "\n",
        "n=10\n",
        "\n",
        "def isPrime(a):\n",
        "  if(a<2):\n",
        "    return False\n",
        "  for i in range(2,a):\n",
        "    if(a%i==0):\n",
        "      return False\n",
        "  return True\n",
        "\n",
        "for i in range(n+1):\n",
        "  if(isPrime(i)):\n",
        "    print(i)\n",
        "\n",
        "'''\n",
        "def prime_num(a):\n",
        "  for a in range(2,11):\n",
        "    if a % 2 == 0:\n",
        "      return False\n",
        "    return True\n",
        "\n",
        "prime_num(2)\n",
        "'''"
      ],
      "execution_count": 141,
      "outputs": [
        {
          "output_type": "stream",
          "text": [
            "2\n",
            "3\n",
            "5\n",
            "7\n"
          ],
          "name": "stdout"
        },
        {
          "output_type": "execute_result",
          "data": {
            "application/vnd.google.colaboratory.intrinsic+json": {
              "type": "string"
            },
            "text/plain": [
              "'\\ndef prime_num(a):\\n  for a in range(2,11):\\n    if a % 2 == 0:\\n      return False\\n    return True\\n\\nprime_num(2)\\n'"
            ]
          },
          "metadata": {
            "tags": []
          },
          "execution_count": 141
        }
      ]
    },
    {
      "cell_type": "code",
      "metadata": {
        "id": "yY0svqlPlg0X",
        "colab": {
          "base_uri": "https://localhost:8080/"
        },
        "outputId": "7b4587ef-a9d8-4b16-e264-ddf094b3cdec"
      },
      "source": [
        "a = [False,False] + [True]*(n-1)\n",
        "primes=[]\n",
        "\n",
        "for i in range(2,n+1):\n",
        "  if a[i]:\n",
        "    primes.append(i)\n",
        "    for j in range(2*i, n+1, i):\n",
        "        a[j] = False\n",
        "print(primes)"
      ],
      "execution_count": 142,
      "outputs": [
        {
          "output_type": "stream",
          "text": [
            "[2, 3, 5, 7]\n"
          ],
          "name": "stdout"
        }
      ]
    },
    {
      "cell_type": "code",
      "metadata": {
        "id": "SJ_zl5LwFdfg"
      },
      "source": [
        ""
      ],
      "execution_count": null,
      "outputs": []
    },
    {
      "cell_type": "code",
      "metadata": {
        "id": "28zE7BrpFKjw"
      },
      "source": [
        ""
      ],
      "execution_count": null,
      "outputs": []
    }
  ]
}
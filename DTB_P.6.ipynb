{
  "nbformat": 4,
  "nbformat_minor": 0,
  "metadata": {
    "colab": {
      "name": "트레이닝북 6장.ipynb",
      "provenance": [],
      "collapsed_sections": [],
      "authorship_tag": "ABX9TyMBvzIFvK76HTH0MHEGoAX6"
    },
    "kernelspec": {
      "name": "python3",
      "display_name": "Python 3"
    },
    "language_info": {
      "name": "python"
    }
  },
  "cells": [
    {
      "cell_type": "markdown",
      "metadata": {
        "id": "ach6vHlvUATi"
      },
      "source": [
        "# 6. 판다스를 이용해 데이터 다루기"
      ]
    },
    {
      "cell_type": "markdown",
      "metadata": {
        "id": "0LAaErhyUG1M"
      },
      "source": [
        "### 6.1 개요와 사전준비"
      ]
    },
    {
      "cell_type": "markdown",
      "metadata": {
        "id": "6BPGoPTlUMHb"
      },
      "source": [
        "6.1.1 라이브러리 임포트"
      ]
    },
    {
      "cell_type": "code",
      "metadata": {
        "colab": {
          "base_uri": "https://localhost:8080/",
          "height": 0
        },
        "id": "o5EGQDFsULed",
        "outputId": "095b3fa7-fdc3-43db-ce18-71b73532eb81"
      },
      "source": [
        "# 아래의 라이브러리를 사용하므로 미리 임포트\n",
        "import numpy as np\n",
        "import numpy.random as random\n",
        "import scipy as sp\n",
        "import pandas as pd\n",
        "from pandas import Series, DataFrame\n",
        "\n",
        "# 시각화 라이브러리\n",
        "import matplotlib.pyplot as plt\n",
        "import matplotlib as mpl\n",
        "import seaborn as sns\n",
        "%matplotlib inline\n",
        "\n",
        "# 소수점 세 번째 자리까지 표시\n",
        "%precision 3"
      ],
      "execution_count": 1,
      "outputs": [
        {
          "output_type": "execute_result",
          "data": {
            "application/vnd.google.colaboratory.intrinsic+json": {
              "type": "string"
            },
            "text/plain": [
              "'%.3f'"
            ]
          },
          "metadata": {},
          "execution_count": 1
        }
      ]
    },
    {
      "cell_type": "markdown",
      "metadata": {
        "id": "9LSB2wYRUUOP"
      },
      "source": [
        "### 6.2 판다스로 데이터를 다루는 기본적인 방법"
      ]
    },
    {
      "cell_type": "markdown",
      "metadata": {
        "id": "n4IQPa-0UX1i"
      },
      "source": [
        "6.2.1 계층적 인덱스\n",
        "\n",
        "여러 개의 변수를 기준으로 집계할 때 계층적 인덱스가 편리, 복수의 변수로 계층적 인덱스를 만들어 계층별로 집계 가능 "
      ]
    },
    {
      "cell_type": "code",
      "metadata": {
        "colab": {
          "base_uri": "https://localhost:8080/",
          "height": 0
        },
        "id": "v3HdG0nPUGGL",
        "outputId": "711c3ced-9c61-462a-f083-a3b1dedcca3f"
      },
      "source": [
        "# 3열 3행 데이터 생성, 인덱스와 컬럼명 설정\n",
        "hier_df = DataFrame(\n",
        "    np.arange(9).reshape((3,3)),\n",
        "    index = [\n",
        "             ['a', 'a', 'b'],\n",
        "             [1, 2, 2]\n",
        "    ],\n",
        "columns = [\n",
        "    ['Pusan', 'Seoul', 'Pusan'],\n",
        "    ['Blue', 'Red', 'Red']\n",
        "    ]\n",
        ")\n",
        "hier_df"
      ],
      "execution_count": 2,
      "outputs": [
        {
          "output_type": "execute_result",
          "data": {
            "text/html": [
              "<div>\n",
              "<style scoped>\n",
              "    .dataframe tbody tr th:only-of-type {\n",
              "        vertical-align: middle;\n",
              "    }\n",
              "\n",
              "    .dataframe tbody tr th {\n",
              "        vertical-align: top;\n",
              "    }\n",
              "\n",
              "    .dataframe thead tr th {\n",
              "        text-align: left;\n",
              "    }\n",
              "</style>\n",
              "<table border=\"1\" class=\"dataframe\">\n",
              "  <thead>\n",
              "    <tr>\n",
              "      <th></th>\n",
              "      <th></th>\n",
              "      <th>Pusan</th>\n",
              "      <th>Seoul</th>\n",
              "      <th>Pusan</th>\n",
              "    </tr>\n",
              "    <tr>\n",
              "      <th></th>\n",
              "      <th></th>\n",
              "      <th>Blue</th>\n",
              "      <th>Red</th>\n",
              "      <th>Red</th>\n",
              "    </tr>\n",
              "  </thead>\n",
              "  <tbody>\n",
              "    <tr>\n",
              "      <th rowspan=\"2\" valign=\"top\">a</th>\n",
              "      <th>1</th>\n",
              "      <td>0</td>\n",
              "      <td>1</td>\n",
              "      <td>2</td>\n",
              "    </tr>\n",
              "    <tr>\n",
              "      <th>2</th>\n",
              "      <td>3</td>\n",
              "      <td>4</td>\n",
              "      <td>5</td>\n",
              "    </tr>\n",
              "    <tr>\n",
              "      <th>b</th>\n",
              "      <th>2</th>\n",
              "      <td>6</td>\n",
              "      <td>7</td>\n",
              "      <td>8</td>\n",
              "    </tr>\n",
              "  </tbody>\n",
              "</table>\n",
              "</div>"
            ],
            "text/plain": [
              "    Pusan Seoul Pusan\n",
              "     Blue   Red   Red\n",
              "a 1     0     1     2\n",
              "  2     3     4     5\n",
              "b 2     6     7     8"
            ]
          },
          "metadata": {},
          "execution_count": 2
        }
      ]
    },
    {
      "cell_type": "code",
      "metadata": {
        "colab": {
          "base_uri": "https://localhost:8080/",
          "height": 0
        },
        "id": "64-DAa-aHQ8P",
        "outputId": "28058d43-610a-46b2-cae9-2edb94471c9b"
      },
      "source": [
        "# 코드 쪼개기\n",
        "# 3열 3행 데이터 생성하기\n",
        "\n",
        "df = DataFrame(np.arange(9).reshape((3,3))) # ((3,3))은 튜플 리셰잎\n",
        "\n",
        "df "
      ],
      "execution_count": 3,
      "outputs": [
        {
          "output_type": "execute_result",
          "data": {
            "text/html": [
              "<div>\n",
              "<style scoped>\n",
              "    .dataframe tbody tr th:only-of-type {\n",
              "        vertical-align: middle;\n",
              "    }\n",
              "\n",
              "    .dataframe tbody tr th {\n",
              "        vertical-align: top;\n",
              "    }\n",
              "\n",
              "    .dataframe thead th {\n",
              "        text-align: right;\n",
              "    }\n",
              "</style>\n",
              "<table border=\"1\" class=\"dataframe\">\n",
              "  <thead>\n",
              "    <tr style=\"text-align: right;\">\n",
              "      <th></th>\n",
              "      <th>0</th>\n",
              "      <th>1</th>\n",
              "      <th>2</th>\n",
              "    </tr>\n",
              "  </thead>\n",
              "  <tbody>\n",
              "    <tr>\n",
              "      <th>0</th>\n",
              "      <td>0</td>\n",
              "      <td>1</td>\n",
              "      <td>2</td>\n",
              "    </tr>\n",
              "    <tr>\n",
              "      <th>1</th>\n",
              "      <td>3</td>\n",
              "      <td>4</td>\n",
              "      <td>5</td>\n",
              "    </tr>\n",
              "    <tr>\n",
              "      <th>2</th>\n",
              "      <td>6</td>\n",
              "      <td>7</td>\n",
              "      <td>8</td>\n",
              "    </tr>\n",
              "  </tbody>\n",
              "</table>\n",
              "</div>"
            ],
            "text/plain": [
              "   0  1  2\n",
              "0  0  1  2\n",
              "1  3  4  5\n",
              "2  6  7  8"
            ]
          },
          "metadata": {},
          "execution_count": 3
        }
      ]
    },
    {
      "cell_type": "code",
      "metadata": {
        "id": "CXeTA7gnVDvo"
      },
      "source": [
        ""
      ],
      "execution_count": 3,
      "outputs": []
    },
    {
      "cell_type": "code",
      "metadata": {
        "colab": {
          "base_uri": "https://localhost:8080/",
          "height": 0
        },
        "id": "GPVGxoyGVO6C",
        "outputId": "79e8d284-1f8f-4f8a-9cbb-e4624c751ebf"
      },
      "source": [
        "# index에 이름 붙이기\n",
        "hier_df.index.names = ['key1', 'key2']\n",
        "\n",
        "# 컬럼에 이름 붙이기\n",
        "hier_df.columns.names = ['city', 'color']\n",
        "hier_df"
      ],
      "execution_count": 4,
      "outputs": [
        {
          "output_type": "execute_result",
          "data": {
            "text/html": [
              "<div>\n",
              "<style scoped>\n",
              "    .dataframe tbody tr th:only-of-type {\n",
              "        vertical-align: middle;\n",
              "    }\n",
              "\n",
              "    .dataframe tbody tr th {\n",
              "        vertical-align: top;\n",
              "    }\n",
              "\n",
              "    .dataframe thead tr th {\n",
              "        text-align: left;\n",
              "    }\n",
              "\n",
              "    .dataframe thead tr:last-of-type th {\n",
              "        text-align: right;\n",
              "    }\n",
              "</style>\n",
              "<table border=\"1\" class=\"dataframe\">\n",
              "  <thead>\n",
              "    <tr>\n",
              "      <th></th>\n",
              "      <th>city</th>\n",
              "      <th>Pusan</th>\n",
              "      <th>Seoul</th>\n",
              "      <th>Pusan</th>\n",
              "    </tr>\n",
              "    <tr>\n",
              "      <th></th>\n",
              "      <th>color</th>\n",
              "      <th>Blue</th>\n",
              "      <th>Red</th>\n",
              "      <th>Red</th>\n",
              "    </tr>\n",
              "    <tr>\n",
              "      <th>key1</th>\n",
              "      <th>key2</th>\n",
              "      <th></th>\n",
              "      <th></th>\n",
              "      <th></th>\n",
              "    </tr>\n",
              "  </thead>\n",
              "  <tbody>\n",
              "    <tr>\n",
              "      <th rowspan=\"2\" valign=\"top\">a</th>\n",
              "      <th>1</th>\n",
              "      <td>0</td>\n",
              "      <td>1</td>\n",
              "      <td>2</td>\n",
              "    </tr>\n",
              "    <tr>\n",
              "      <th>2</th>\n",
              "      <td>3</td>\n",
              "      <td>4</td>\n",
              "      <td>5</td>\n",
              "    </tr>\n",
              "    <tr>\n",
              "      <th>b</th>\n",
              "      <th>2</th>\n",
              "      <td>6</td>\n",
              "      <td>7</td>\n",
              "      <td>8</td>\n",
              "    </tr>\n",
              "  </tbody>\n",
              "</table>\n",
              "</div>"
            ],
            "text/plain": [
              "city      Pusan Seoul Pusan\n",
              "color      Blue   Red   Red\n",
              "key1 key2                  \n",
              "a    1        0     1     2\n",
              "     2        3     4     5\n",
              "b    2        6     7     8"
            ]
          },
          "metadata": {},
          "execution_count": 4
        }
      ]
    },
    {
      "cell_type": "markdown",
      "metadata": {
        "id": "H5pjEjd2S4Ly"
      },
      "source": [
        "컬럼 범위 축소"
      ]
    },
    {
      "cell_type": "code",
      "metadata": {
        "colab": {
          "base_uri": "https://localhost:8080/",
          "height": 0
        },
        "id": "FEXKUmmLSwbg",
        "outputId": "092f3056-f1f2-4287-f950-5340b6a0adb9"
      },
      "source": [
        "# city가 Pusan인 데이터만 보기\n",
        "hier_df['Pusan']"
      ],
      "execution_count": 5,
      "outputs": [
        {
          "output_type": "execute_result",
          "data": {
            "text/html": [
              "<div>\n",
              "<style scoped>\n",
              "    .dataframe tbody tr th:only-of-type {\n",
              "        vertical-align: middle;\n",
              "    }\n",
              "\n",
              "    .dataframe tbody tr th {\n",
              "        vertical-align: top;\n",
              "    }\n",
              "\n",
              "    .dataframe thead th {\n",
              "        text-align: right;\n",
              "    }\n",
              "</style>\n",
              "<table border=\"1\" class=\"dataframe\">\n",
              "  <thead>\n",
              "    <tr style=\"text-align: right;\">\n",
              "      <th></th>\n",
              "      <th>color</th>\n",
              "      <th>Blue</th>\n",
              "      <th>Red</th>\n",
              "    </tr>\n",
              "    <tr>\n",
              "      <th>key1</th>\n",
              "      <th>key2</th>\n",
              "      <th></th>\n",
              "      <th></th>\n",
              "    </tr>\n",
              "  </thead>\n",
              "  <tbody>\n",
              "    <tr>\n",
              "      <th rowspan=\"2\" valign=\"top\">a</th>\n",
              "      <th>1</th>\n",
              "      <td>0</td>\n",
              "      <td>2</td>\n",
              "    </tr>\n",
              "    <tr>\n",
              "      <th>2</th>\n",
              "      <td>3</td>\n",
              "      <td>5</td>\n",
              "    </tr>\n",
              "    <tr>\n",
              "      <th>b</th>\n",
              "      <th>2</th>\n",
              "      <td>6</td>\n",
              "      <td>8</td>\n",
              "    </tr>\n",
              "  </tbody>\n",
              "</table>\n",
              "</div>"
            ],
            "text/plain": [
              "color      Blue  Red\n",
              "key1 key2           \n",
              "a    1        0    2\n",
              "     2        3    5\n",
              "b    2        6    8"
            ]
          },
          "metadata": {},
          "execution_count": 5
        }
      ]
    },
    {
      "cell_type": "code",
      "metadata": {
        "colab": {
          "base_uri": "https://localhost:8080/"
        },
        "id": "DGfrDApqRuHq",
        "outputId": "95a8d8e1-2c53-44f4-d72b-2c8f2462a9c5"
      },
      "source": [
        "# 코드 쪼개기\n",
        "\n",
        "hier_df[('Pusan', 'Blue')]  # 상위층 인덱스로 먼저 접근 후 하위층 인덱스 접근이 가능"
      ],
      "execution_count": 6,
      "outputs": [
        {
          "output_type": "execute_result",
          "data": {
            "text/plain": [
              "key1  key2\n",
              "a     1       0\n",
              "      2       3\n",
              "b     2       6\n",
              "Name: (Pusan, Blue), dtype: int64"
            ]
          },
          "metadata": {},
          "execution_count": 6
        }
      ]
    },
    {
      "cell_type": "code",
      "metadata": {
        "colab": {
          "base_uri": "https://localhost:8080/"
        },
        "id": "mfnjgeUtSNdh",
        "outputId": "088f9cb8-6bed-4c85-fe60-9c96fa7994f0"
      },
      "source": [
        "# 코드 쪼개기\n",
        "\n",
        "hier_df['Pusan', 'Blue']  # 소괄호는 있어도 없어도 괜찮음"
      ],
      "execution_count": 7,
      "outputs": [
        {
          "output_type": "execute_result",
          "data": {
            "text/plain": [
              "key1  key2\n",
              "a     1       0\n",
              "      2       3\n",
              "b     2       6\n",
              "Name: (Pusan, Blue), dtype: int64"
            ]
          },
          "metadata": {},
          "execution_count": 7
        }
      ]
    },
    {
      "cell_type": "code",
      "metadata": {
        "colab": {
          "base_uri": "https://localhost:8080/"
        },
        "id": "VTGPLEUyvENj",
        "outputId": "dd355a85-7c30-4f4d-ce54-42a3df0dc726"
      },
      "source": [
        "# 코드 쪼개기\n",
        "\n",
        "data = {'Column 1'     : [1., 2., 3., 4.],\n",
        "        'Index Title'  : [\"Apples\", \"Oranges\", \"Puppies\", \"Ducks\"]}\n",
        "df = pd.DataFrame(data)\n",
        "df.index = df[\"Index Title\"]\n",
        "del df[\"Index Title\"]\n",
        "print(df)"
      ],
      "execution_count": 8,
      "outputs": [
        {
          "output_type": "stream",
          "text": [
            "             Column 1\n",
            "Index Title          \n",
            "Apples            1.0\n",
            "Oranges           2.0\n",
            "Puppies           3.0\n",
            "Ducks             4.0\n"
          ],
          "name": "stdout"
        }
      ]
    },
    {
      "cell_type": "code",
      "metadata": {
        "colab": {
          "base_uri": "https://localhost:8080/",
          "height": 0
        },
        "id": "JBpF7n5gvaot",
        "outputId": "bb7c363b-8d01-4eef-aea7-fc918a7d1cac"
      },
      "source": [
        "df.reset_index()"
      ],
      "execution_count": 9,
      "outputs": [
        {
          "output_type": "execute_result",
          "data": {
            "text/html": [
              "<div>\n",
              "<style scoped>\n",
              "    .dataframe tbody tr th:only-of-type {\n",
              "        vertical-align: middle;\n",
              "    }\n",
              "\n",
              "    .dataframe tbody tr th {\n",
              "        vertical-align: top;\n",
              "    }\n",
              "\n",
              "    .dataframe thead th {\n",
              "        text-align: right;\n",
              "    }\n",
              "</style>\n",
              "<table border=\"1\" class=\"dataframe\">\n",
              "  <thead>\n",
              "    <tr style=\"text-align: right;\">\n",
              "      <th></th>\n",
              "      <th>Index Title</th>\n",
              "      <th>Column 1</th>\n",
              "    </tr>\n",
              "  </thead>\n",
              "  <tbody>\n",
              "    <tr>\n",
              "      <th>0</th>\n",
              "      <td>Apples</td>\n",
              "      <td>1.0</td>\n",
              "    </tr>\n",
              "    <tr>\n",
              "      <th>1</th>\n",
              "      <td>Oranges</td>\n",
              "      <td>2.0</td>\n",
              "    </tr>\n",
              "    <tr>\n",
              "      <th>2</th>\n",
              "      <td>Puppies</td>\n",
              "      <td>3.0</td>\n",
              "    </tr>\n",
              "    <tr>\n",
              "      <th>3</th>\n",
              "      <td>Ducks</td>\n",
              "      <td>4.0</td>\n",
              "    </tr>\n",
              "  </tbody>\n",
              "</table>\n",
              "</div>"
            ],
            "text/plain": [
              "  Index Title  Column 1\n",
              "0      Apples       1.0\n",
              "1     Oranges       2.0\n",
              "2     Puppies       3.0\n",
              "3       Ducks       4.0"
            ]
          },
          "metadata": {},
          "execution_count": 9
        }
      ]
    },
    {
      "cell_type": "markdown",
      "metadata": {
        "id": "rE-l1q5pYYSJ"
      },
      "source": [
        "인덱스 기준 집계"
      ]
    },
    {
      "cell_type": "code",
      "metadata": {
        "colab": {
          "base_uri": "https://localhost:8080/",
          "height": 0
        },
        "id": "3e-dBhBXYP7M",
        "outputId": "802370bd-e514-498d-86b9-8ee07a5a5c79"
      },
      "source": [
        "# key2 인덱스 기준으로 집계\n",
        "\n",
        "# 계층별 요약통계량 : 행 합계\n",
        "hier_df.sum(level = 'key2', axis = 0)"
      ],
      "execution_count": 10,
      "outputs": [
        {
          "output_type": "execute_result",
          "data": {
            "text/html": [
              "<div>\n",
              "<style scoped>\n",
              "    .dataframe tbody tr th:only-of-type {\n",
              "        vertical-align: middle;\n",
              "    }\n",
              "\n",
              "    .dataframe tbody tr th {\n",
              "        vertical-align: top;\n",
              "    }\n",
              "\n",
              "    .dataframe thead tr th {\n",
              "        text-align: left;\n",
              "    }\n",
              "\n",
              "    .dataframe thead tr:last-of-type th {\n",
              "        text-align: right;\n",
              "    }\n",
              "</style>\n",
              "<table border=\"1\" class=\"dataframe\">\n",
              "  <thead>\n",
              "    <tr>\n",
              "      <th>city</th>\n",
              "      <th>Pusan</th>\n",
              "      <th>Seoul</th>\n",
              "      <th>Pusan</th>\n",
              "    </tr>\n",
              "    <tr>\n",
              "      <th>color</th>\n",
              "      <th>Blue</th>\n",
              "      <th>Red</th>\n",
              "      <th>Red</th>\n",
              "    </tr>\n",
              "    <tr>\n",
              "      <th>key2</th>\n",
              "      <th></th>\n",
              "      <th></th>\n",
              "      <th></th>\n",
              "    </tr>\n",
              "  </thead>\n",
              "  <tbody>\n",
              "    <tr>\n",
              "      <th>1</th>\n",
              "      <td>0</td>\n",
              "      <td>1</td>\n",
              "      <td>2</td>\n",
              "    </tr>\n",
              "    <tr>\n",
              "      <th>2</th>\n",
              "      <td>9</td>\n",
              "      <td>11</td>\n",
              "      <td>13</td>\n",
              "    </tr>\n",
              "  </tbody>\n",
              "</table>\n",
              "</div>"
            ],
            "text/plain": [
              "city  Pusan Seoul Pusan\n",
              "color  Blue   Red   Red\n",
              "key2                   \n",
              "1         0     1     2\n",
              "2         9    11    13"
            ]
          },
          "metadata": {},
          "execution_count": 10
        }
      ]
    },
    {
      "cell_type": "code",
      "metadata": {
        "colab": {
          "base_uri": "https://localhost:8080/",
          "height": 0
        },
        "id": "X9Qq5i6hYm9X",
        "outputId": "bbceeb4a-6119-4ede-8472-dc2984adc74d"
      },
      "source": [
        "# 계층별 요약통계량 : 열 합계\n",
        "hier_df.sum(level = 'color', axis = 1)"
      ],
      "execution_count": 11,
      "outputs": [
        {
          "output_type": "execute_result",
          "data": {
            "text/html": [
              "<div>\n",
              "<style scoped>\n",
              "    .dataframe tbody tr th:only-of-type {\n",
              "        vertical-align: middle;\n",
              "    }\n",
              "\n",
              "    .dataframe tbody tr th {\n",
              "        vertical-align: top;\n",
              "    }\n",
              "\n",
              "    .dataframe thead th {\n",
              "        text-align: right;\n",
              "    }\n",
              "</style>\n",
              "<table border=\"1\" class=\"dataframe\">\n",
              "  <thead>\n",
              "    <tr style=\"text-align: right;\">\n",
              "      <th></th>\n",
              "      <th>color</th>\n",
              "      <th>Blue</th>\n",
              "      <th>Red</th>\n",
              "    </tr>\n",
              "    <tr>\n",
              "      <th>key1</th>\n",
              "      <th>key2</th>\n",
              "      <th></th>\n",
              "      <th></th>\n",
              "    </tr>\n",
              "  </thead>\n",
              "  <tbody>\n",
              "    <tr>\n",
              "      <th rowspan=\"2\" valign=\"top\">a</th>\n",
              "      <th>1</th>\n",
              "      <td>0</td>\n",
              "      <td>3</td>\n",
              "    </tr>\n",
              "    <tr>\n",
              "      <th>2</th>\n",
              "      <td>3</td>\n",
              "      <td>9</td>\n",
              "    </tr>\n",
              "    <tr>\n",
              "      <th>b</th>\n",
              "      <th>2</th>\n",
              "      <td>6</td>\n",
              "      <td>15</td>\n",
              "    </tr>\n",
              "  </tbody>\n",
              "</table>\n",
              "</div>"
            ],
            "text/plain": [
              "color      Blue  Red\n",
              "key1 key2           \n",
              "a    1        0    3\n",
              "     2        3    9\n",
              "b    2        6   15"
            ]
          },
          "metadata": {},
          "execution_count": 11
        }
      ]
    },
    {
      "cell_type": "markdown",
      "metadata": {
        "id": "Kz3tlCyRY7O7"
      },
      "source": [
        "인덱스 원소 삭제"
      ]
    },
    {
      "cell_type": "code",
      "metadata": {
        "colab": {
          "base_uri": "https://localhost:8080/",
          "height": 0
        },
        "id": "SQWcL4x7Y4vI",
        "outputId": "815e35f3-f286-473d-f29e-99ee3668f4be"
      },
      "source": [
        "# drop 메서드 : 특정 인덱스를 삭제할 때 사용\n",
        "\n",
        "# key1의 b 인덱스 삭제\n",
        "\n",
        "hier_df.drop(['b'])"
      ],
      "execution_count": 12,
      "outputs": [
        {
          "output_type": "execute_result",
          "data": {
            "text/html": [
              "<div>\n",
              "<style scoped>\n",
              "    .dataframe tbody tr th:only-of-type {\n",
              "        vertical-align: middle;\n",
              "    }\n",
              "\n",
              "    .dataframe tbody tr th {\n",
              "        vertical-align: top;\n",
              "    }\n",
              "\n",
              "    .dataframe thead tr th {\n",
              "        text-align: left;\n",
              "    }\n",
              "\n",
              "    .dataframe thead tr:last-of-type th {\n",
              "        text-align: right;\n",
              "    }\n",
              "</style>\n",
              "<table border=\"1\" class=\"dataframe\">\n",
              "  <thead>\n",
              "    <tr>\n",
              "      <th></th>\n",
              "      <th>city</th>\n",
              "      <th>Pusan</th>\n",
              "      <th>Seoul</th>\n",
              "      <th>Pusan</th>\n",
              "    </tr>\n",
              "    <tr>\n",
              "      <th></th>\n",
              "      <th>color</th>\n",
              "      <th>Blue</th>\n",
              "      <th>Red</th>\n",
              "      <th>Red</th>\n",
              "    </tr>\n",
              "    <tr>\n",
              "      <th>key1</th>\n",
              "      <th>key2</th>\n",
              "      <th></th>\n",
              "      <th></th>\n",
              "      <th></th>\n",
              "    </tr>\n",
              "  </thead>\n",
              "  <tbody>\n",
              "    <tr>\n",
              "      <th rowspan=\"2\" valign=\"top\">a</th>\n",
              "      <th>1</th>\n",
              "      <td>0</td>\n",
              "      <td>1</td>\n",
              "      <td>2</td>\n",
              "    </tr>\n",
              "    <tr>\n",
              "      <th>2</th>\n",
              "      <td>3</td>\n",
              "      <td>4</td>\n",
              "      <td>5</td>\n",
              "    </tr>\n",
              "  </tbody>\n",
              "</table>\n",
              "</div>"
            ],
            "text/plain": [
              "city      Pusan Seoul Pusan\n",
              "color      Blue   Red   Red\n",
              "key1 key2                  \n",
              "a    1        0     1     2\n",
              "     2        3     4     5"
            ]
          },
          "metadata": {},
          "execution_count": 12
        }
      ]
    },
    {
      "cell_type": "code",
      "metadata": {
        "colab": {
          "base_uri": "https://localhost:8080/"
        },
        "id": "KSNxeXJAZJPs",
        "outputId": "d441393a-266f-4c06-bd90-2448e71e3c1a"
      },
      "source": [
        "# city의 Seoul 컬럼 삭제\n",
        "# 컬럼에서는 axis = 1 지정, inplace = True 하면 원본에 적용 / False면 사본 반환\n",
        "hier_df.drop(['Seoul'], axis = 1, inplace=True)"
      ],
      "execution_count": 13,
      "outputs": [
        {
          "output_type": "stream",
          "text": [
            "/usr/local/lib/python3.7/dist-packages/pandas/core/generic.py:3889: PerformanceWarning: dropping on a non-lexsorted multi-index without a level parameter may impact performance.\n",
            "  obj = obj._drop_axis(labels, axis, level=level, errors=errors)\n"
          ],
          "name": "stderr"
        }
      ]
    },
    {
      "cell_type": "markdown",
      "metadata": {
        "id": "8JQqvjn8bhtE"
      },
      "source": [
        "### [ 연습문제 6 - 1 ]\n",
        "다음 데이터에서 Daegu 열만 추출하세요."
      ]
    },
    {
      "cell_type": "code",
      "metadata": {
        "colab": {
          "base_uri": "https://localhost:8080/",
          "height": 0
        },
        "id": "E8aszyP2ZWZ1",
        "outputId": "43f2cf11-4e6b-41e2-ca4f-2cf7190c1777"
      },
      "source": [
        "hier_df1 = DataFrame(\n",
        "    np.arange(12).reshape((3,4)),\n",
        "    index = [['c','d','d'], [1, 2, 1]],\n",
        "    columns = [\n",
        "        ['Daegu', 'Daejeon', 'Gangneung', 'Daegu'],\n",
        "        ['Yellow', 'Yellow', 'Red', 'Blue']\n",
        "    ]\n",
        ")\n",
        "hier_df1.index.names = ['key1', 'key2']\n",
        "hier_df1.columns.names = ['city', 'color']\n",
        "hier_df1"
      ],
      "execution_count": 14,
      "outputs": [
        {
          "output_type": "execute_result",
          "data": {
            "text/html": [
              "<div>\n",
              "<style scoped>\n",
              "    .dataframe tbody tr th:only-of-type {\n",
              "        vertical-align: middle;\n",
              "    }\n",
              "\n",
              "    .dataframe tbody tr th {\n",
              "        vertical-align: top;\n",
              "    }\n",
              "\n",
              "    .dataframe thead tr th {\n",
              "        text-align: left;\n",
              "    }\n",
              "\n",
              "    .dataframe thead tr:last-of-type th {\n",
              "        text-align: right;\n",
              "    }\n",
              "</style>\n",
              "<table border=\"1\" class=\"dataframe\">\n",
              "  <thead>\n",
              "    <tr>\n",
              "      <th></th>\n",
              "      <th>city</th>\n",
              "      <th>Daegu</th>\n",
              "      <th>Daejeon</th>\n",
              "      <th>Gangneung</th>\n",
              "      <th>Daegu</th>\n",
              "    </tr>\n",
              "    <tr>\n",
              "      <th></th>\n",
              "      <th>color</th>\n",
              "      <th>Yellow</th>\n",
              "      <th>Yellow</th>\n",
              "      <th>Red</th>\n",
              "      <th>Blue</th>\n",
              "    </tr>\n",
              "    <tr>\n",
              "      <th>key1</th>\n",
              "      <th>key2</th>\n",
              "      <th></th>\n",
              "      <th></th>\n",
              "      <th></th>\n",
              "      <th></th>\n",
              "    </tr>\n",
              "  </thead>\n",
              "  <tbody>\n",
              "    <tr>\n",
              "      <th>c</th>\n",
              "      <th>1</th>\n",
              "      <td>0</td>\n",
              "      <td>1</td>\n",
              "      <td>2</td>\n",
              "      <td>3</td>\n",
              "    </tr>\n",
              "    <tr>\n",
              "      <th rowspan=\"2\" valign=\"top\">d</th>\n",
              "      <th>2</th>\n",
              "      <td>4</td>\n",
              "      <td>5</td>\n",
              "      <td>6</td>\n",
              "      <td>7</td>\n",
              "    </tr>\n",
              "    <tr>\n",
              "      <th>1</th>\n",
              "      <td>8</td>\n",
              "      <td>9</td>\n",
              "      <td>10</td>\n",
              "      <td>11</td>\n",
              "    </tr>\n",
              "  </tbody>\n",
              "</table>\n",
              "</div>"
            ],
            "text/plain": [
              "city       Daegu Daejeon Gangneung Daegu\n",
              "color     Yellow  Yellow       Red  Blue\n",
              "key1 key2                               \n",
              "c    1         0       1         2     3\n",
              "d    2         4       5         6     7\n",
              "     1         8       9        10    11"
            ]
          },
          "metadata": {},
          "execution_count": 14
        }
      ]
    },
    {
      "cell_type": "code",
      "metadata": {
        "colab": {
          "base_uri": "https://localhost:8080/",
          "height": 0
        },
        "id": "5zdTC80eam3x",
        "outputId": "c20c7d2a-d121-41bb-899b-0d47ddcd1264"
      },
      "source": [
        "# Daegu 열만 추출\n",
        "hier_df1['Daegu']"
      ],
      "execution_count": 15,
      "outputs": [
        {
          "output_type": "execute_result",
          "data": {
            "text/html": [
              "<div>\n",
              "<style scoped>\n",
              "    .dataframe tbody tr th:only-of-type {\n",
              "        vertical-align: middle;\n",
              "    }\n",
              "\n",
              "    .dataframe tbody tr th {\n",
              "        vertical-align: top;\n",
              "    }\n",
              "\n",
              "    .dataframe thead th {\n",
              "        text-align: right;\n",
              "    }\n",
              "</style>\n",
              "<table border=\"1\" class=\"dataframe\">\n",
              "  <thead>\n",
              "    <tr style=\"text-align: right;\">\n",
              "      <th></th>\n",
              "      <th>color</th>\n",
              "      <th>Yellow</th>\n",
              "      <th>Blue</th>\n",
              "    </tr>\n",
              "    <tr>\n",
              "      <th>key1</th>\n",
              "      <th>key2</th>\n",
              "      <th></th>\n",
              "      <th></th>\n",
              "    </tr>\n",
              "  </thead>\n",
              "  <tbody>\n",
              "    <tr>\n",
              "      <th>c</th>\n",
              "      <th>1</th>\n",
              "      <td>0</td>\n",
              "      <td>3</td>\n",
              "    </tr>\n",
              "    <tr>\n",
              "      <th rowspan=\"2\" valign=\"top\">d</th>\n",
              "      <th>2</th>\n",
              "      <td>4</td>\n",
              "      <td>7</td>\n",
              "    </tr>\n",
              "    <tr>\n",
              "      <th>1</th>\n",
              "      <td>8</td>\n",
              "      <td>11</td>\n",
              "    </tr>\n",
              "  </tbody>\n",
              "</table>\n",
              "</div>"
            ],
            "text/plain": [
              "color      Yellow  Blue\n",
              "key1 key2              \n",
              "c    1          0     3\n",
              "d    2          4     7\n",
              "     1          8    11"
            ]
          },
          "metadata": {},
          "execution_count": 15
        }
      ]
    },
    {
      "cell_type": "markdown",
      "metadata": {
        "id": "0lbI_aBEehzG"
      },
      "source": [
        "### [ 연습문제 6 - 2 ]\n",
        "연습문제 6-1 데이터에서 city별 평균값을 산출하세요."
      ]
    },
    {
      "cell_type": "code",
      "metadata": {
        "colab": {
          "base_uri": "https://localhost:8080/",
          "height": 0
        },
        "id": "g5Getv5EBqB7",
        "outputId": "35403244-b555-4619-ff8a-816134fbf272"
      },
      "source": [
        "hier_df1.mean(level = 'city', axis = 1)"
      ],
      "execution_count": 16,
      "outputs": [
        {
          "output_type": "execute_result",
          "data": {
            "text/html": [
              "<div>\n",
              "<style scoped>\n",
              "    .dataframe tbody tr th:only-of-type {\n",
              "        vertical-align: middle;\n",
              "    }\n",
              "\n",
              "    .dataframe tbody tr th {\n",
              "        vertical-align: top;\n",
              "    }\n",
              "\n",
              "    .dataframe thead th {\n",
              "        text-align: right;\n",
              "    }\n",
              "</style>\n",
              "<table border=\"1\" class=\"dataframe\">\n",
              "  <thead>\n",
              "    <tr style=\"text-align: right;\">\n",
              "      <th></th>\n",
              "      <th>city</th>\n",
              "      <th>Daegu</th>\n",
              "      <th>Daejeon</th>\n",
              "      <th>Gangneung</th>\n",
              "    </tr>\n",
              "    <tr>\n",
              "      <th>key1</th>\n",
              "      <th>key2</th>\n",
              "      <th></th>\n",
              "      <th></th>\n",
              "      <th></th>\n",
              "    </tr>\n",
              "  </thead>\n",
              "  <tbody>\n",
              "    <tr>\n",
              "      <th>c</th>\n",
              "      <th>1</th>\n",
              "      <td>1.5</td>\n",
              "      <td>1.0</td>\n",
              "      <td>2.0</td>\n",
              "    </tr>\n",
              "    <tr>\n",
              "      <th rowspan=\"2\" valign=\"top\">d</th>\n",
              "      <th>2</th>\n",
              "      <td>5.5</td>\n",
              "      <td>5.0</td>\n",
              "      <td>6.0</td>\n",
              "    </tr>\n",
              "    <tr>\n",
              "      <th>1</th>\n",
              "      <td>9.5</td>\n",
              "      <td>9.0</td>\n",
              "      <td>10.0</td>\n",
              "    </tr>\n",
              "  </tbody>\n",
              "</table>\n",
              "</div>"
            ],
            "text/plain": [
              "city       Daegu  Daejeon  Gangneung\n",
              "key1 key2                           \n",
              "c    1       1.5      1.0        2.0\n",
              "d    2       5.5      5.0        6.0\n",
              "     1       9.5      9.0       10.0"
            ]
          },
          "metadata": {},
          "execution_count": 16
        }
      ]
    },
    {
      "cell_type": "markdown",
      "metadata": {
        "id": "Sq9gL-Q1fm4H"
      },
      "source": [
        "### [ 연습문제 6 - 3 ]\n",
        "연습문제 6-1 데이터에서 key2별로 각 행의 합계를 산출하세요."
      ]
    },
    {
      "cell_type": "code",
      "metadata": {
        "colab": {
          "base_uri": "https://localhost:8080/",
          "height": 0
        },
        "id": "nXoQEFT7eyKP",
        "outputId": "fee61cbe-4825-4f16-cc2d-41e8b7b4b39f"
      },
      "source": [
        "hier_df1.sum(level = 'key2', axis = 0)"
      ],
      "execution_count": 17,
      "outputs": [
        {
          "output_type": "execute_result",
          "data": {
            "text/html": [
              "<div>\n",
              "<style scoped>\n",
              "    .dataframe tbody tr th:only-of-type {\n",
              "        vertical-align: middle;\n",
              "    }\n",
              "\n",
              "    .dataframe tbody tr th {\n",
              "        vertical-align: top;\n",
              "    }\n",
              "\n",
              "    .dataframe thead tr th {\n",
              "        text-align: left;\n",
              "    }\n",
              "\n",
              "    .dataframe thead tr:last-of-type th {\n",
              "        text-align: right;\n",
              "    }\n",
              "</style>\n",
              "<table border=\"1\" class=\"dataframe\">\n",
              "  <thead>\n",
              "    <tr>\n",
              "      <th>city</th>\n",
              "      <th>Daegu</th>\n",
              "      <th>Daejeon</th>\n",
              "      <th>Gangneung</th>\n",
              "      <th>Daegu</th>\n",
              "    </tr>\n",
              "    <tr>\n",
              "      <th>color</th>\n",
              "      <th>Yellow</th>\n",
              "      <th>Yellow</th>\n",
              "      <th>Red</th>\n",
              "      <th>Blue</th>\n",
              "    </tr>\n",
              "    <tr>\n",
              "      <th>key2</th>\n",
              "      <th></th>\n",
              "      <th></th>\n",
              "      <th></th>\n",
              "      <th></th>\n",
              "    </tr>\n",
              "  </thead>\n",
              "  <tbody>\n",
              "    <tr>\n",
              "      <th>1</th>\n",
              "      <td>8</td>\n",
              "      <td>10</td>\n",
              "      <td>12</td>\n",
              "      <td>14</td>\n",
              "    </tr>\n",
              "    <tr>\n",
              "      <th>2</th>\n",
              "      <td>4</td>\n",
              "      <td>5</td>\n",
              "      <td>6</td>\n",
              "      <td>7</td>\n",
              "    </tr>\n",
              "  </tbody>\n",
              "</table>\n",
              "</div>"
            ],
            "text/plain": [
              "city   Daegu Daejeon Gangneung Daegu\n",
              "color Yellow  Yellow       Red  Blue\n",
              "key2                                \n",
              "1          8      10        12    14\n",
              "2          4       5         6     7"
            ]
          },
          "metadata": {},
          "execution_count": 17
        }
      ]
    },
    {
      "cell_type": "markdown",
      "metadata": {
        "id": "BvYwEuEhhHJx"
      },
      "source": [
        "6.2.2 데이터 결합"
      ]
    },
    {
      "cell_type": "code",
      "metadata": {
        "id": "ifgcYP-bg8kq"
      },
      "source": [
        "# 다양한 패턴의 결합방식 알아보기"
      ],
      "execution_count": 18,
      "outputs": []
    },
    {
      "cell_type": "code",
      "metadata": {
        "colab": {
          "base_uri": "https://localhost:8080/",
          "height": 0
        },
        "id": "bvM0fYFEiuog",
        "outputId": "7de05952-39ae-4198-ad73-9da472efc943"
      },
      "source": [
        "# data1 생성\n",
        "data1 = {\n",
        "    'id' : ['100', '101', '102', '103', '104', '106', '108', '110', '111', '113'],\n",
        "    'city' : ['Seoul', 'Pusan', 'Daegu', 'Gangneung', 'Seoul', 'Seoul', 'Pusan', 'Daegu', 'Gangneung', 'Seoul'],\n",
        "    'birth_year' : [1990, 1989, 1992, 1997, 1982, 1991, 1988, 1990, 1995, 1981],\n",
        "    'name' : ['Junho', 'Heejin', 'Mijung', 'Minho', 'Steeve', 'Mina', 'Sumi', 'Minsu', 'Jinhee', 'Daeho']\n",
        "}\n",
        "df1 = DataFrame(data1)\n",
        "df1"
      ],
      "execution_count": 19,
      "outputs": [
        {
          "output_type": "execute_result",
          "data": {
            "text/html": [
              "<div>\n",
              "<style scoped>\n",
              "    .dataframe tbody tr th:only-of-type {\n",
              "        vertical-align: middle;\n",
              "    }\n",
              "\n",
              "    .dataframe tbody tr th {\n",
              "        vertical-align: top;\n",
              "    }\n",
              "\n",
              "    .dataframe thead th {\n",
              "        text-align: right;\n",
              "    }\n",
              "</style>\n",
              "<table border=\"1\" class=\"dataframe\">\n",
              "  <thead>\n",
              "    <tr style=\"text-align: right;\">\n",
              "      <th></th>\n",
              "      <th>id</th>\n",
              "      <th>city</th>\n",
              "      <th>birth_year</th>\n",
              "      <th>name</th>\n",
              "    </tr>\n",
              "  </thead>\n",
              "  <tbody>\n",
              "    <tr>\n",
              "      <th>0</th>\n",
              "      <td>100</td>\n",
              "      <td>Seoul</td>\n",
              "      <td>1990</td>\n",
              "      <td>Junho</td>\n",
              "    </tr>\n",
              "    <tr>\n",
              "      <th>1</th>\n",
              "      <td>101</td>\n",
              "      <td>Pusan</td>\n",
              "      <td>1989</td>\n",
              "      <td>Heejin</td>\n",
              "    </tr>\n",
              "    <tr>\n",
              "      <th>2</th>\n",
              "      <td>102</td>\n",
              "      <td>Daegu</td>\n",
              "      <td>1992</td>\n",
              "      <td>Mijung</td>\n",
              "    </tr>\n",
              "    <tr>\n",
              "      <th>3</th>\n",
              "      <td>103</td>\n",
              "      <td>Gangneung</td>\n",
              "      <td>1997</td>\n",
              "      <td>Minho</td>\n",
              "    </tr>\n",
              "    <tr>\n",
              "      <th>4</th>\n",
              "      <td>104</td>\n",
              "      <td>Seoul</td>\n",
              "      <td>1982</td>\n",
              "      <td>Steeve</td>\n",
              "    </tr>\n",
              "    <tr>\n",
              "      <th>5</th>\n",
              "      <td>106</td>\n",
              "      <td>Seoul</td>\n",
              "      <td>1991</td>\n",
              "      <td>Mina</td>\n",
              "    </tr>\n",
              "    <tr>\n",
              "      <th>6</th>\n",
              "      <td>108</td>\n",
              "      <td>Pusan</td>\n",
              "      <td>1988</td>\n",
              "      <td>Sumi</td>\n",
              "    </tr>\n",
              "    <tr>\n",
              "      <th>7</th>\n",
              "      <td>110</td>\n",
              "      <td>Daegu</td>\n",
              "      <td>1990</td>\n",
              "      <td>Minsu</td>\n",
              "    </tr>\n",
              "    <tr>\n",
              "      <th>8</th>\n",
              "      <td>111</td>\n",
              "      <td>Gangneung</td>\n",
              "      <td>1995</td>\n",
              "      <td>Jinhee</td>\n",
              "    </tr>\n",
              "    <tr>\n",
              "      <th>9</th>\n",
              "      <td>113</td>\n",
              "      <td>Seoul</td>\n",
              "      <td>1981</td>\n",
              "      <td>Daeho</td>\n",
              "    </tr>\n",
              "  </tbody>\n",
              "</table>\n",
              "</div>"
            ],
            "text/plain": [
              "    id       city  birth_year    name\n",
              "0  100      Seoul        1990   Junho\n",
              "1  101      Pusan        1989  Heejin\n",
              "2  102      Daegu        1992  Mijung\n",
              "3  103  Gangneung        1997   Minho\n",
              "4  104      Seoul        1982  Steeve\n",
              "5  106      Seoul        1991    Mina\n",
              "6  108      Pusan        1988    Sumi\n",
              "7  110      Daegu        1990   Minsu\n",
              "8  111  Gangneung        1995  Jinhee\n",
              "9  113      Seoul        1981   Daeho"
            ]
          },
          "metadata": {},
          "execution_count": 19
        }
      ]
    },
    {
      "cell_type": "code",
      "metadata": {
        "id": "6WNB0j9D7urw"
      },
      "source": [
        "# 코드 쪼개기\n",
        "# 딕셔너리 키 하나에 밸류 리스트로 여러개 넣기\n",
        "# 딕셔너리로 데이터프레임 만들기\n",
        "# data1 = {\n",
        "#    'id' : ['100', '101', '102', '103', '104', '106', '108', '110', '111', '113'],\n",
        "#    'city' : ['Seoul', 'Pusan', 'Daegu', 'Gangneung', 'Seoul', 'Seoul', 'Pusan', 'Daegu', 'Gangneung', 'Seoul'],\n",
        "#    'birth_year' : [1990, 1989, 1992, 1997, 1982, 1991, 1988, 1990, 1995, 1981],\n",
        "#    'name' : ['Junho', 'Heejin', 'Mijung', 'Minho', 'Steeve', 'Mina', 'Sumi', 'Minsu', 'Jinhee', 'Daeho']\n",
        "#}\n"
      ],
      "execution_count": 20,
      "outputs": []
    },
    {
      "cell_type": "code",
      "metadata": {
        "id": "87CVmgs6jryU",
        "colab": {
          "base_uri": "https://localhost:8080/",
          "height": 0
        },
        "outputId": "8edc8a40-8025-4cd5-fd40-5288c2bf79a4"
      },
      "source": [
        "# 데이터 2 생성\n",
        "data2 = {\n",
        "    'id' : ['100', '101', '102', '105', '107'],\n",
        "    'math' : [50, 43, 33, 76, 98],\n",
        "    'english' : [90, 30, 20, 50, 30],\n",
        "    'sex' : ['M', 'F', 'F', 'M', 'M'],\n",
        "    'index_num' : [0, 1, 2, 3, 4]\n",
        "}\n",
        "df2 = DataFrame(data2)\n",
        "df2"
      ],
      "execution_count": 21,
      "outputs": [
        {
          "output_type": "execute_result",
          "data": {
            "text/html": [
              "<div>\n",
              "<style scoped>\n",
              "    .dataframe tbody tr th:only-of-type {\n",
              "        vertical-align: middle;\n",
              "    }\n",
              "\n",
              "    .dataframe tbody tr th {\n",
              "        vertical-align: top;\n",
              "    }\n",
              "\n",
              "    .dataframe thead th {\n",
              "        text-align: right;\n",
              "    }\n",
              "</style>\n",
              "<table border=\"1\" class=\"dataframe\">\n",
              "  <thead>\n",
              "    <tr style=\"text-align: right;\">\n",
              "      <th></th>\n",
              "      <th>id</th>\n",
              "      <th>math</th>\n",
              "      <th>english</th>\n",
              "      <th>sex</th>\n",
              "      <th>index_num</th>\n",
              "    </tr>\n",
              "  </thead>\n",
              "  <tbody>\n",
              "    <tr>\n",
              "      <th>0</th>\n",
              "      <td>100</td>\n",
              "      <td>50</td>\n",
              "      <td>90</td>\n",
              "      <td>M</td>\n",
              "      <td>0</td>\n",
              "    </tr>\n",
              "    <tr>\n",
              "      <th>1</th>\n",
              "      <td>101</td>\n",
              "      <td>43</td>\n",
              "      <td>30</td>\n",
              "      <td>F</td>\n",
              "      <td>1</td>\n",
              "    </tr>\n",
              "    <tr>\n",
              "      <th>2</th>\n",
              "      <td>102</td>\n",
              "      <td>33</td>\n",
              "      <td>20</td>\n",
              "      <td>F</td>\n",
              "      <td>2</td>\n",
              "    </tr>\n",
              "    <tr>\n",
              "      <th>3</th>\n",
              "      <td>105</td>\n",
              "      <td>76</td>\n",
              "      <td>50</td>\n",
              "      <td>M</td>\n",
              "      <td>3</td>\n",
              "    </tr>\n",
              "    <tr>\n",
              "      <th>4</th>\n",
              "      <td>107</td>\n",
              "      <td>98</td>\n",
              "      <td>30</td>\n",
              "      <td>M</td>\n",
              "      <td>4</td>\n",
              "    </tr>\n",
              "  </tbody>\n",
              "</table>\n",
              "</div>"
            ],
            "text/plain": [
              "    id  math  english sex  index_num\n",
              "0  100    50       90   M          0\n",
              "1  101    43       30   F          1\n",
              "2  102    33       20   F          2\n",
              "3  105    76       50   M          3\n",
              "4  107    98       30   M          4"
            ]
          },
          "metadata": {},
          "execution_count": 21
        }
      ]
    },
    {
      "cell_type": "markdown",
      "metadata": {
        "id": "T9Fjt1V49kyS"
      },
      "source": [
        "결합"
      ]
    },
    {
      "cell_type": "code",
      "metadata": {
        "id": "WBsG6y7q9hRV"
      },
      "source": [
        "# 내부결합 : 양쪽 데이터에 공통 키 값이 있을 때 결합\n",
        "# 외부결합 : 양쪽 모든 데이터 결합\n",
        "# 왼쪽결합 : 왼쪽 데이터의 키 값을 기준으로 결합\n",
        "# 오른쪽결합 : 오른쪽 데이터의 키 값을 기준으로 결합"
      ],
      "execution_count": 22,
      "outputs": []
    },
    {
      "cell_type": "markdown",
      "metadata": {
        "id": "SnOzlGEW978F"
      },
      "source": [
        "내부결합"
      ]
    },
    {
      "cell_type": "code",
      "metadata": {
        "id": "NRuyaXjG925p"
      },
      "source": [
        "# merge 메서드 : 내부결합이 기본 값"
      ],
      "execution_count": 23,
      "outputs": []
    },
    {
      "cell_type": "code",
      "metadata": {
        "colab": {
          "base_uri": "https://localhost:8080/",
          "height": 0
        },
        "id": "8Kv0BLy_-Q1p",
        "outputId": "dc57a33e-0fd3-4469-8383-b88e2b8bd915"
      },
      "source": [
        "# 데이터 결합(내부결합, 키는 자동으로 인식하지만 on으로 명시적으로 지정할 수 있음)\n",
        "print('*결합 테이블')\n",
        "pd.merge(df1, df2, on = 'id') # on = 'id' 부분 삭제해도 자동 머지\n",
        "\n",
        "# 동일한 id값이 양쪽 DataFrame 객체에 존재하는 것만 출력"
      ],
      "execution_count": 24,
      "outputs": [
        {
          "output_type": "stream",
          "text": [
            "*결합 테이블\n"
          ],
          "name": "stdout"
        },
        {
          "output_type": "execute_result",
          "data": {
            "text/html": [
              "<div>\n",
              "<style scoped>\n",
              "    .dataframe tbody tr th:only-of-type {\n",
              "        vertical-align: middle;\n",
              "    }\n",
              "\n",
              "    .dataframe tbody tr th {\n",
              "        vertical-align: top;\n",
              "    }\n",
              "\n",
              "    .dataframe thead th {\n",
              "        text-align: right;\n",
              "    }\n",
              "</style>\n",
              "<table border=\"1\" class=\"dataframe\">\n",
              "  <thead>\n",
              "    <tr style=\"text-align: right;\">\n",
              "      <th></th>\n",
              "      <th>id</th>\n",
              "      <th>city</th>\n",
              "      <th>birth_year</th>\n",
              "      <th>name</th>\n",
              "      <th>math</th>\n",
              "      <th>english</th>\n",
              "      <th>sex</th>\n",
              "      <th>index_num</th>\n",
              "    </tr>\n",
              "  </thead>\n",
              "  <tbody>\n",
              "    <tr>\n",
              "      <th>0</th>\n",
              "      <td>100</td>\n",
              "      <td>Seoul</td>\n",
              "      <td>1990</td>\n",
              "      <td>Junho</td>\n",
              "      <td>50</td>\n",
              "      <td>90</td>\n",
              "      <td>M</td>\n",
              "      <td>0</td>\n",
              "    </tr>\n",
              "    <tr>\n",
              "      <th>1</th>\n",
              "      <td>101</td>\n",
              "      <td>Pusan</td>\n",
              "      <td>1989</td>\n",
              "      <td>Heejin</td>\n",
              "      <td>43</td>\n",
              "      <td>30</td>\n",
              "      <td>F</td>\n",
              "      <td>1</td>\n",
              "    </tr>\n",
              "    <tr>\n",
              "      <th>2</th>\n",
              "      <td>102</td>\n",
              "      <td>Daegu</td>\n",
              "      <td>1992</td>\n",
              "      <td>Mijung</td>\n",
              "      <td>33</td>\n",
              "      <td>20</td>\n",
              "      <td>F</td>\n",
              "      <td>2</td>\n",
              "    </tr>\n",
              "  </tbody>\n",
              "</table>\n",
              "</div>"
            ],
            "text/plain": [
              "    id   city  birth_year    name  math  english sex  index_num\n",
              "0  100  Seoul        1990   Junho    50       90   M          0\n",
              "1  101  Pusan        1989  Heejin    43       30   F          1\n",
              "2  102  Daegu        1992  Mijung    33       20   F          2"
            ]
          },
          "metadata": {},
          "execution_count": 24
        }
      ]
    },
    {
      "cell_type": "markdown",
      "metadata": {
        "id": "OU_rR93T-9TO"
      },
      "source": [
        "외부결합"
      ]
    },
    {
      "cell_type": "code",
      "metadata": {
        "id": "bTkL-FRz-eIV"
      },
      "source": [
        "# 양쪽 테이블 모두 결합하는 전결합\n",
        "# how 파라미터에 outer 지정\n",
        "# 결합된 데이터의 특정 변수가 값이 없을 때 NaN으로 표시"
      ],
      "execution_count": 25,
      "outputs": []
    },
    {
      "cell_type": "code",
      "metadata": {
        "colab": {
          "base_uri": "https://localhost:8080/",
          "height": 0
        },
        "id": "tDE0QLvh_LgX",
        "outputId": "2780aa54-548a-425e-87a9-c8c035eba537"
      },
      "source": [
        "# 데이터 결합(전결합)\n",
        "pd.merge(df1, df2, how = 'outer')"
      ],
      "execution_count": 26,
      "outputs": [
        {
          "output_type": "execute_result",
          "data": {
            "text/html": [
              "<div>\n",
              "<style scoped>\n",
              "    .dataframe tbody tr th:only-of-type {\n",
              "        vertical-align: middle;\n",
              "    }\n",
              "\n",
              "    .dataframe tbody tr th {\n",
              "        vertical-align: top;\n",
              "    }\n",
              "\n",
              "    .dataframe thead th {\n",
              "        text-align: right;\n",
              "    }\n",
              "</style>\n",
              "<table border=\"1\" class=\"dataframe\">\n",
              "  <thead>\n",
              "    <tr style=\"text-align: right;\">\n",
              "      <th></th>\n",
              "      <th>id</th>\n",
              "      <th>city</th>\n",
              "      <th>birth_year</th>\n",
              "      <th>name</th>\n",
              "      <th>math</th>\n",
              "      <th>english</th>\n",
              "      <th>sex</th>\n",
              "      <th>index_num</th>\n",
              "    </tr>\n",
              "  </thead>\n",
              "  <tbody>\n",
              "    <tr>\n",
              "      <th>0</th>\n",
              "      <td>100</td>\n",
              "      <td>Seoul</td>\n",
              "      <td>1990.0</td>\n",
              "      <td>Junho</td>\n",
              "      <td>50.0</td>\n",
              "      <td>90.0</td>\n",
              "      <td>M</td>\n",
              "      <td>0.0</td>\n",
              "    </tr>\n",
              "    <tr>\n",
              "      <th>1</th>\n",
              "      <td>101</td>\n",
              "      <td>Pusan</td>\n",
              "      <td>1989.0</td>\n",
              "      <td>Heejin</td>\n",
              "      <td>43.0</td>\n",
              "      <td>30.0</td>\n",
              "      <td>F</td>\n",
              "      <td>1.0</td>\n",
              "    </tr>\n",
              "    <tr>\n",
              "      <th>2</th>\n",
              "      <td>102</td>\n",
              "      <td>Daegu</td>\n",
              "      <td>1992.0</td>\n",
              "      <td>Mijung</td>\n",
              "      <td>33.0</td>\n",
              "      <td>20.0</td>\n",
              "      <td>F</td>\n",
              "      <td>2.0</td>\n",
              "    </tr>\n",
              "    <tr>\n",
              "      <th>3</th>\n",
              "      <td>103</td>\n",
              "      <td>Gangneung</td>\n",
              "      <td>1997.0</td>\n",
              "      <td>Minho</td>\n",
              "      <td>NaN</td>\n",
              "      <td>NaN</td>\n",
              "      <td>NaN</td>\n",
              "      <td>NaN</td>\n",
              "    </tr>\n",
              "    <tr>\n",
              "      <th>4</th>\n",
              "      <td>104</td>\n",
              "      <td>Seoul</td>\n",
              "      <td>1982.0</td>\n",
              "      <td>Steeve</td>\n",
              "      <td>NaN</td>\n",
              "      <td>NaN</td>\n",
              "      <td>NaN</td>\n",
              "      <td>NaN</td>\n",
              "    </tr>\n",
              "    <tr>\n",
              "      <th>5</th>\n",
              "      <td>106</td>\n",
              "      <td>Seoul</td>\n",
              "      <td>1991.0</td>\n",
              "      <td>Mina</td>\n",
              "      <td>NaN</td>\n",
              "      <td>NaN</td>\n",
              "      <td>NaN</td>\n",
              "      <td>NaN</td>\n",
              "    </tr>\n",
              "    <tr>\n",
              "      <th>6</th>\n",
              "      <td>108</td>\n",
              "      <td>Pusan</td>\n",
              "      <td>1988.0</td>\n",
              "      <td>Sumi</td>\n",
              "      <td>NaN</td>\n",
              "      <td>NaN</td>\n",
              "      <td>NaN</td>\n",
              "      <td>NaN</td>\n",
              "    </tr>\n",
              "    <tr>\n",
              "      <th>7</th>\n",
              "      <td>110</td>\n",
              "      <td>Daegu</td>\n",
              "      <td>1990.0</td>\n",
              "      <td>Minsu</td>\n",
              "      <td>NaN</td>\n",
              "      <td>NaN</td>\n",
              "      <td>NaN</td>\n",
              "      <td>NaN</td>\n",
              "    </tr>\n",
              "    <tr>\n",
              "      <th>8</th>\n",
              "      <td>111</td>\n",
              "      <td>Gangneung</td>\n",
              "      <td>1995.0</td>\n",
              "      <td>Jinhee</td>\n",
              "      <td>NaN</td>\n",
              "      <td>NaN</td>\n",
              "      <td>NaN</td>\n",
              "      <td>NaN</td>\n",
              "    </tr>\n",
              "    <tr>\n",
              "      <th>9</th>\n",
              "      <td>113</td>\n",
              "      <td>Seoul</td>\n",
              "      <td>1981.0</td>\n",
              "      <td>Daeho</td>\n",
              "      <td>NaN</td>\n",
              "      <td>NaN</td>\n",
              "      <td>NaN</td>\n",
              "      <td>NaN</td>\n",
              "    </tr>\n",
              "    <tr>\n",
              "      <th>10</th>\n",
              "      <td>105</td>\n",
              "      <td>NaN</td>\n",
              "      <td>NaN</td>\n",
              "      <td>NaN</td>\n",
              "      <td>76.0</td>\n",
              "      <td>50.0</td>\n",
              "      <td>M</td>\n",
              "      <td>3.0</td>\n",
              "    </tr>\n",
              "    <tr>\n",
              "      <th>11</th>\n",
              "      <td>107</td>\n",
              "      <td>NaN</td>\n",
              "      <td>NaN</td>\n",
              "      <td>NaN</td>\n",
              "      <td>98.0</td>\n",
              "      <td>30.0</td>\n",
              "      <td>M</td>\n",
              "      <td>4.0</td>\n",
              "    </tr>\n",
              "  </tbody>\n",
              "</table>\n",
              "</div>"
            ],
            "text/plain": [
              "     id       city  birth_year    name  math  english  sex  index_num\n",
              "0   100      Seoul      1990.0   Junho  50.0     90.0    M        0.0\n",
              "1   101      Pusan      1989.0  Heejin  43.0     30.0    F        1.0\n",
              "2   102      Daegu      1992.0  Mijung  33.0     20.0    F        2.0\n",
              "3   103  Gangneung      1997.0   Minho   NaN      NaN  NaN        NaN\n",
              "4   104      Seoul      1982.0  Steeve   NaN      NaN  NaN        NaN\n",
              "5   106      Seoul      1991.0    Mina   NaN      NaN  NaN        NaN\n",
              "6   108      Pusan      1988.0    Sumi   NaN      NaN  NaN        NaN\n",
              "7   110      Daegu      1990.0   Minsu   NaN      NaN  NaN        NaN\n",
              "8   111  Gangneung      1995.0  Jinhee   NaN      NaN  NaN        NaN\n",
              "9   113      Seoul      1981.0   Daeho   NaN      NaN  NaN        NaN\n",
              "10  105        NaN         NaN     NaN  76.0     50.0    M        3.0\n",
              "11  107        NaN         NaN     NaN  98.0     30.0    M        4.0"
            ]
          },
          "metadata": {},
          "execution_count": 26
        }
      ]
    },
    {
      "cell_type": "code",
      "metadata": {
        "id": "ayytmM1d_Sk4"
      },
      "source": [
        "# left_index이나 right_on 파라미터로 키를 인덱스로 지정해 결합"
      ],
      "execution_count": 27,
      "outputs": []
    },
    {
      "cell_type": "code",
      "metadata": {
        "colab": {
          "base_uri": "https://localhost:8080/",
          "height": 0
        },
        "id": "LoGSr-u2DAop",
        "outputId": "79bb286e-b8f5-4ee8-d55a-630c4a6685ae"
      },
      "source": [
        "# index를 이용한 결합\n",
        "pd.merge(df1, df2, left_index = True, right_on = 'index_num')"
      ],
      "execution_count": 28,
      "outputs": [
        {
          "output_type": "execute_result",
          "data": {
            "text/html": [
              "<div>\n",
              "<style scoped>\n",
              "    .dataframe tbody tr th:only-of-type {\n",
              "        vertical-align: middle;\n",
              "    }\n",
              "\n",
              "    .dataframe tbody tr th {\n",
              "        vertical-align: top;\n",
              "    }\n",
              "\n",
              "    .dataframe thead th {\n",
              "        text-align: right;\n",
              "    }\n",
              "</style>\n",
              "<table border=\"1\" class=\"dataframe\">\n",
              "  <thead>\n",
              "    <tr style=\"text-align: right;\">\n",
              "      <th></th>\n",
              "      <th>id_x</th>\n",
              "      <th>city</th>\n",
              "      <th>birth_year</th>\n",
              "      <th>name</th>\n",
              "      <th>id_y</th>\n",
              "      <th>math</th>\n",
              "      <th>english</th>\n",
              "      <th>sex</th>\n",
              "      <th>index_num</th>\n",
              "    </tr>\n",
              "  </thead>\n",
              "  <tbody>\n",
              "    <tr>\n",
              "      <th>0</th>\n",
              "      <td>100</td>\n",
              "      <td>Seoul</td>\n",
              "      <td>1990</td>\n",
              "      <td>Junho</td>\n",
              "      <td>100</td>\n",
              "      <td>50</td>\n",
              "      <td>90</td>\n",
              "      <td>M</td>\n",
              "      <td>0</td>\n",
              "    </tr>\n",
              "    <tr>\n",
              "      <th>1</th>\n",
              "      <td>101</td>\n",
              "      <td>Pusan</td>\n",
              "      <td>1989</td>\n",
              "      <td>Heejin</td>\n",
              "      <td>101</td>\n",
              "      <td>43</td>\n",
              "      <td>30</td>\n",
              "      <td>F</td>\n",
              "      <td>1</td>\n",
              "    </tr>\n",
              "    <tr>\n",
              "      <th>2</th>\n",
              "      <td>102</td>\n",
              "      <td>Daegu</td>\n",
              "      <td>1992</td>\n",
              "      <td>Mijung</td>\n",
              "      <td>102</td>\n",
              "      <td>33</td>\n",
              "      <td>20</td>\n",
              "      <td>F</td>\n",
              "      <td>2</td>\n",
              "    </tr>\n",
              "    <tr>\n",
              "      <th>3</th>\n",
              "      <td>103</td>\n",
              "      <td>Gangneung</td>\n",
              "      <td>1997</td>\n",
              "      <td>Minho</td>\n",
              "      <td>105</td>\n",
              "      <td>76</td>\n",
              "      <td>50</td>\n",
              "      <td>M</td>\n",
              "      <td>3</td>\n",
              "    </tr>\n",
              "    <tr>\n",
              "      <th>4</th>\n",
              "      <td>104</td>\n",
              "      <td>Seoul</td>\n",
              "      <td>1982</td>\n",
              "      <td>Steeve</td>\n",
              "      <td>107</td>\n",
              "      <td>98</td>\n",
              "      <td>30</td>\n",
              "      <td>M</td>\n",
              "      <td>4</td>\n",
              "    </tr>\n",
              "  </tbody>\n",
              "</table>\n",
              "</div>"
            ],
            "text/plain": [
              "  id_x       city  birth_year    name id_y  math  english sex  index_num\n",
              "0  100      Seoul        1990   Junho  100    50       90   M          0\n",
              "1  101      Pusan        1989  Heejin  101    43       30   F          1\n",
              "2  102      Daegu        1992  Mijung  102    33       20   F          2\n",
              "3  103  Gangneung        1997   Minho  105    76       50   M          3\n",
              "4  104      Seoul        1982  Steeve  107    98       30   M          4"
            ]
          },
          "metadata": {},
          "execution_count": 28
        }
      ]
    },
    {
      "cell_type": "code",
      "metadata": {
        "colab": {
          "base_uri": "https://localhost:8080/"
        },
        "id": "2nD7pUcFDL-8",
        "outputId": "5dd4e183-7756-4eab-b70d-419091b866b6"
      },
      "source": [
        "help(pd.merge)"
      ],
      "execution_count": 29,
      "outputs": [
        {
          "output_type": "stream",
          "text": [
            "Help on function merge in module pandas.core.reshape.merge:\n",
            "\n",
            "merge(left, right, how: str = 'inner', on=None, left_on=None, right_on=None, left_index: bool = False, right_index: bool = False, sort: bool = False, suffixes=('_x', '_y'), copy: bool = True, indicator: bool = False, validate=None) -> 'DataFrame'\n",
            "    Merge DataFrame or named Series objects with a database-style join.\n",
            "    \n",
            "    The join is done on columns or indexes. If joining columns on\n",
            "    columns, the DataFrame indexes *will be ignored*. Otherwise if joining indexes\n",
            "    on indexes or indexes on a column or columns, the index will be passed on.\n",
            "    \n",
            "    Parameters\n",
            "    ----------\n",
            "    left : DataFrame\n",
            "    right : DataFrame or named Series\n",
            "        Object to merge with.\n",
            "    how : {'left', 'right', 'outer', 'inner'}, default 'inner'\n",
            "        Type of merge to be performed.\n",
            "    \n",
            "        * left: use only keys from left frame, similar to a SQL left outer join;\n",
            "          preserve key order.\n",
            "        * right: use only keys from right frame, similar to a SQL right outer join;\n",
            "          preserve key order.\n",
            "        * outer: use union of keys from both frames, similar to a SQL full outer\n",
            "          join; sort keys lexicographically.\n",
            "        * inner: use intersection of keys from both frames, similar to a SQL inner\n",
            "          join; preserve the order of the left keys.\n",
            "    on : label or list\n",
            "        Column or index level names to join on. These must be found in both\n",
            "        DataFrames. If `on` is None and not merging on indexes then this defaults\n",
            "        to the intersection of the columns in both DataFrames.\n",
            "    left_on : label or list, or array-like\n",
            "        Column or index level names to join on in the left DataFrame. Can also\n",
            "        be an array or list of arrays of the length of the left DataFrame.\n",
            "        These arrays are treated as if they are columns.\n",
            "    right_on : label or list, or array-like\n",
            "        Column or index level names to join on in the right DataFrame. Can also\n",
            "        be an array or list of arrays of the length of the right DataFrame.\n",
            "        These arrays are treated as if they are columns.\n",
            "    left_index : bool, default False\n",
            "        Use the index from the left DataFrame as the join key(s). If it is a\n",
            "        MultiIndex, the number of keys in the other DataFrame (either the index\n",
            "        or a number of columns) must match the number of levels.\n",
            "    right_index : bool, default False\n",
            "        Use the index from the right DataFrame as the join key. Same caveats as\n",
            "        left_index.\n",
            "    sort : bool, default False\n",
            "        Sort the join keys lexicographically in the result DataFrame. If False,\n",
            "        the order of the join keys depends on the join type (how keyword).\n",
            "    suffixes : list-like, default is (\"_x\", \"_y\")\n",
            "        A length-2 sequence where each element is optionally a string\n",
            "        indicating the suffix to add to overlapping column names in\n",
            "        `left` and `right` respectively. Pass a value of `None` instead\n",
            "        of a string to indicate that the column name from `left` or\n",
            "        `right` should be left as-is, with no suffix. At least one of the\n",
            "        values must not be None.\n",
            "    copy : bool, default True\n",
            "        If False, avoid copy if possible.\n",
            "    indicator : bool or str, default False\n",
            "        If True, adds a column to the output DataFrame called \"_merge\" with\n",
            "        information on the source of each row. The column can be given a different\n",
            "        name by providing a string argument. The column will have a Categorical\n",
            "        type with the value of \"left_only\" for observations whose merge key only\n",
            "        appears in the left DataFrame, \"right_only\" for observations\n",
            "        whose merge key only appears in the right DataFrame, and \"both\"\n",
            "        if the observation's merge key is found in both DataFrames.\n",
            "    \n",
            "    validate : str, optional\n",
            "        If specified, checks if merge is of specified type.\n",
            "    \n",
            "        * \"one_to_one\" or \"1:1\": check if merge keys are unique in both\n",
            "          left and right datasets.\n",
            "        * \"one_to_many\" or \"1:m\": check if merge keys are unique in left\n",
            "          dataset.\n",
            "        * \"many_to_one\" or \"m:1\": check if merge keys are unique in right\n",
            "          dataset.\n",
            "        * \"many_to_many\" or \"m:m\": allowed, but does not result in checks.\n",
            "    \n",
            "    Returns\n",
            "    -------\n",
            "    DataFrame\n",
            "        A DataFrame of the two merged objects.\n",
            "    \n",
            "    See Also\n",
            "    --------\n",
            "    merge_ordered : Merge with optional filling/interpolation.\n",
            "    merge_asof : Merge on nearest keys.\n",
            "    DataFrame.join : Similar method using indices.\n",
            "    \n",
            "    Notes\n",
            "    -----\n",
            "    Support for specifying index levels as the `on`, `left_on`, and\n",
            "    `right_on` parameters was added in version 0.23.0\n",
            "    Support for merging named Series objects was added in version 0.24.0\n",
            "    \n",
            "    Examples\n",
            "    --------\n",
            "    >>> df1 = pd.DataFrame({'lkey': ['foo', 'bar', 'baz', 'foo'],\n",
            "    ...                     'value': [1, 2, 3, 5]})\n",
            "    >>> df2 = pd.DataFrame({'rkey': ['foo', 'bar', 'baz', 'foo'],\n",
            "    ...                     'value': [5, 6, 7, 8]})\n",
            "    >>> df1\n",
            "        lkey value\n",
            "    0   foo      1\n",
            "    1   bar      2\n",
            "    2   baz      3\n",
            "    3   foo      5\n",
            "    >>> df2\n",
            "        rkey value\n",
            "    0   foo      5\n",
            "    1   bar      6\n",
            "    2   baz      7\n",
            "    3   foo      8\n",
            "    \n",
            "    Merge df1 and df2 on the lkey and rkey columns. The value columns have\n",
            "    the default suffixes, _x and _y, appended.\n",
            "    \n",
            "    >>> df1.merge(df2, left_on='lkey', right_on='rkey')\n",
            "      lkey  value_x rkey  value_y\n",
            "    0  foo        1  foo        5\n",
            "    1  foo        1  foo        8\n",
            "    2  foo        5  foo        5\n",
            "    3  foo        5  foo        8\n",
            "    4  bar        2  bar        6\n",
            "    5  baz        3  baz        7\n",
            "    \n",
            "    Merge DataFrames df1 and df2 with specified left and right suffixes\n",
            "    appended to any overlapping columns.\n",
            "    \n",
            "    >>> df1.merge(df2, left_on='lkey', right_on='rkey',\n",
            "    ...           suffixes=('_left', '_right'))\n",
            "      lkey  value_left rkey  value_right\n",
            "    0  foo           1  foo            5\n",
            "    1  foo           1  foo            8\n",
            "    2  foo           5  foo            5\n",
            "    3  foo           5  foo            8\n",
            "    4  bar           2  bar            6\n",
            "    5  baz           3  baz            7\n",
            "    \n",
            "    Merge DataFrames df1 and df2, but raise an exception if the DataFrames have\n",
            "    any overlapping columns.\n",
            "    \n",
            "    >>> df1.merge(df2, left_on='lkey', right_on='rkey', suffixes=(False, False))\n",
            "    Traceback (most recent call last):\n",
            "    ...\n",
            "    ValueError: columns overlap but no suffix specified:\n",
            "        Index(['value'], dtype='object')\n",
            "\n"
          ],
          "name": "stdout"
        }
      ]
    },
    {
      "cell_type": "markdown",
      "metadata": {
        "id": "pGYy9GgUU9WC"
      },
      "source": [
        "왼쪽 결합"
      ]
    },
    {
      "cell_type": "code",
      "metadata": {
        "id": "8T4zQ_4ZDPTe"
      },
      "source": [
        "# how 파라미터를 left로 지정\n",
        "# 왼쪽 데이터(첫 번째 인수)에 맞춰 DataFrame 객체 데이터 결합\n",
        "# 왼쪽 데이터 기준 변수(인수)에 대응하는 데이터가 오른쪽 데이터(두 번재 인수)에 없는 경우 해당 칼럼의 값은 NaN"
      ],
      "execution_count": 30,
      "outputs": []
    },
    {
      "cell_type": "code",
      "metadata": {
        "colab": {
          "base_uri": "https://localhost:8080/",
          "height": 0
        },
        "id": "BOf3HZWoVY-P",
        "outputId": "d62218e3-3a99-40d5-f30a-1907f5d87f82"
      },
      "source": [
        "# 데이터 결합(left)\n",
        "pd.merge(df1, df2, how = 'left')"
      ],
      "execution_count": 31,
      "outputs": [
        {
          "output_type": "execute_result",
          "data": {
            "text/html": [
              "<div>\n",
              "<style scoped>\n",
              "    .dataframe tbody tr th:only-of-type {\n",
              "        vertical-align: middle;\n",
              "    }\n",
              "\n",
              "    .dataframe tbody tr th {\n",
              "        vertical-align: top;\n",
              "    }\n",
              "\n",
              "    .dataframe thead th {\n",
              "        text-align: right;\n",
              "    }\n",
              "</style>\n",
              "<table border=\"1\" class=\"dataframe\">\n",
              "  <thead>\n",
              "    <tr style=\"text-align: right;\">\n",
              "      <th></th>\n",
              "      <th>id</th>\n",
              "      <th>city</th>\n",
              "      <th>birth_year</th>\n",
              "      <th>name</th>\n",
              "      <th>math</th>\n",
              "      <th>english</th>\n",
              "      <th>sex</th>\n",
              "      <th>index_num</th>\n",
              "    </tr>\n",
              "  </thead>\n",
              "  <tbody>\n",
              "    <tr>\n",
              "      <th>0</th>\n",
              "      <td>100</td>\n",
              "      <td>Seoul</td>\n",
              "      <td>1990</td>\n",
              "      <td>Junho</td>\n",
              "      <td>50.0</td>\n",
              "      <td>90.0</td>\n",
              "      <td>M</td>\n",
              "      <td>0.0</td>\n",
              "    </tr>\n",
              "    <tr>\n",
              "      <th>1</th>\n",
              "      <td>101</td>\n",
              "      <td>Pusan</td>\n",
              "      <td>1989</td>\n",
              "      <td>Heejin</td>\n",
              "      <td>43.0</td>\n",
              "      <td>30.0</td>\n",
              "      <td>F</td>\n",
              "      <td>1.0</td>\n",
              "    </tr>\n",
              "    <tr>\n",
              "      <th>2</th>\n",
              "      <td>102</td>\n",
              "      <td>Daegu</td>\n",
              "      <td>1992</td>\n",
              "      <td>Mijung</td>\n",
              "      <td>33.0</td>\n",
              "      <td>20.0</td>\n",
              "      <td>F</td>\n",
              "      <td>2.0</td>\n",
              "    </tr>\n",
              "    <tr>\n",
              "      <th>3</th>\n",
              "      <td>103</td>\n",
              "      <td>Gangneung</td>\n",
              "      <td>1997</td>\n",
              "      <td>Minho</td>\n",
              "      <td>NaN</td>\n",
              "      <td>NaN</td>\n",
              "      <td>NaN</td>\n",
              "      <td>NaN</td>\n",
              "    </tr>\n",
              "    <tr>\n",
              "      <th>4</th>\n",
              "      <td>104</td>\n",
              "      <td>Seoul</td>\n",
              "      <td>1982</td>\n",
              "      <td>Steeve</td>\n",
              "      <td>NaN</td>\n",
              "      <td>NaN</td>\n",
              "      <td>NaN</td>\n",
              "      <td>NaN</td>\n",
              "    </tr>\n",
              "    <tr>\n",
              "      <th>5</th>\n",
              "      <td>106</td>\n",
              "      <td>Seoul</td>\n",
              "      <td>1991</td>\n",
              "      <td>Mina</td>\n",
              "      <td>NaN</td>\n",
              "      <td>NaN</td>\n",
              "      <td>NaN</td>\n",
              "      <td>NaN</td>\n",
              "    </tr>\n",
              "    <tr>\n",
              "      <th>6</th>\n",
              "      <td>108</td>\n",
              "      <td>Pusan</td>\n",
              "      <td>1988</td>\n",
              "      <td>Sumi</td>\n",
              "      <td>NaN</td>\n",
              "      <td>NaN</td>\n",
              "      <td>NaN</td>\n",
              "      <td>NaN</td>\n",
              "    </tr>\n",
              "    <tr>\n",
              "      <th>7</th>\n",
              "      <td>110</td>\n",
              "      <td>Daegu</td>\n",
              "      <td>1990</td>\n",
              "      <td>Minsu</td>\n",
              "      <td>NaN</td>\n",
              "      <td>NaN</td>\n",
              "      <td>NaN</td>\n",
              "      <td>NaN</td>\n",
              "    </tr>\n",
              "    <tr>\n",
              "      <th>8</th>\n",
              "      <td>111</td>\n",
              "      <td>Gangneung</td>\n",
              "      <td>1995</td>\n",
              "      <td>Jinhee</td>\n",
              "      <td>NaN</td>\n",
              "      <td>NaN</td>\n",
              "      <td>NaN</td>\n",
              "      <td>NaN</td>\n",
              "    </tr>\n",
              "    <tr>\n",
              "      <th>9</th>\n",
              "      <td>113</td>\n",
              "      <td>Seoul</td>\n",
              "      <td>1981</td>\n",
              "      <td>Daeho</td>\n",
              "      <td>NaN</td>\n",
              "      <td>NaN</td>\n",
              "      <td>NaN</td>\n",
              "      <td>NaN</td>\n",
              "    </tr>\n",
              "  </tbody>\n",
              "</table>\n",
              "</div>"
            ],
            "text/plain": [
              "    id       city  birth_year    name  math  english  sex  index_num\n",
              "0  100      Seoul        1990   Junho  50.0     90.0    M        0.0\n",
              "1  101      Pusan        1989  Heejin  43.0     30.0    F        1.0\n",
              "2  102      Daegu        1992  Mijung  33.0     20.0    F        2.0\n",
              "3  103  Gangneung        1997   Minho   NaN      NaN  NaN        NaN\n",
              "4  104      Seoul        1982  Steeve   NaN      NaN  NaN        NaN\n",
              "5  106      Seoul        1991    Mina   NaN      NaN  NaN        NaN\n",
              "6  108      Pusan        1988    Sumi   NaN      NaN  NaN        NaN\n",
              "7  110      Daegu        1990   Minsu   NaN      NaN  NaN        NaN\n",
              "8  111  Gangneung        1995  Jinhee   NaN      NaN  NaN        NaN\n",
              "9  113      Seoul        1981   Daeho   NaN      NaN  NaN        NaN"
            ]
          },
          "metadata": {},
          "execution_count": 31
        }
      ]
    },
    {
      "cell_type": "markdown",
      "metadata": {
        "id": "fYtKxf7aXeNJ"
      },
      "source": [
        "수직방향 결합"
      ]
    },
    {
      "cell_type": "code",
      "metadata": {
        "id": "na-TtoV-Vjrl"
      },
      "source": [
        "# concat 메서드 이용으로 데이터 수직방향 쌓기"
      ],
      "execution_count": 32,
      "outputs": []
    },
    {
      "cell_type": "code",
      "metadata": {
        "colab": {
          "base_uri": "https://localhost:8080/",
          "height": 0
        },
        "id": "6Hk1z-eWXnP9",
        "outputId": "5234121a-c914-4f57-a59e-b1e3cef71525"
      },
      "source": [
        "# 데이터 3 생성\n",
        "data3 = {\n",
        "    'id' : ['117', '118', '119', '120', '125'],\n",
        "    'city' : ['Ilsan', 'Gunpo', 'Seoul', 'Changwon', 'Jeju'],\n",
        "    'birth_year' : [1990, 1989, 1992, 1997, 1982],\n",
        "    'name' : ['Jinhee', 'Yeongho', 'Jongho', 'Yeonghee', 'Hyejin']\n",
        "}\n",
        "df3 = DataFrame(data3)\n",
        "df3"
      ],
      "execution_count": 33,
      "outputs": [
        {
          "output_type": "execute_result",
          "data": {
            "text/html": [
              "<div>\n",
              "<style scoped>\n",
              "    .dataframe tbody tr th:only-of-type {\n",
              "        vertical-align: middle;\n",
              "    }\n",
              "\n",
              "    .dataframe tbody tr th {\n",
              "        vertical-align: top;\n",
              "    }\n",
              "\n",
              "    .dataframe thead th {\n",
              "        text-align: right;\n",
              "    }\n",
              "</style>\n",
              "<table border=\"1\" class=\"dataframe\">\n",
              "  <thead>\n",
              "    <tr style=\"text-align: right;\">\n",
              "      <th></th>\n",
              "      <th>id</th>\n",
              "      <th>city</th>\n",
              "      <th>birth_year</th>\n",
              "      <th>name</th>\n",
              "    </tr>\n",
              "  </thead>\n",
              "  <tbody>\n",
              "    <tr>\n",
              "      <th>0</th>\n",
              "      <td>117</td>\n",
              "      <td>Ilsan</td>\n",
              "      <td>1990</td>\n",
              "      <td>Jinhee</td>\n",
              "    </tr>\n",
              "    <tr>\n",
              "      <th>1</th>\n",
              "      <td>118</td>\n",
              "      <td>Gunpo</td>\n",
              "      <td>1989</td>\n",
              "      <td>Yeongho</td>\n",
              "    </tr>\n",
              "    <tr>\n",
              "      <th>2</th>\n",
              "      <td>119</td>\n",
              "      <td>Seoul</td>\n",
              "      <td>1992</td>\n",
              "      <td>Jongho</td>\n",
              "    </tr>\n",
              "    <tr>\n",
              "      <th>3</th>\n",
              "      <td>120</td>\n",
              "      <td>Changwon</td>\n",
              "      <td>1997</td>\n",
              "      <td>Yeonghee</td>\n",
              "    </tr>\n",
              "    <tr>\n",
              "      <th>4</th>\n",
              "      <td>125</td>\n",
              "      <td>Jeju</td>\n",
              "      <td>1982</td>\n",
              "      <td>Hyejin</td>\n",
              "    </tr>\n",
              "  </tbody>\n",
              "</table>\n",
              "</div>"
            ],
            "text/plain": [
              "    id      city  birth_year      name\n",
              "0  117     Ilsan        1990    Jinhee\n",
              "1  118     Gunpo        1989   Yeongho\n",
              "2  119     Seoul        1992    Jongho\n",
              "3  120  Changwon        1997  Yeonghee\n",
              "4  125      Jeju        1982    Hyejin"
            ]
          },
          "metadata": {},
          "execution_count": 33
        }
      ]
    },
    {
      "cell_type": "code",
      "metadata": {
        "colab": {
          "base_uri": "https://localhost:8080/",
          "height": 0
        },
        "id": "DHHcKLnkYWxw",
        "outputId": "fed742cd-e170-4c6e-9d19-1b08265db14e"
      },
      "source": [
        "# concat 수직방향 결합\n",
        "concat_data = pd.concat([df1, df3])\n",
        "concat_data"
      ],
      "execution_count": 34,
      "outputs": [
        {
          "output_type": "execute_result",
          "data": {
            "text/html": [
              "<div>\n",
              "<style scoped>\n",
              "    .dataframe tbody tr th:only-of-type {\n",
              "        vertical-align: middle;\n",
              "    }\n",
              "\n",
              "    .dataframe tbody tr th {\n",
              "        vertical-align: top;\n",
              "    }\n",
              "\n",
              "    .dataframe thead th {\n",
              "        text-align: right;\n",
              "    }\n",
              "</style>\n",
              "<table border=\"1\" class=\"dataframe\">\n",
              "  <thead>\n",
              "    <tr style=\"text-align: right;\">\n",
              "      <th></th>\n",
              "      <th>id</th>\n",
              "      <th>city</th>\n",
              "      <th>birth_year</th>\n",
              "      <th>name</th>\n",
              "    </tr>\n",
              "  </thead>\n",
              "  <tbody>\n",
              "    <tr>\n",
              "      <th>0</th>\n",
              "      <td>100</td>\n",
              "      <td>Seoul</td>\n",
              "      <td>1990</td>\n",
              "      <td>Junho</td>\n",
              "    </tr>\n",
              "    <tr>\n",
              "      <th>1</th>\n",
              "      <td>101</td>\n",
              "      <td>Pusan</td>\n",
              "      <td>1989</td>\n",
              "      <td>Heejin</td>\n",
              "    </tr>\n",
              "    <tr>\n",
              "      <th>2</th>\n",
              "      <td>102</td>\n",
              "      <td>Daegu</td>\n",
              "      <td>1992</td>\n",
              "      <td>Mijung</td>\n",
              "    </tr>\n",
              "    <tr>\n",
              "      <th>3</th>\n",
              "      <td>103</td>\n",
              "      <td>Gangneung</td>\n",
              "      <td>1997</td>\n",
              "      <td>Minho</td>\n",
              "    </tr>\n",
              "    <tr>\n",
              "      <th>4</th>\n",
              "      <td>104</td>\n",
              "      <td>Seoul</td>\n",
              "      <td>1982</td>\n",
              "      <td>Steeve</td>\n",
              "    </tr>\n",
              "    <tr>\n",
              "      <th>5</th>\n",
              "      <td>106</td>\n",
              "      <td>Seoul</td>\n",
              "      <td>1991</td>\n",
              "      <td>Mina</td>\n",
              "    </tr>\n",
              "    <tr>\n",
              "      <th>6</th>\n",
              "      <td>108</td>\n",
              "      <td>Pusan</td>\n",
              "      <td>1988</td>\n",
              "      <td>Sumi</td>\n",
              "    </tr>\n",
              "    <tr>\n",
              "      <th>7</th>\n",
              "      <td>110</td>\n",
              "      <td>Daegu</td>\n",
              "      <td>1990</td>\n",
              "      <td>Minsu</td>\n",
              "    </tr>\n",
              "    <tr>\n",
              "      <th>8</th>\n",
              "      <td>111</td>\n",
              "      <td>Gangneung</td>\n",
              "      <td>1995</td>\n",
              "      <td>Jinhee</td>\n",
              "    </tr>\n",
              "    <tr>\n",
              "      <th>9</th>\n",
              "      <td>113</td>\n",
              "      <td>Seoul</td>\n",
              "      <td>1981</td>\n",
              "      <td>Daeho</td>\n",
              "    </tr>\n",
              "    <tr>\n",
              "      <th>0</th>\n",
              "      <td>117</td>\n",
              "      <td>Ilsan</td>\n",
              "      <td>1990</td>\n",
              "      <td>Jinhee</td>\n",
              "    </tr>\n",
              "    <tr>\n",
              "      <th>1</th>\n",
              "      <td>118</td>\n",
              "      <td>Gunpo</td>\n",
              "      <td>1989</td>\n",
              "      <td>Yeongho</td>\n",
              "    </tr>\n",
              "    <tr>\n",
              "      <th>2</th>\n",
              "      <td>119</td>\n",
              "      <td>Seoul</td>\n",
              "      <td>1992</td>\n",
              "      <td>Jongho</td>\n",
              "    </tr>\n",
              "    <tr>\n",
              "      <th>3</th>\n",
              "      <td>120</td>\n",
              "      <td>Changwon</td>\n",
              "      <td>1997</td>\n",
              "      <td>Yeonghee</td>\n",
              "    </tr>\n",
              "    <tr>\n",
              "      <th>4</th>\n",
              "      <td>125</td>\n",
              "      <td>Jeju</td>\n",
              "      <td>1982</td>\n",
              "      <td>Hyejin</td>\n",
              "    </tr>\n",
              "  </tbody>\n",
              "</table>\n",
              "</div>"
            ],
            "text/plain": [
              "    id       city  birth_year      name\n",
              "0  100      Seoul        1990     Junho\n",
              "1  101      Pusan        1989    Heejin\n",
              "2  102      Daegu        1992    Mijung\n",
              "3  103  Gangneung        1997     Minho\n",
              "4  104      Seoul        1982    Steeve\n",
              "5  106      Seoul        1991      Mina\n",
              "6  108      Pusan        1988      Sumi\n",
              "7  110      Daegu        1990     Minsu\n",
              "8  111  Gangneung        1995    Jinhee\n",
              "9  113      Seoul        1981     Daeho\n",
              "0  117      Ilsan        1990    Jinhee\n",
              "1  118      Gunpo        1989   Yeongho\n",
              "2  119      Seoul        1992    Jongho\n",
              "3  120   Changwon        1997  Yeonghee\n",
              "4  125       Jeju        1982    Hyejin"
            ]
          },
          "metadata": {},
          "execution_count": 34
        }
      ]
    },
    {
      "cell_type": "markdown",
      "metadata": {
        "id": "spPXgOhGXle_"
      },
      "source": [
        "### [ 연습문제 6-4 ]  \n",
        "아래 두 가지 데이터를 내부결합하세요."
      ]
    },
    {
      "cell_type": "code",
      "metadata": {
        "colab": {
          "base_uri": "https://localhost:8080/",
          "height": 0
        },
        "id": "HRbGfzGCYuBk",
        "outputId": "04a54e18-d22b-4d12-fcd7-f4e3f81d2c03"
      },
      "source": [
        "# 데이터 4 생성\n",
        "data4 = {\n",
        "    'id' : ['0', '1', '2', '3', '4', '6', '8', '11', '12', '13'],\n",
        "    'city' : ['Seoul', 'Pusan', 'Daegu', 'Gangneung', 'Seoul', 'Seoul',\n",
        "              'Pusan', 'Daegu', 'Gangneung', 'Seoul'],\n",
        "    'birth_year' : [1990, 1989, 1992, 1997, 1982, 1991, 1988, 1990, 1995, 1981],\n",
        "    'name' : ['Junho', 'Heejin', 'Mijung', 'Minho', 'Steeve', 'Mina',\n",
        "              'Sumi', 'Minsu', 'Jinhee', 'Daeho']\n",
        "}\n",
        "df4 = DataFrame(data4)\n",
        "df4"
      ],
      "execution_count": 35,
      "outputs": [
        {
          "output_type": "execute_result",
          "data": {
            "text/html": [
              "<div>\n",
              "<style scoped>\n",
              "    .dataframe tbody tr th:only-of-type {\n",
              "        vertical-align: middle;\n",
              "    }\n",
              "\n",
              "    .dataframe tbody tr th {\n",
              "        vertical-align: top;\n",
              "    }\n",
              "\n",
              "    .dataframe thead th {\n",
              "        text-align: right;\n",
              "    }\n",
              "</style>\n",
              "<table border=\"1\" class=\"dataframe\">\n",
              "  <thead>\n",
              "    <tr style=\"text-align: right;\">\n",
              "      <th></th>\n",
              "      <th>id</th>\n",
              "      <th>city</th>\n",
              "      <th>birth_year</th>\n",
              "      <th>name</th>\n",
              "    </tr>\n",
              "  </thead>\n",
              "  <tbody>\n",
              "    <tr>\n",
              "      <th>0</th>\n",
              "      <td>0</td>\n",
              "      <td>Seoul</td>\n",
              "      <td>1990</td>\n",
              "      <td>Junho</td>\n",
              "    </tr>\n",
              "    <tr>\n",
              "      <th>1</th>\n",
              "      <td>1</td>\n",
              "      <td>Pusan</td>\n",
              "      <td>1989</td>\n",
              "      <td>Heejin</td>\n",
              "    </tr>\n",
              "    <tr>\n",
              "      <th>2</th>\n",
              "      <td>2</td>\n",
              "      <td>Daegu</td>\n",
              "      <td>1992</td>\n",
              "      <td>Mijung</td>\n",
              "    </tr>\n",
              "    <tr>\n",
              "      <th>3</th>\n",
              "      <td>3</td>\n",
              "      <td>Gangneung</td>\n",
              "      <td>1997</td>\n",
              "      <td>Minho</td>\n",
              "    </tr>\n",
              "    <tr>\n",
              "      <th>4</th>\n",
              "      <td>4</td>\n",
              "      <td>Seoul</td>\n",
              "      <td>1982</td>\n",
              "      <td>Steeve</td>\n",
              "    </tr>\n",
              "    <tr>\n",
              "      <th>5</th>\n",
              "      <td>6</td>\n",
              "      <td>Seoul</td>\n",
              "      <td>1991</td>\n",
              "      <td>Mina</td>\n",
              "    </tr>\n",
              "    <tr>\n",
              "      <th>6</th>\n",
              "      <td>8</td>\n",
              "      <td>Pusan</td>\n",
              "      <td>1988</td>\n",
              "      <td>Sumi</td>\n",
              "    </tr>\n",
              "    <tr>\n",
              "      <th>7</th>\n",
              "      <td>11</td>\n",
              "      <td>Daegu</td>\n",
              "      <td>1990</td>\n",
              "      <td>Minsu</td>\n",
              "    </tr>\n",
              "    <tr>\n",
              "      <th>8</th>\n",
              "      <td>12</td>\n",
              "      <td>Gangneung</td>\n",
              "      <td>1995</td>\n",
              "      <td>Jinhee</td>\n",
              "    </tr>\n",
              "    <tr>\n",
              "      <th>9</th>\n",
              "      <td>13</td>\n",
              "      <td>Seoul</td>\n",
              "      <td>1981</td>\n",
              "      <td>Daeho</td>\n",
              "    </tr>\n",
              "  </tbody>\n",
              "</table>\n",
              "</div>"
            ],
            "text/plain": [
              "   id       city  birth_year    name\n",
              "0   0      Seoul        1990   Junho\n",
              "1   1      Pusan        1989  Heejin\n",
              "2   2      Daegu        1992  Mijung\n",
              "3   3  Gangneung        1997   Minho\n",
              "4   4      Seoul        1982  Steeve\n",
              "5   6      Seoul        1991    Mina\n",
              "6   8      Pusan        1988    Sumi\n",
              "7  11      Daegu        1990   Minsu\n",
              "8  12  Gangneung        1995  Jinhee\n",
              "9  13      Seoul        1981   Daeho"
            ]
          },
          "metadata": {},
          "execution_count": 35
        }
      ]
    },
    {
      "cell_type": "code",
      "metadata": {
        "colab": {
          "base_uri": "https://localhost:8080/",
          "height": 0
        },
        "id": "lu18LvRXZ3Va",
        "outputId": "65a4a72d-a4a1-4dbc-b0ad-daff9b591b4c"
      },
      "source": [
        "# 데이터 5 생성\n",
        "data5 = {\n",
        "    'id' : ['0', '1', '3', '6', '8'],\n",
        "    'math' : [20, 30, 50, 70, 90],\n",
        "    'english' : [30, 50, 50, 70, 20],\n",
        "    'sex' : ['M', 'F', 'F', 'M', 'M'],\n",
        "    'index_num' : [0, 1, 2, 3, 4]\n",
        "}\n",
        "df5 = DataFrame(data5)\n",
        "df5"
      ],
      "execution_count": 36,
      "outputs": [
        {
          "output_type": "execute_result",
          "data": {
            "text/html": [
              "<div>\n",
              "<style scoped>\n",
              "    .dataframe tbody tr th:only-of-type {\n",
              "        vertical-align: middle;\n",
              "    }\n",
              "\n",
              "    .dataframe tbody tr th {\n",
              "        vertical-align: top;\n",
              "    }\n",
              "\n",
              "    .dataframe thead th {\n",
              "        text-align: right;\n",
              "    }\n",
              "</style>\n",
              "<table border=\"1\" class=\"dataframe\">\n",
              "  <thead>\n",
              "    <tr style=\"text-align: right;\">\n",
              "      <th></th>\n",
              "      <th>id</th>\n",
              "      <th>math</th>\n",
              "      <th>english</th>\n",
              "      <th>sex</th>\n",
              "      <th>index_num</th>\n",
              "    </tr>\n",
              "  </thead>\n",
              "  <tbody>\n",
              "    <tr>\n",
              "      <th>0</th>\n",
              "      <td>0</td>\n",
              "      <td>20</td>\n",
              "      <td>30</td>\n",
              "      <td>M</td>\n",
              "      <td>0</td>\n",
              "    </tr>\n",
              "    <tr>\n",
              "      <th>1</th>\n",
              "      <td>1</td>\n",
              "      <td>30</td>\n",
              "      <td>50</td>\n",
              "      <td>F</td>\n",
              "      <td>1</td>\n",
              "    </tr>\n",
              "    <tr>\n",
              "      <th>2</th>\n",
              "      <td>3</td>\n",
              "      <td>50</td>\n",
              "      <td>50</td>\n",
              "      <td>F</td>\n",
              "      <td>2</td>\n",
              "    </tr>\n",
              "    <tr>\n",
              "      <th>3</th>\n",
              "      <td>6</td>\n",
              "      <td>70</td>\n",
              "      <td>70</td>\n",
              "      <td>M</td>\n",
              "      <td>3</td>\n",
              "    </tr>\n",
              "    <tr>\n",
              "      <th>4</th>\n",
              "      <td>8</td>\n",
              "      <td>90</td>\n",
              "      <td>20</td>\n",
              "      <td>M</td>\n",
              "      <td>4</td>\n",
              "    </tr>\n",
              "  </tbody>\n",
              "</table>\n",
              "</div>"
            ],
            "text/plain": [
              "  id  math  english sex  index_num\n",
              "0  0    20       30   M          0\n",
              "1  1    30       50   F          1\n",
              "2  3    50       50   F          2\n",
              "3  6    70       70   M          3\n",
              "4  8    90       20   M          4"
            ]
          },
          "metadata": {},
          "execution_count": 36
        }
      ]
    },
    {
      "cell_type": "code",
      "metadata": {
        "colab": {
          "base_uri": "https://localhost:8080/",
          "height": 0
        },
        "id": "qYu6SifhaVW1",
        "outputId": "1c196848-03a5-4a69-b828-f0ac4c795ca6"
      },
      "source": [
        "# 내부결합\n",
        "pd.merge(df4, df5, on ='id')"
      ],
      "execution_count": 37,
      "outputs": [
        {
          "output_type": "execute_result",
          "data": {
            "text/html": [
              "<div>\n",
              "<style scoped>\n",
              "    .dataframe tbody tr th:only-of-type {\n",
              "        vertical-align: middle;\n",
              "    }\n",
              "\n",
              "    .dataframe tbody tr th {\n",
              "        vertical-align: top;\n",
              "    }\n",
              "\n",
              "    .dataframe thead th {\n",
              "        text-align: right;\n",
              "    }\n",
              "</style>\n",
              "<table border=\"1\" class=\"dataframe\">\n",
              "  <thead>\n",
              "    <tr style=\"text-align: right;\">\n",
              "      <th></th>\n",
              "      <th>id</th>\n",
              "      <th>city</th>\n",
              "      <th>birth_year</th>\n",
              "      <th>name</th>\n",
              "      <th>math</th>\n",
              "      <th>english</th>\n",
              "      <th>sex</th>\n",
              "      <th>index_num</th>\n",
              "    </tr>\n",
              "  </thead>\n",
              "  <tbody>\n",
              "    <tr>\n",
              "      <th>0</th>\n",
              "      <td>0</td>\n",
              "      <td>Seoul</td>\n",
              "      <td>1990</td>\n",
              "      <td>Junho</td>\n",
              "      <td>20</td>\n",
              "      <td>30</td>\n",
              "      <td>M</td>\n",
              "      <td>0</td>\n",
              "    </tr>\n",
              "    <tr>\n",
              "      <th>1</th>\n",
              "      <td>1</td>\n",
              "      <td>Pusan</td>\n",
              "      <td>1989</td>\n",
              "      <td>Heejin</td>\n",
              "      <td>30</td>\n",
              "      <td>50</td>\n",
              "      <td>F</td>\n",
              "      <td>1</td>\n",
              "    </tr>\n",
              "    <tr>\n",
              "      <th>2</th>\n",
              "      <td>3</td>\n",
              "      <td>Gangneung</td>\n",
              "      <td>1997</td>\n",
              "      <td>Minho</td>\n",
              "      <td>50</td>\n",
              "      <td>50</td>\n",
              "      <td>F</td>\n",
              "      <td>2</td>\n",
              "    </tr>\n",
              "    <tr>\n",
              "      <th>3</th>\n",
              "      <td>6</td>\n",
              "      <td>Seoul</td>\n",
              "      <td>1991</td>\n",
              "      <td>Mina</td>\n",
              "      <td>70</td>\n",
              "      <td>70</td>\n",
              "      <td>M</td>\n",
              "      <td>3</td>\n",
              "    </tr>\n",
              "    <tr>\n",
              "      <th>4</th>\n",
              "      <td>8</td>\n",
              "      <td>Pusan</td>\n",
              "      <td>1988</td>\n",
              "      <td>Sumi</td>\n",
              "      <td>90</td>\n",
              "      <td>20</td>\n",
              "      <td>M</td>\n",
              "      <td>4</td>\n",
              "    </tr>\n",
              "  </tbody>\n",
              "</table>\n",
              "</div>"
            ],
            "text/plain": [
              "  id       city  birth_year    name  math  english sex  index_num\n",
              "0  0      Seoul        1990   Junho    20       30   M          0\n",
              "1  1      Pusan        1989  Heejin    30       50   F          1\n",
              "2  3  Gangneung        1997   Minho    50       50   F          2\n",
              "3  6      Seoul        1991    Mina    70       70   M          3\n",
              "4  8      Pusan        1988    Sumi    90       20   M          4"
            ]
          },
          "metadata": {},
          "execution_count": 37
        }
      ]
    },
    {
      "cell_type": "markdown",
      "metadata": {
        "id": "T6wFEcc2ap0x"
      },
      "source": [
        "### [ 연습문제 6-5 ]  \n",
        "연습문제 6-4 데이터를 이용해 df4를 기준으로 df5 테이블을 전결합하세요."
      ]
    },
    {
      "cell_type": "code",
      "metadata": {
        "colab": {
          "base_uri": "https://localhost:8080/",
          "height": 0
        },
        "id": "1zPIK7EHai9_",
        "outputId": "e3fd76c4-47f1-47d2-8c2b-bfb00f085d50"
      },
      "source": [
        "pd.merge(df4, df5, how = 'outer')"
      ],
      "execution_count": 38,
      "outputs": [
        {
          "output_type": "execute_result",
          "data": {
            "text/html": [
              "<div>\n",
              "<style scoped>\n",
              "    .dataframe tbody tr th:only-of-type {\n",
              "        vertical-align: middle;\n",
              "    }\n",
              "\n",
              "    .dataframe tbody tr th {\n",
              "        vertical-align: top;\n",
              "    }\n",
              "\n",
              "    .dataframe thead th {\n",
              "        text-align: right;\n",
              "    }\n",
              "</style>\n",
              "<table border=\"1\" class=\"dataframe\">\n",
              "  <thead>\n",
              "    <tr style=\"text-align: right;\">\n",
              "      <th></th>\n",
              "      <th>id</th>\n",
              "      <th>city</th>\n",
              "      <th>birth_year</th>\n",
              "      <th>name</th>\n",
              "      <th>math</th>\n",
              "      <th>english</th>\n",
              "      <th>sex</th>\n",
              "      <th>index_num</th>\n",
              "    </tr>\n",
              "  </thead>\n",
              "  <tbody>\n",
              "    <tr>\n",
              "      <th>0</th>\n",
              "      <td>0</td>\n",
              "      <td>Seoul</td>\n",
              "      <td>1990</td>\n",
              "      <td>Junho</td>\n",
              "      <td>20.0</td>\n",
              "      <td>30.0</td>\n",
              "      <td>M</td>\n",
              "      <td>0.0</td>\n",
              "    </tr>\n",
              "    <tr>\n",
              "      <th>1</th>\n",
              "      <td>1</td>\n",
              "      <td>Pusan</td>\n",
              "      <td>1989</td>\n",
              "      <td>Heejin</td>\n",
              "      <td>30.0</td>\n",
              "      <td>50.0</td>\n",
              "      <td>F</td>\n",
              "      <td>1.0</td>\n",
              "    </tr>\n",
              "    <tr>\n",
              "      <th>2</th>\n",
              "      <td>2</td>\n",
              "      <td>Daegu</td>\n",
              "      <td>1992</td>\n",
              "      <td>Mijung</td>\n",
              "      <td>NaN</td>\n",
              "      <td>NaN</td>\n",
              "      <td>NaN</td>\n",
              "      <td>NaN</td>\n",
              "    </tr>\n",
              "    <tr>\n",
              "      <th>3</th>\n",
              "      <td>3</td>\n",
              "      <td>Gangneung</td>\n",
              "      <td>1997</td>\n",
              "      <td>Minho</td>\n",
              "      <td>50.0</td>\n",
              "      <td>50.0</td>\n",
              "      <td>F</td>\n",
              "      <td>2.0</td>\n",
              "    </tr>\n",
              "    <tr>\n",
              "      <th>4</th>\n",
              "      <td>4</td>\n",
              "      <td>Seoul</td>\n",
              "      <td>1982</td>\n",
              "      <td>Steeve</td>\n",
              "      <td>NaN</td>\n",
              "      <td>NaN</td>\n",
              "      <td>NaN</td>\n",
              "      <td>NaN</td>\n",
              "    </tr>\n",
              "    <tr>\n",
              "      <th>5</th>\n",
              "      <td>6</td>\n",
              "      <td>Seoul</td>\n",
              "      <td>1991</td>\n",
              "      <td>Mina</td>\n",
              "      <td>70.0</td>\n",
              "      <td>70.0</td>\n",
              "      <td>M</td>\n",
              "      <td>3.0</td>\n",
              "    </tr>\n",
              "    <tr>\n",
              "      <th>6</th>\n",
              "      <td>8</td>\n",
              "      <td>Pusan</td>\n",
              "      <td>1988</td>\n",
              "      <td>Sumi</td>\n",
              "      <td>90.0</td>\n",
              "      <td>20.0</td>\n",
              "      <td>M</td>\n",
              "      <td>4.0</td>\n",
              "    </tr>\n",
              "    <tr>\n",
              "      <th>7</th>\n",
              "      <td>11</td>\n",
              "      <td>Daegu</td>\n",
              "      <td>1990</td>\n",
              "      <td>Minsu</td>\n",
              "      <td>NaN</td>\n",
              "      <td>NaN</td>\n",
              "      <td>NaN</td>\n",
              "      <td>NaN</td>\n",
              "    </tr>\n",
              "    <tr>\n",
              "      <th>8</th>\n",
              "      <td>12</td>\n",
              "      <td>Gangneung</td>\n",
              "      <td>1995</td>\n",
              "      <td>Jinhee</td>\n",
              "      <td>NaN</td>\n",
              "      <td>NaN</td>\n",
              "      <td>NaN</td>\n",
              "      <td>NaN</td>\n",
              "    </tr>\n",
              "    <tr>\n",
              "      <th>9</th>\n",
              "      <td>13</td>\n",
              "      <td>Seoul</td>\n",
              "      <td>1981</td>\n",
              "      <td>Daeho</td>\n",
              "      <td>NaN</td>\n",
              "      <td>NaN</td>\n",
              "      <td>NaN</td>\n",
              "      <td>NaN</td>\n",
              "    </tr>\n",
              "  </tbody>\n",
              "</table>\n",
              "</div>"
            ],
            "text/plain": [
              "   id       city  birth_year    name  math  english  sex  index_num\n",
              "0   0      Seoul        1990   Junho  20.0     30.0    M        0.0\n",
              "1   1      Pusan        1989  Heejin  30.0     50.0    F        1.0\n",
              "2   2      Daegu        1992  Mijung   NaN      NaN  NaN        NaN\n",
              "3   3  Gangneung        1997   Minho  50.0     50.0    F        2.0\n",
              "4   4      Seoul        1982  Steeve   NaN      NaN  NaN        NaN\n",
              "5   6      Seoul        1991    Mina  70.0     70.0    M        3.0\n",
              "6   8      Pusan        1988    Sumi  90.0     20.0    M        4.0\n",
              "7  11      Daegu        1990   Minsu   NaN      NaN  NaN        NaN\n",
              "8  12  Gangneung        1995  Jinhee   NaN      NaN  NaN        NaN\n",
              "9  13      Seoul        1981   Daeho   NaN      NaN  NaN        NaN"
            ]
          },
          "metadata": {},
          "execution_count": 38
        }
      ]
    },
    {
      "cell_type": "markdown",
      "metadata": {
        "id": "32cTUUuRS5LV"
      },
      "source": [
        "[ 연습문제 6-6 ]  \n",
        "연습문제 6-4 데이터를 이용해 df4를 기준으로 아래의 데이터를 수직방향으로 결합하세요."
      ]
    },
    {
      "cell_type": "code",
      "metadata": {
        "id": "rT7gQ2GCa-7g"
      },
      "source": [
        "# 데이터 생성\n",
        "data6 = {\n",
        "    'id' : ['70', '80', '90', '120', '150'],\n",
        "    'city' : ['Ilsan', 'Gunpo', 'Seoul', 'Changwon', 'Jeju'],\n",
        "    'birth_year' : [1980, 1999, 1995, 1994, 1994],\n",
        "    'name' : ['Jinhee', 'Yeongho', 'Jongho', 'Yeonghee', 'Hyejin']\n",
        "}\n",
        "df6 = DataFrame(data6)"
      ],
      "execution_count": 39,
      "outputs": []
    },
    {
      "cell_type": "code",
      "metadata": {
        "colab": {
          "base_uri": "https://localhost:8080/",
          "height": 0
        },
        "id": "eBLU0qZnUJNr",
        "outputId": "c6dc8f63-ba3d-4e66-b508-a329b297f7dc"
      },
      "source": [
        "concat_data2 = pd.concat([df4, df6])\n",
        "concat_data2"
      ],
      "execution_count": 40,
      "outputs": [
        {
          "output_type": "execute_result",
          "data": {
            "text/html": [
              "<div>\n",
              "<style scoped>\n",
              "    .dataframe tbody tr th:only-of-type {\n",
              "        vertical-align: middle;\n",
              "    }\n",
              "\n",
              "    .dataframe tbody tr th {\n",
              "        vertical-align: top;\n",
              "    }\n",
              "\n",
              "    .dataframe thead th {\n",
              "        text-align: right;\n",
              "    }\n",
              "</style>\n",
              "<table border=\"1\" class=\"dataframe\">\n",
              "  <thead>\n",
              "    <tr style=\"text-align: right;\">\n",
              "      <th></th>\n",
              "      <th>id</th>\n",
              "      <th>city</th>\n",
              "      <th>birth_year</th>\n",
              "      <th>name</th>\n",
              "    </tr>\n",
              "  </thead>\n",
              "  <tbody>\n",
              "    <tr>\n",
              "      <th>0</th>\n",
              "      <td>0</td>\n",
              "      <td>Seoul</td>\n",
              "      <td>1990</td>\n",
              "      <td>Junho</td>\n",
              "    </tr>\n",
              "    <tr>\n",
              "      <th>1</th>\n",
              "      <td>1</td>\n",
              "      <td>Pusan</td>\n",
              "      <td>1989</td>\n",
              "      <td>Heejin</td>\n",
              "    </tr>\n",
              "    <tr>\n",
              "      <th>2</th>\n",
              "      <td>2</td>\n",
              "      <td>Daegu</td>\n",
              "      <td>1992</td>\n",
              "      <td>Mijung</td>\n",
              "    </tr>\n",
              "    <tr>\n",
              "      <th>3</th>\n",
              "      <td>3</td>\n",
              "      <td>Gangneung</td>\n",
              "      <td>1997</td>\n",
              "      <td>Minho</td>\n",
              "    </tr>\n",
              "    <tr>\n",
              "      <th>4</th>\n",
              "      <td>4</td>\n",
              "      <td>Seoul</td>\n",
              "      <td>1982</td>\n",
              "      <td>Steeve</td>\n",
              "    </tr>\n",
              "    <tr>\n",
              "      <th>5</th>\n",
              "      <td>6</td>\n",
              "      <td>Seoul</td>\n",
              "      <td>1991</td>\n",
              "      <td>Mina</td>\n",
              "    </tr>\n",
              "    <tr>\n",
              "      <th>6</th>\n",
              "      <td>8</td>\n",
              "      <td>Pusan</td>\n",
              "      <td>1988</td>\n",
              "      <td>Sumi</td>\n",
              "    </tr>\n",
              "    <tr>\n",
              "      <th>7</th>\n",
              "      <td>11</td>\n",
              "      <td>Daegu</td>\n",
              "      <td>1990</td>\n",
              "      <td>Minsu</td>\n",
              "    </tr>\n",
              "    <tr>\n",
              "      <th>8</th>\n",
              "      <td>12</td>\n",
              "      <td>Gangneung</td>\n",
              "      <td>1995</td>\n",
              "      <td>Jinhee</td>\n",
              "    </tr>\n",
              "    <tr>\n",
              "      <th>9</th>\n",
              "      <td>13</td>\n",
              "      <td>Seoul</td>\n",
              "      <td>1981</td>\n",
              "      <td>Daeho</td>\n",
              "    </tr>\n",
              "    <tr>\n",
              "      <th>0</th>\n",
              "      <td>70</td>\n",
              "      <td>Ilsan</td>\n",
              "      <td>1980</td>\n",
              "      <td>Jinhee</td>\n",
              "    </tr>\n",
              "    <tr>\n",
              "      <th>1</th>\n",
              "      <td>80</td>\n",
              "      <td>Gunpo</td>\n",
              "      <td>1999</td>\n",
              "      <td>Yeongho</td>\n",
              "    </tr>\n",
              "    <tr>\n",
              "      <th>2</th>\n",
              "      <td>90</td>\n",
              "      <td>Seoul</td>\n",
              "      <td>1995</td>\n",
              "      <td>Jongho</td>\n",
              "    </tr>\n",
              "    <tr>\n",
              "      <th>3</th>\n",
              "      <td>120</td>\n",
              "      <td>Changwon</td>\n",
              "      <td>1994</td>\n",
              "      <td>Yeonghee</td>\n",
              "    </tr>\n",
              "    <tr>\n",
              "      <th>4</th>\n",
              "      <td>150</td>\n",
              "      <td>Jeju</td>\n",
              "      <td>1994</td>\n",
              "      <td>Hyejin</td>\n",
              "    </tr>\n",
              "  </tbody>\n",
              "</table>\n",
              "</div>"
            ],
            "text/plain": [
              "    id       city  birth_year      name\n",
              "0    0      Seoul        1990     Junho\n",
              "1    1      Pusan        1989    Heejin\n",
              "2    2      Daegu        1992    Mijung\n",
              "3    3  Gangneung        1997     Minho\n",
              "4    4      Seoul        1982    Steeve\n",
              "5    6      Seoul        1991      Mina\n",
              "6    8      Pusan        1988      Sumi\n",
              "7   11      Daegu        1990     Minsu\n",
              "8   12  Gangneung        1995    Jinhee\n",
              "9   13      Seoul        1981     Daeho\n",
              "0   70      Ilsan        1980    Jinhee\n",
              "1   80      Gunpo        1999   Yeongho\n",
              "2   90      Seoul        1995    Jongho\n",
              "3  120   Changwon        1994  Yeonghee\n",
              "4  150       Jeju        1994    Hyejin"
            ]
          },
          "metadata": {},
          "execution_count": 40
        }
      ]
    },
    {
      "cell_type": "markdown",
      "metadata": {
        "id": "72qMV5jxWV56"
      },
      "source": [
        "6.2.3 데이터 조작과 변환"
      ]
    },
    {
      "cell_type": "markdown",
      "metadata": {
        "id": "ixaraiuEWao7"
      },
      "source": [
        "데이터 피봇"
      ]
    },
    {
      "cell_type": "code",
      "metadata": {
        "id": "x6WhxqyMVBo3"
      },
      "source": [
        "# 데이터 피봇 : 피봇은 데이터의 행을 열로, 열을 행으로 바꾸는 작업"
      ],
      "execution_count": 41,
      "outputs": []
    },
    {
      "cell_type": "code",
      "metadata": {
        "colab": {
          "base_uri": "https://localhost:8080/",
          "height": 0
        },
        "id": "dcDsSL4rWq5k",
        "outputId": "5b9716c5-6c70-49e1-f460-d9b7414dcd21"
      },
      "source": [
        "# heir_df 생성\n",
        "\n",
        "hier_df = DataFrame(\n",
        "    np.arange(9).reshape((3, 3)),\n",
        "    index = [\n",
        "             ['a', 'a', 'b'],\n",
        "             [1, 2, 2]\n",
        "    ],\n",
        "    columns = [\n",
        "               ['Pusan', 'Seoul', 'Pusan'],\n",
        "               ['Blue', 'Red', 'Red']\n",
        "    ]\n",
        ")\n",
        "hier_df"
      ],
      "execution_count": 42,
      "outputs": [
        {
          "output_type": "execute_result",
          "data": {
            "text/html": [
              "<div>\n",
              "<style scoped>\n",
              "    .dataframe tbody tr th:only-of-type {\n",
              "        vertical-align: middle;\n",
              "    }\n",
              "\n",
              "    .dataframe tbody tr th {\n",
              "        vertical-align: top;\n",
              "    }\n",
              "\n",
              "    .dataframe thead tr th {\n",
              "        text-align: left;\n",
              "    }\n",
              "</style>\n",
              "<table border=\"1\" class=\"dataframe\">\n",
              "  <thead>\n",
              "    <tr>\n",
              "      <th></th>\n",
              "      <th></th>\n",
              "      <th>Pusan</th>\n",
              "      <th>Seoul</th>\n",
              "      <th>Pusan</th>\n",
              "    </tr>\n",
              "    <tr>\n",
              "      <th></th>\n",
              "      <th></th>\n",
              "      <th>Blue</th>\n",
              "      <th>Red</th>\n",
              "      <th>Red</th>\n",
              "    </tr>\n",
              "  </thead>\n",
              "  <tbody>\n",
              "    <tr>\n",
              "      <th rowspan=\"2\" valign=\"top\">a</th>\n",
              "      <th>1</th>\n",
              "      <td>0</td>\n",
              "      <td>1</td>\n",
              "      <td>2</td>\n",
              "    </tr>\n",
              "    <tr>\n",
              "      <th>2</th>\n",
              "      <td>3</td>\n",
              "      <td>4</td>\n",
              "      <td>5</td>\n",
              "    </tr>\n",
              "    <tr>\n",
              "      <th>b</th>\n",
              "      <th>2</th>\n",
              "      <td>6</td>\n",
              "      <td>7</td>\n",
              "      <td>8</td>\n",
              "    </tr>\n",
              "  </tbody>\n",
              "</table>\n",
              "</div>"
            ],
            "text/plain": [
              "    Pusan Seoul Pusan\n",
              "     Blue   Red   Red\n",
              "a 1     0     1     2\n",
              "  2     3     4     5\n",
              "b 2     6     7     8"
            ]
          },
          "metadata": {},
          "execution_count": 42
        }
      ]
    },
    {
      "cell_type": "code",
      "metadata": {
        "colab": {
          "base_uri": "https://localhost:8080/",
          "height": 0
        },
        "id": "_g3N8H8uXO3N",
        "outputId": "3faa58e8-4ac7-4ca3-90cc-aebb61d787ba"
      },
      "source": [
        "# 피봇 기능으로 Blue, Red 열을 행으로 변경\n",
        "hier_df.stack()"
      ],
      "execution_count": 43,
      "outputs": [
        {
          "output_type": "execute_result",
          "data": {
            "text/html": [
              "<div>\n",
              "<style scoped>\n",
              "    .dataframe tbody tr th:only-of-type {\n",
              "        vertical-align: middle;\n",
              "    }\n",
              "\n",
              "    .dataframe tbody tr th {\n",
              "        vertical-align: top;\n",
              "    }\n",
              "\n",
              "    .dataframe thead th {\n",
              "        text-align: right;\n",
              "    }\n",
              "</style>\n",
              "<table border=\"1\" class=\"dataframe\">\n",
              "  <thead>\n",
              "    <tr style=\"text-align: right;\">\n",
              "      <th></th>\n",
              "      <th></th>\n",
              "      <th></th>\n",
              "      <th>Pusan</th>\n",
              "      <th>Seoul</th>\n",
              "    </tr>\n",
              "  </thead>\n",
              "  <tbody>\n",
              "    <tr>\n",
              "      <th rowspan=\"4\" valign=\"top\">a</th>\n",
              "      <th rowspan=\"2\" valign=\"top\">1</th>\n",
              "      <th>Blue</th>\n",
              "      <td>0</td>\n",
              "      <td>NaN</td>\n",
              "    </tr>\n",
              "    <tr>\n",
              "      <th>Red</th>\n",
              "      <td>2</td>\n",
              "      <td>1.0</td>\n",
              "    </tr>\n",
              "    <tr>\n",
              "      <th rowspan=\"2\" valign=\"top\">2</th>\n",
              "      <th>Blue</th>\n",
              "      <td>3</td>\n",
              "      <td>NaN</td>\n",
              "    </tr>\n",
              "    <tr>\n",
              "      <th>Red</th>\n",
              "      <td>5</td>\n",
              "      <td>4.0</td>\n",
              "    </tr>\n",
              "    <tr>\n",
              "      <th rowspan=\"2\" valign=\"top\">b</th>\n",
              "      <th rowspan=\"2\" valign=\"top\">2</th>\n",
              "      <th>Blue</th>\n",
              "      <td>6</td>\n",
              "      <td>NaN</td>\n",
              "    </tr>\n",
              "    <tr>\n",
              "      <th>Red</th>\n",
              "      <td>8</td>\n",
              "      <td>7.0</td>\n",
              "    </tr>\n",
              "  </tbody>\n",
              "</table>\n",
              "</div>"
            ],
            "text/plain": [
              "          Pusan  Seoul\n",
              "a 1 Blue      0    NaN\n",
              "    Red       2    1.0\n",
              "  2 Blue      3    NaN\n",
              "    Red       5    4.0\n",
              "b 2 Blue      6    NaN\n",
              "    Red       8    7.0"
            ]
          },
          "metadata": {},
          "execution_count": 43
        }
      ]
    },
    {
      "cell_type": "code",
      "metadata": {
        "colab": {
          "base_uri": "https://localhost:8080/",
          "height": 0
        },
        "id": "ySUlLX3yXcJU",
        "outputId": "497c5a76-e142-4981-c523-5c31d6d01c5a"
      },
      "source": [
        "# unstack 메서드로\n",
        "# Blue, Red 행을 열로 변경\n",
        "\n",
        "hier_df.stack().unstack()"
      ],
      "execution_count": 44,
      "outputs": [
        {
          "output_type": "execute_result",
          "data": {
            "text/html": [
              "<div>\n",
              "<style scoped>\n",
              "    .dataframe tbody tr th:only-of-type {\n",
              "        vertical-align: middle;\n",
              "    }\n",
              "\n",
              "    .dataframe tbody tr th {\n",
              "        vertical-align: top;\n",
              "    }\n",
              "\n",
              "    .dataframe thead tr th {\n",
              "        text-align: left;\n",
              "    }\n",
              "</style>\n",
              "<table border=\"1\" class=\"dataframe\">\n",
              "  <thead>\n",
              "    <tr>\n",
              "      <th></th>\n",
              "      <th></th>\n",
              "      <th colspan=\"2\" halign=\"left\">Pusan</th>\n",
              "      <th colspan=\"2\" halign=\"left\">Seoul</th>\n",
              "    </tr>\n",
              "    <tr>\n",
              "      <th></th>\n",
              "      <th></th>\n",
              "      <th>Blue</th>\n",
              "      <th>Red</th>\n",
              "      <th>Blue</th>\n",
              "      <th>Red</th>\n",
              "    </tr>\n",
              "  </thead>\n",
              "  <tbody>\n",
              "    <tr>\n",
              "      <th rowspan=\"2\" valign=\"top\">a</th>\n",
              "      <th>1</th>\n",
              "      <td>0</td>\n",
              "      <td>2</td>\n",
              "      <td>NaN</td>\n",
              "      <td>1.0</td>\n",
              "    </tr>\n",
              "    <tr>\n",
              "      <th>2</th>\n",
              "      <td>3</td>\n",
              "      <td>5</td>\n",
              "      <td>NaN</td>\n",
              "      <td>4.0</td>\n",
              "    </tr>\n",
              "    <tr>\n",
              "      <th>b</th>\n",
              "      <th>2</th>\n",
              "      <td>6</td>\n",
              "      <td>8</td>\n",
              "      <td>NaN</td>\n",
              "      <td>7.0</td>\n",
              "    </tr>\n",
              "  </tbody>\n",
              "</table>\n",
              "</div>"
            ],
            "text/plain": [
              "    Pusan     Seoul     \n",
              "     Blue Red  Blue  Red\n",
              "a 1     0   2   NaN  1.0\n",
              "  2     3   5   NaN  4.0\n",
              "b 2     6   8   NaN  7.0"
            ]
          },
          "metadata": {},
          "execution_count": 44
        }
      ]
    },
    {
      "cell_type": "markdown",
      "metadata": {
        "id": "zBWO8NMTc3NN"
      },
      "source": [
        "중복 데이터 제거"
      ]
    },
    {
      "cell_type": "code",
      "metadata": {
        "colab": {
          "base_uri": "https://localhost:8080/",
          "height": 0
        },
        "id": "ULuCJEoxYUYH",
        "outputId": "ac585ed6-98ee-4dbb-e7e3-924c1c3e33fb"
      },
      "source": [
        "# 중복 값이 있는 데이터\n",
        "dupli_data = DataFrame({\n",
        "    'col1' : [1, 1, 2, 3, 4, 4, 6, 6],\n",
        "    'col2' : ['a', 'b', 'b', 'b', 'c', 'c', 'b', 'b']\n",
        "})\n",
        "\n",
        "print('・원본 데이터')\n",
        "dupli_data"
      ],
      "execution_count": 45,
      "outputs": [
        {
          "output_type": "stream",
          "text": [
            "・원본 데이터\n"
          ],
          "name": "stdout"
        },
        {
          "output_type": "execute_result",
          "data": {
            "text/html": [
              "<div>\n",
              "<style scoped>\n",
              "    .dataframe tbody tr th:only-of-type {\n",
              "        vertical-align: middle;\n",
              "    }\n",
              "\n",
              "    .dataframe tbody tr th {\n",
              "        vertical-align: top;\n",
              "    }\n",
              "\n",
              "    .dataframe thead th {\n",
              "        text-align: right;\n",
              "    }\n",
              "</style>\n",
              "<table border=\"1\" class=\"dataframe\">\n",
              "  <thead>\n",
              "    <tr style=\"text-align: right;\">\n",
              "      <th></th>\n",
              "      <th>col1</th>\n",
              "      <th>col2</th>\n",
              "    </tr>\n",
              "  </thead>\n",
              "  <tbody>\n",
              "    <tr>\n",
              "      <th>0</th>\n",
              "      <td>1</td>\n",
              "      <td>a</td>\n",
              "    </tr>\n",
              "    <tr>\n",
              "      <th>1</th>\n",
              "      <td>1</td>\n",
              "      <td>b</td>\n",
              "    </tr>\n",
              "    <tr>\n",
              "      <th>2</th>\n",
              "      <td>2</td>\n",
              "      <td>b</td>\n",
              "    </tr>\n",
              "    <tr>\n",
              "      <th>3</th>\n",
              "      <td>3</td>\n",
              "      <td>b</td>\n",
              "    </tr>\n",
              "    <tr>\n",
              "      <th>4</th>\n",
              "      <td>4</td>\n",
              "      <td>c</td>\n",
              "    </tr>\n",
              "    <tr>\n",
              "      <th>5</th>\n",
              "      <td>4</td>\n",
              "      <td>c</td>\n",
              "    </tr>\n",
              "    <tr>\n",
              "      <th>6</th>\n",
              "      <td>6</td>\n",
              "      <td>b</td>\n",
              "    </tr>\n",
              "    <tr>\n",
              "      <th>7</th>\n",
              "      <td>6</td>\n",
              "      <td>b</td>\n",
              "    </tr>\n",
              "  </tbody>\n",
              "</table>\n",
              "</div>"
            ],
            "text/plain": [
              "   col1 col2\n",
              "0     1    a\n",
              "1     1    b\n",
              "2     2    b\n",
              "3     3    b\n",
              "4     4    c\n",
              "5     4    c\n",
              "6     6    b\n",
              "7     6    b"
            ]
          },
          "metadata": {},
          "execution_count": 45
        }
      ]
    },
    {
      "cell_type": "code",
      "metadata": {
        "colab": {
          "base_uri": "https://localhost:8080/"
        },
        "id": "zz612ooDfQ65",
        "outputId": "fc52275f-fe3a-4eac-b154-11b90cbedead"
      },
      "source": [
        "# 중복 판정\n",
        "dupli_data.duplicated()"
      ],
      "execution_count": 46,
      "outputs": [
        {
          "output_type": "execute_result",
          "data": {
            "text/plain": [
              "0    False\n",
              "1    False\n",
              "2    False\n",
              "3    False\n",
              "4    False\n",
              "5     True\n",
              "6    False\n",
              "7     True\n",
              "dtype: bool"
            ]
          },
          "metadata": {},
          "execution_count": 46
        }
      ]
    },
    {
      "cell_type": "code",
      "metadata": {
        "colab": {
          "base_uri": "https://localhost:8080/",
          "height": 0
        },
        "id": "_xlyA3tGgMHB",
        "outputId": "149ab4d6-b59b-439e-813e-26d2421bb6a6"
      },
      "source": [
        "# 중복 제거\n",
        "dupli_data.drop_duplicates()"
      ],
      "execution_count": 47,
      "outputs": [
        {
          "output_type": "execute_result",
          "data": {
            "text/html": [
              "<div>\n",
              "<style scoped>\n",
              "    .dataframe tbody tr th:only-of-type {\n",
              "        vertical-align: middle;\n",
              "    }\n",
              "\n",
              "    .dataframe tbody tr th {\n",
              "        vertical-align: top;\n",
              "    }\n",
              "\n",
              "    .dataframe thead th {\n",
              "        text-align: right;\n",
              "    }\n",
              "</style>\n",
              "<table border=\"1\" class=\"dataframe\">\n",
              "  <thead>\n",
              "    <tr style=\"text-align: right;\">\n",
              "      <th></th>\n",
              "      <th>col1</th>\n",
              "      <th>col2</th>\n",
              "    </tr>\n",
              "  </thead>\n",
              "  <tbody>\n",
              "    <tr>\n",
              "      <th>0</th>\n",
              "      <td>1</td>\n",
              "      <td>a</td>\n",
              "    </tr>\n",
              "    <tr>\n",
              "      <th>1</th>\n",
              "      <td>1</td>\n",
              "      <td>b</td>\n",
              "    </tr>\n",
              "    <tr>\n",
              "      <th>2</th>\n",
              "      <td>2</td>\n",
              "      <td>b</td>\n",
              "    </tr>\n",
              "    <tr>\n",
              "      <th>3</th>\n",
              "      <td>3</td>\n",
              "      <td>b</td>\n",
              "    </tr>\n",
              "    <tr>\n",
              "      <th>4</th>\n",
              "      <td>4</td>\n",
              "      <td>c</td>\n",
              "    </tr>\n",
              "    <tr>\n",
              "      <th>6</th>\n",
              "      <td>6</td>\n",
              "      <td>b</td>\n",
              "    </tr>\n",
              "  </tbody>\n",
              "</table>\n",
              "</div>"
            ],
            "text/plain": [
              "   col1 col2\n",
              "0     1    a\n",
              "1     1    b\n",
              "2     2    b\n",
              "3     3    b\n",
              "4     4    c\n",
              "6     6    b"
            ]
          },
          "metadata": {},
          "execution_count": 47
        }
      ]
    },
    {
      "cell_type": "markdown",
      "metadata": {
        "id": "z8Jr-NGu_iRH"
      },
      "source": [
        "매핑"
      ]
    },
    {
      "cell_type": "code",
      "metadata": {
        "id": "hjcuQl3p_gph"
      },
      "source": [
        "# 엑셀의 vlookup 함수와 같은 작업 수행\n",
        "# 같은 키 값이 존재하는 두 개의 데이터에서 한쪽(참조) 데이터에서 다른 한쪽 데이터 키 값에 대응하는 데이터를 추출하는 기능"
      ],
      "execution_count": 48,
      "outputs": []
    },
    {
      "cell_type": "code",
      "metadata": {
        "colab": {
          "base_uri": "https://localhost:8080/"
        },
        "id": "HxJBz3td_npI",
        "outputId": "7a61746e-7ee4-4984-f473-671f08e393b5"
      },
      "source": [
        "# 참조 데이터\n",
        "city_map = {\n",
        "    'Seoul' : 'Sudo',           # 딕셔너리\n",
        "    'Gangneung' : 'Yeongdong',\n",
        "    'Pusan' : 'Yeongnam',\n",
        "    'Daegu' : 'Yeongnam'\n",
        "} \n",
        "city_map"
      ],
      "execution_count": 49,
      "outputs": [
        {
          "output_type": "execute_result",
          "data": {
            "text/plain": [
              "{'Daegu': 'Yeongnam',\n",
              " 'Gangneung': 'Yeongdong',\n",
              " 'Pusan': 'Yeongnam',\n",
              " 'Seoul': 'Sudo'}"
            ]
          },
          "metadata": {},
          "execution_count": 49
        }
      ]
    },
    {
      "cell_type": "code",
      "metadata": {
        "colab": {
          "base_uri": "https://localhost:8080/",
          "height": 0
        },
        "id": "pJKlITdOAKPl",
        "outputId": "11f6affb-df3a-4f7e-fe74-e7d90611ebfe"
      },
      "source": [
        "# 참조 데이터 결합\n",
        "# 대응하는 데이터가 없으면 NaN이 됨\n",
        "\n",
        "# df1에서 city 컬럼을 기준으로 위의 참조 데이터 city_map에 대응하는 지역명 데이터를 추출해 가장 오른쪽에 region 컬럼으로 추가하는 작업\n",
        "df1['region'] = df1['city'].map(city_map)\n",
        "df1"
      ],
      "execution_count": 50,
      "outputs": [
        {
          "output_type": "execute_result",
          "data": {
            "text/html": [
              "<div>\n",
              "<style scoped>\n",
              "    .dataframe tbody tr th:only-of-type {\n",
              "        vertical-align: middle;\n",
              "    }\n",
              "\n",
              "    .dataframe tbody tr th {\n",
              "        vertical-align: top;\n",
              "    }\n",
              "\n",
              "    .dataframe thead th {\n",
              "        text-align: right;\n",
              "    }\n",
              "</style>\n",
              "<table border=\"1\" class=\"dataframe\">\n",
              "  <thead>\n",
              "    <tr style=\"text-align: right;\">\n",
              "      <th></th>\n",
              "      <th>id</th>\n",
              "      <th>city</th>\n",
              "      <th>birth_year</th>\n",
              "      <th>name</th>\n",
              "      <th>region</th>\n",
              "    </tr>\n",
              "  </thead>\n",
              "  <tbody>\n",
              "    <tr>\n",
              "      <th>0</th>\n",
              "      <td>100</td>\n",
              "      <td>Seoul</td>\n",
              "      <td>1990</td>\n",
              "      <td>Junho</td>\n",
              "      <td>Sudo</td>\n",
              "    </tr>\n",
              "    <tr>\n",
              "      <th>1</th>\n",
              "      <td>101</td>\n",
              "      <td>Pusan</td>\n",
              "      <td>1989</td>\n",
              "      <td>Heejin</td>\n",
              "      <td>Yeongnam</td>\n",
              "    </tr>\n",
              "    <tr>\n",
              "      <th>2</th>\n",
              "      <td>102</td>\n",
              "      <td>Daegu</td>\n",
              "      <td>1992</td>\n",
              "      <td>Mijung</td>\n",
              "      <td>Yeongnam</td>\n",
              "    </tr>\n",
              "    <tr>\n",
              "      <th>3</th>\n",
              "      <td>103</td>\n",
              "      <td>Gangneung</td>\n",
              "      <td>1997</td>\n",
              "      <td>Minho</td>\n",
              "      <td>Yeongdong</td>\n",
              "    </tr>\n",
              "    <tr>\n",
              "      <th>4</th>\n",
              "      <td>104</td>\n",
              "      <td>Seoul</td>\n",
              "      <td>1982</td>\n",
              "      <td>Steeve</td>\n",
              "      <td>Sudo</td>\n",
              "    </tr>\n",
              "    <tr>\n",
              "      <th>5</th>\n",
              "      <td>106</td>\n",
              "      <td>Seoul</td>\n",
              "      <td>1991</td>\n",
              "      <td>Mina</td>\n",
              "      <td>Sudo</td>\n",
              "    </tr>\n",
              "    <tr>\n",
              "      <th>6</th>\n",
              "      <td>108</td>\n",
              "      <td>Pusan</td>\n",
              "      <td>1988</td>\n",
              "      <td>Sumi</td>\n",
              "      <td>Yeongnam</td>\n",
              "    </tr>\n",
              "    <tr>\n",
              "      <th>7</th>\n",
              "      <td>110</td>\n",
              "      <td>Daegu</td>\n",
              "      <td>1990</td>\n",
              "      <td>Minsu</td>\n",
              "      <td>Yeongnam</td>\n",
              "    </tr>\n",
              "    <tr>\n",
              "      <th>8</th>\n",
              "      <td>111</td>\n",
              "      <td>Gangneung</td>\n",
              "      <td>1995</td>\n",
              "      <td>Jinhee</td>\n",
              "      <td>Yeongdong</td>\n",
              "    </tr>\n",
              "    <tr>\n",
              "      <th>9</th>\n",
              "      <td>113</td>\n",
              "      <td>Seoul</td>\n",
              "      <td>1981</td>\n",
              "      <td>Daeho</td>\n",
              "      <td>Sudo</td>\n",
              "    </tr>\n",
              "  </tbody>\n",
              "</table>\n",
              "</div>"
            ],
            "text/plain": [
              "    id       city  birth_year    name     region\n",
              "0  100      Seoul        1990   Junho       Sudo\n",
              "1  101      Pusan        1989  Heejin   Yeongnam\n",
              "2  102      Daegu        1992  Mijung   Yeongnam\n",
              "3  103  Gangneung        1997   Minho  Yeongdong\n",
              "4  104      Seoul        1982  Steeve       Sudo\n",
              "5  106      Seoul        1991    Mina       Sudo\n",
              "6  108      Pusan        1988    Sumi   Yeongnam\n",
              "7  110      Daegu        1990   Minsu   Yeongnam\n",
              "8  111  Gangneung        1995  Jinhee  Yeongdong\n",
              "9  113      Seoul        1981   Daeho       Sudo"
            ]
          },
          "metadata": {},
          "execution_count": 50
        }
      ]
    },
    {
      "cell_type": "markdown",
      "metadata": {
        "id": "vVfND89lBIkX"
      },
      "source": [
        "익명함수와 map 함수 조합"
      ]
    },
    {
      "cell_type": "code",
      "metadata": {
        "colab": {
          "base_uri": "https://localhost:8080/",
          "height": 0
        },
        "id": "qS0991YaA_s8",
        "outputId": "11916edd-9a35-496d-bf28-1980bfe793d4"
      },
      "source": [
        "# birth_year에서 왼쪽부터 3개의 숫자-문자를 추출\n",
        "df1['up_two_num'] = df1['birth_year'].map(lambda x: str(x) [0:3])\n",
        "df1"
      ],
      "execution_count": 51,
      "outputs": [
        {
          "output_type": "execute_result",
          "data": {
            "text/html": [
              "<div>\n",
              "<style scoped>\n",
              "    .dataframe tbody tr th:only-of-type {\n",
              "        vertical-align: middle;\n",
              "    }\n",
              "\n",
              "    .dataframe tbody tr th {\n",
              "        vertical-align: top;\n",
              "    }\n",
              "\n",
              "    .dataframe thead th {\n",
              "        text-align: right;\n",
              "    }\n",
              "</style>\n",
              "<table border=\"1\" class=\"dataframe\">\n",
              "  <thead>\n",
              "    <tr style=\"text-align: right;\">\n",
              "      <th></th>\n",
              "      <th>id</th>\n",
              "      <th>city</th>\n",
              "      <th>birth_year</th>\n",
              "      <th>name</th>\n",
              "      <th>region</th>\n",
              "      <th>up_two_num</th>\n",
              "    </tr>\n",
              "  </thead>\n",
              "  <tbody>\n",
              "    <tr>\n",
              "      <th>0</th>\n",
              "      <td>100</td>\n",
              "      <td>Seoul</td>\n",
              "      <td>1990</td>\n",
              "      <td>Junho</td>\n",
              "      <td>Sudo</td>\n",
              "      <td>199</td>\n",
              "    </tr>\n",
              "    <tr>\n",
              "      <th>1</th>\n",
              "      <td>101</td>\n",
              "      <td>Pusan</td>\n",
              "      <td>1989</td>\n",
              "      <td>Heejin</td>\n",
              "      <td>Yeongnam</td>\n",
              "      <td>198</td>\n",
              "    </tr>\n",
              "    <tr>\n",
              "      <th>2</th>\n",
              "      <td>102</td>\n",
              "      <td>Daegu</td>\n",
              "      <td>1992</td>\n",
              "      <td>Mijung</td>\n",
              "      <td>Yeongnam</td>\n",
              "      <td>199</td>\n",
              "    </tr>\n",
              "    <tr>\n",
              "      <th>3</th>\n",
              "      <td>103</td>\n",
              "      <td>Gangneung</td>\n",
              "      <td>1997</td>\n",
              "      <td>Minho</td>\n",
              "      <td>Yeongdong</td>\n",
              "      <td>199</td>\n",
              "    </tr>\n",
              "    <tr>\n",
              "      <th>4</th>\n",
              "      <td>104</td>\n",
              "      <td>Seoul</td>\n",
              "      <td>1982</td>\n",
              "      <td>Steeve</td>\n",
              "      <td>Sudo</td>\n",
              "      <td>198</td>\n",
              "    </tr>\n",
              "    <tr>\n",
              "      <th>5</th>\n",
              "      <td>106</td>\n",
              "      <td>Seoul</td>\n",
              "      <td>1991</td>\n",
              "      <td>Mina</td>\n",
              "      <td>Sudo</td>\n",
              "      <td>199</td>\n",
              "    </tr>\n",
              "    <tr>\n",
              "      <th>6</th>\n",
              "      <td>108</td>\n",
              "      <td>Pusan</td>\n",
              "      <td>1988</td>\n",
              "      <td>Sumi</td>\n",
              "      <td>Yeongnam</td>\n",
              "      <td>198</td>\n",
              "    </tr>\n",
              "    <tr>\n",
              "      <th>7</th>\n",
              "      <td>110</td>\n",
              "      <td>Daegu</td>\n",
              "      <td>1990</td>\n",
              "      <td>Minsu</td>\n",
              "      <td>Yeongnam</td>\n",
              "      <td>199</td>\n",
              "    </tr>\n",
              "    <tr>\n",
              "      <th>8</th>\n",
              "      <td>111</td>\n",
              "      <td>Gangneung</td>\n",
              "      <td>1995</td>\n",
              "      <td>Jinhee</td>\n",
              "      <td>Yeongdong</td>\n",
              "      <td>199</td>\n",
              "    </tr>\n",
              "    <tr>\n",
              "      <th>9</th>\n",
              "      <td>113</td>\n",
              "      <td>Seoul</td>\n",
              "      <td>1981</td>\n",
              "      <td>Daeho</td>\n",
              "      <td>Sudo</td>\n",
              "      <td>198</td>\n",
              "    </tr>\n",
              "  </tbody>\n",
              "</table>\n",
              "</div>"
            ],
            "text/plain": [
              "    id       city  birth_year    name     region up_two_num\n",
              "0  100      Seoul        1990   Junho       Sudo        199\n",
              "1  101      Pusan        1989  Heejin   Yeongnam        198\n",
              "2  102      Daegu        1992  Mijung   Yeongnam        199\n",
              "3  103  Gangneung        1997   Minho  Yeongdong        199\n",
              "4  104      Seoul        1982  Steeve       Sudo        198\n",
              "5  106      Seoul        1991    Mina       Sudo        199\n",
              "6  108      Pusan        1988    Sumi   Yeongnam        198\n",
              "7  110      Daegu        1990   Minsu   Yeongnam        199\n",
              "8  111  Gangneung        1995  Jinhee  Yeongdong        199\n",
              "9  113      Seoul        1981   Daeho       Sudo        198"
            ]
          },
          "metadata": {},
          "execution_count": 51
        }
      ]
    },
    {
      "cell_type": "markdown",
      "metadata": {
        "id": "-yDrxRT_KUvY"
      },
      "source": [
        "구간화"
      ]
    },
    {
      "cell_type": "code",
      "metadata": {
        "id": "hd3w89XfJ3_o"
      },
      "source": [
        "# 이산적 구간으로 나누어 집계할 때 구간 분할 기능을 이요하면 편리\n",
        "# 판다스 cut 함수를 이용해 구간 생성 가능\n",
        "# cut 함수의 첫 번째 인수는 대상 데이터, 두 번째 인수는 구간을 나누는 경곗값 지정"
      ],
      "execution_count": 52,
      "outputs": []
    },
    {
      "cell_type": "code",
      "metadata": {
        "colab": {
          "base_uri": "https://localhost:8080/"
        },
        "id": "w2lUgVP4Ms-w",
        "outputId": "a5e706cb-c40f-48a1-9c96-94e182900180"
      },
      "source": [
        "# 구간 분할 단위\n",
        "birth_year_bins = [1980, 1985, 1990, 1995, 2000]\n",
        "\n",
        "# 구간 분할 실행\n",
        "birth_year_cut_data = pd.cut(df1.birth_year, birth_year_bins)\n",
        "birth_year_cut_data"
      ],
      "execution_count": 53,
      "outputs": [
        {
          "output_type": "execute_result",
          "data": {
            "text/plain": [
              "0    (1985, 1990]\n",
              "1    (1985, 1990]\n",
              "2    (1990, 1995]\n",
              "3    (1995, 2000]\n",
              "4    (1980, 1985]\n",
              "5    (1990, 1995]\n",
              "6    (1985, 1990]\n",
              "7    (1985, 1990]\n",
              "8    (1990, 1995]\n",
              "9    (1980, 1985]\n",
              "Name: birth_year, dtype: category\n",
              "Categories (4, interval[int64]): [(1980, 1985] < (1985, 1990] < (1990, 1995] < (1995, 2000]]"
            ]
          },
          "metadata": {},
          "execution_count": 53
        }
      ]
    },
    {
      "cell_type": "code",
      "metadata": {
        "colab": {
          "base_uri": "https://localhost:8080/"
        },
        "id": "WkT309O6S6nQ",
        "outputId": "2071a0f0-0b27-411f-8481-abf476d94e53"
      },
      "source": [
        "# 집계 결과\n",
        "\n",
        "# count_value 함수 : 구간으로 분할된 데이터의 구간별 개수 집계 시 이용\n",
        "pd.value_counts(birth_year_cut_data)"
      ],
      "execution_count": 54,
      "outputs": [
        {
          "output_type": "execute_result",
          "data": {
            "text/plain": [
              "(1985, 1990]    4\n",
              "(1990, 1995]    3\n",
              "(1980, 1985]    2\n",
              "(1995, 2000]    1\n",
              "Name: birth_year, dtype: int64"
            ]
          },
          "metadata": {},
          "execution_count": 54
        }
      ]
    },
    {
      "cell_type": "code",
      "metadata": {
        "colab": {
          "base_uri": "https://localhost:8080/"
        },
        "id": "JoKo_PaJashI",
        "outputId": "e0e6e705-22db-4961-e6b3-569a8269f61c"
      },
      "source": [
        "# 이름 붙이기\n",
        "group_names = ['early1980s', 'late1980s', 'early1990s', 'late1990s']\n",
        "birth_year_cut_data = pd.cut(df1.birth_year, birth_year_bins,\n",
        "                             labels = group_names)\n",
        "pd.value_counts(birth_year_cut_data)"
      ],
      "execution_count": 55,
      "outputs": [
        {
          "output_type": "execute_result",
          "data": {
            "text/plain": [
              "late1980s     4\n",
              "early1990s    3\n",
              "early1980s    2\n",
              "late1990s     1\n",
              "Name: birth_year, dtype: int64"
            ]
          },
          "metadata": {},
          "execution_count": 55
        }
      ]
    },
    {
      "cell_type": "code",
      "metadata": {
        "colab": {
          "base_uri": "https://localhost:8080/"
        },
        "id": "Bb6txelecq8F",
        "outputId": "7cfbb218-b28b-4401-ba28-e0d90db0ed24"
      },
      "source": [
        "# 나눌 구간 수를 지정 가능, 여기에서는 두 개 구간으로 분할\n",
        "pd.cut(df1.birth_year, 2)"
      ],
      "execution_count": 56,
      "outputs": [
        {
          "output_type": "execute_result",
          "data": {
            "text/plain": [
              "0      (1989.0, 1997.0]\n",
              "1    (1980.984, 1989.0]\n",
              "2      (1989.0, 1997.0]\n",
              "3      (1989.0, 1997.0]\n",
              "4    (1980.984, 1989.0]\n",
              "5      (1989.0, 1997.0]\n",
              "6    (1980.984, 1989.0]\n",
              "7      (1989.0, 1997.0]\n",
              "8      (1989.0, 1997.0]\n",
              "9    (1980.984, 1989.0]\n",
              "Name: birth_year, dtype: category\n",
              "Categories (2, interval[float64]): [(1980.984, 1989.0] < (1989.0, 1997.0]]"
            ]
          },
          "metadata": {},
          "execution_count": 56
        }
      ]
    },
    {
      "cell_type": "code",
      "metadata": {
        "colab": {
          "base_uri": "https://localhost:8080/"
        },
        "id": "RlDGweSelxZv",
        "outputId": "0071b94c-4948-4398-e3ac-c59386768297"
      },
      "source": [
        "# qcut 함수 : 분위수를 기준으로 각 구간마다 거의 동일한 샘플 데이터 개수를 포함하도록 분할\n",
        "\n",
        "pd.value_counts(pd.qcut(df1.birth_year, 2))"
      ],
      "execution_count": 57,
      "outputs": [
        {
          "output_type": "execute_result",
          "data": {
            "text/plain": [
              "(1980.999, 1990.0]    6\n",
              "(1990.0, 1997.0]      4\n",
              "Name: birth_year, dtype: int64"
            ]
          },
          "metadata": {},
          "execution_count": 57
        }
      ]
    },
    {
      "cell_type": "markdown",
      "metadata": {
        "id": "L59195RmrZa7"
      },
      "source": [
        "### [ 연습문제 6-7 ]\n",
        "3장의 수학 성적 데이터 student-mat.csv를 읽어 들여, 연령(age)에 2를 곱한 새로운 컬럼을 마지막 열에 추가하세요."
      ]
    },
    {
      "cell_type": "code",
      "metadata": {
        "id": "X233ucFMtEPU"
      },
      "source": [
        "import requests, zipfile\n",
        "from io import StringIO\n",
        "import io"
      ],
      "execution_count": 58,
      "outputs": []
    },
    {
      "cell_type": "code",
      "metadata": {
        "id": "RKzUsVOWtMlD"
      },
      "source": [
        "url = 'http://archive.ics.uci.edu/ml/machine-learning-databases/00356/student.zip'\n",
        "\n",
        "r = requests.get(url, stream = True)\n",
        "\n",
        "z = zipfile.ZipFile(io.BytesIO(r.content))\n",
        "z.extractall()"
      ],
      "execution_count": 59,
      "outputs": []
    },
    {
      "cell_type": "code",
      "metadata": {
        "id": "1p_hS8ERnbqP"
      },
      "source": [
        "student_data_mat = pd.read_csv('student-mat.csv', sep = ';')"
      ],
      "execution_count": 60,
      "outputs": []
    },
    {
      "cell_type": "code",
      "metadata": {
        "id": "1xxw-f_LwGbP"
      },
      "source": [
        "# student_data_mat1 = student_data_mat"
      ],
      "execution_count": 61,
      "outputs": []
    },
    {
      "cell_type": "code",
      "metadata": {
        "id": "zprIbVI9veoO"
      },
      "source": [
        "student_data_mat.insert(3, 'age2', student_data_mat['age'].map(lambda x: x*2), allow_duplicates=False)"
      ],
      "execution_count": 62,
      "outputs": []
    },
    {
      "cell_type": "code",
      "metadata": {
        "colab": {
          "base_uri": "https://localhost:8080/",
          "height": 0
        },
        "id": "fn5HEJrRwVJq",
        "outputId": "859f733f-3a0d-481e-c277-6a3a54b5deaa"
      },
      "source": [
        "student_data_mat"
      ],
      "execution_count": 63,
      "outputs": [
        {
          "output_type": "execute_result",
          "data": {
            "text/html": [
              "<div>\n",
              "<style scoped>\n",
              "    .dataframe tbody tr th:only-of-type {\n",
              "        vertical-align: middle;\n",
              "    }\n",
              "\n",
              "    .dataframe tbody tr th {\n",
              "        vertical-align: top;\n",
              "    }\n",
              "\n",
              "    .dataframe thead th {\n",
              "        text-align: right;\n",
              "    }\n",
              "</style>\n",
              "<table border=\"1\" class=\"dataframe\">\n",
              "  <thead>\n",
              "    <tr style=\"text-align: right;\">\n",
              "      <th></th>\n",
              "      <th>school</th>\n",
              "      <th>sex</th>\n",
              "      <th>age</th>\n",
              "      <th>age2</th>\n",
              "      <th>address</th>\n",
              "      <th>famsize</th>\n",
              "      <th>Pstatus</th>\n",
              "      <th>Medu</th>\n",
              "      <th>Fedu</th>\n",
              "      <th>Mjob</th>\n",
              "      <th>Fjob</th>\n",
              "      <th>reason</th>\n",
              "      <th>guardian</th>\n",
              "      <th>traveltime</th>\n",
              "      <th>studytime</th>\n",
              "      <th>failures</th>\n",
              "      <th>schoolsup</th>\n",
              "      <th>famsup</th>\n",
              "      <th>paid</th>\n",
              "      <th>activities</th>\n",
              "      <th>nursery</th>\n",
              "      <th>higher</th>\n",
              "      <th>internet</th>\n",
              "      <th>romantic</th>\n",
              "      <th>famrel</th>\n",
              "      <th>freetime</th>\n",
              "      <th>goout</th>\n",
              "      <th>Dalc</th>\n",
              "      <th>Walc</th>\n",
              "      <th>health</th>\n",
              "      <th>absences</th>\n",
              "      <th>G1</th>\n",
              "      <th>G2</th>\n",
              "      <th>G3</th>\n",
              "    </tr>\n",
              "  </thead>\n",
              "  <tbody>\n",
              "    <tr>\n",
              "      <th>0</th>\n",
              "      <td>GP</td>\n",
              "      <td>F</td>\n",
              "      <td>18</td>\n",
              "      <td>36</td>\n",
              "      <td>U</td>\n",
              "      <td>GT3</td>\n",
              "      <td>A</td>\n",
              "      <td>4</td>\n",
              "      <td>4</td>\n",
              "      <td>at_home</td>\n",
              "      <td>teacher</td>\n",
              "      <td>course</td>\n",
              "      <td>mother</td>\n",
              "      <td>2</td>\n",
              "      <td>2</td>\n",
              "      <td>0</td>\n",
              "      <td>yes</td>\n",
              "      <td>no</td>\n",
              "      <td>no</td>\n",
              "      <td>no</td>\n",
              "      <td>yes</td>\n",
              "      <td>yes</td>\n",
              "      <td>no</td>\n",
              "      <td>no</td>\n",
              "      <td>4</td>\n",
              "      <td>3</td>\n",
              "      <td>4</td>\n",
              "      <td>1</td>\n",
              "      <td>1</td>\n",
              "      <td>3</td>\n",
              "      <td>6</td>\n",
              "      <td>5</td>\n",
              "      <td>6</td>\n",
              "      <td>6</td>\n",
              "    </tr>\n",
              "    <tr>\n",
              "      <th>1</th>\n",
              "      <td>GP</td>\n",
              "      <td>F</td>\n",
              "      <td>17</td>\n",
              "      <td>34</td>\n",
              "      <td>U</td>\n",
              "      <td>GT3</td>\n",
              "      <td>T</td>\n",
              "      <td>1</td>\n",
              "      <td>1</td>\n",
              "      <td>at_home</td>\n",
              "      <td>other</td>\n",
              "      <td>course</td>\n",
              "      <td>father</td>\n",
              "      <td>1</td>\n",
              "      <td>2</td>\n",
              "      <td>0</td>\n",
              "      <td>no</td>\n",
              "      <td>yes</td>\n",
              "      <td>no</td>\n",
              "      <td>no</td>\n",
              "      <td>no</td>\n",
              "      <td>yes</td>\n",
              "      <td>yes</td>\n",
              "      <td>no</td>\n",
              "      <td>5</td>\n",
              "      <td>3</td>\n",
              "      <td>3</td>\n",
              "      <td>1</td>\n",
              "      <td>1</td>\n",
              "      <td>3</td>\n",
              "      <td>4</td>\n",
              "      <td>5</td>\n",
              "      <td>5</td>\n",
              "      <td>6</td>\n",
              "    </tr>\n",
              "    <tr>\n",
              "      <th>2</th>\n",
              "      <td>GP</td>\n",
              "      <td>F</td>\n",
              "      <td>15</td>\n",
              "      <td>30</td>\n",
              "      <td>U</td>\n",
              "      <td>LE3</td>\n",
              "      <td>T</td>\n",
              "      <td>1</td>\n",
              "      <td>1</td>\n",
              "      <td>at_home</td>\n",
              "      <td>other</td>\n",
              "      <td>other</td>\n",
              "      <td>mother</td>\n",
              "      <td>1</td>\n",
              "      <td>2</td>\n",
              "      <td>3</td>\n",
              "      <td>yes</td>\n",
              "      <td>no</td>\n",
              "      <td>yes</td>\n",
              "      <td>no</td>\n",
              "      <td>yes</td>\n",
              "      <td>yes</td>\n",
              "      <td>yes</td>\n",
              "      <td>no</td>\n",
              "      <td>4</td>\n",
              "      <td>3</td>\n",
              "      <td>2</td>\n",
              "      <td>2</td>\n",
              "      <td>3</td>\n",
              "      <td>3</td>\n",
              "      <td>10</td>\n",
              "      <td>7</td>\n",
              "      <td>8</td>\n",
              "      <td>10</td>\n",
              "    </tr>\n",
              "    <tr>\n",
              "      <th>3</th>\n",
              "      <td>GP</td>\n",
              "      <td>F</td>\n",
              "      <td>15</td>\n",
              "      <td>30</td>\n",
              "      <td>U</td>\n",
              "      <td>GT3</td>\n",
              "      <td>T</td>\n",
              "      <td>4</td>\n",
              "      <td>2</td>\n",
              "      <td>health</td>\n",
              "      <td>services</td>\n",
              "      <td>home</td>\n",
              "      <td>mother</td>\n",
              "      <td>1</td>\n",
              "      <td>3</td>\n",
              "      <td>0</td>\n",
              "      <td>no</td>\n",
              "      <td>yes</td>\n",
              "      <td>yes</td>\n",
              "      <td>yes</td>\n",
              "      <td>yes</td>\n",
              "      <td>yes</td>\n",
              "      <td>yes</td>\n",
              "      <td>yes</td>\n",
              "      <td>3</td>\n",
              "      <td>2</td>\n",
              "      <td>2</td>\n",
              "      <td>1</td>\n",
              "      <td>1</td>\n",
              "      <td>5</td>\n",
              "      <td>2</td>\n",
              "      <td>15</td>\n",
              "      <td>14</td>\n",
              "      <td>15</td>\n",
              "    </tr>\n",
              "    <tr>\n",
              "      <th>4</th>\n",
              "      <td>GP</td>\n",
              "      <td>F</td>\n",
              "      <td>16</td>\n",
              "      <td>32</td>\n",
              "      <td>U</td>\n",
              "      <td>GT3</td>\n",
              "      <td>T</td>\n",
              "      <td>3</td>\n",
              "      <td>3</td>\n",
              "      <td>other</td>\n",
              "      <td>other</td>\n",
              "      <td>home</td>\n",
              "      <td>father</td>\n",
              "      <td>1</td>\n",
              "      <td>2</td>\n",
              "      <td>0</td>\n",
              "      <td>no</td>\n",
              "      <td>yes</td>\n",
              "      <td>yes</td>\n",
              "      <td>no</td>\n",
              "      <td>yes</td>\n",
              "      <td>yes</td>\n",
              "      <td>no</td>\n",
              "      <td>no</td>\n",
              "      <td>4</td>\n",
              "      <td>3</td>\n",
              "      <td>2</td>\n",
              "      <td>1</td>\n",
              "      <td>2</td>\n",
              "      <td>5</td>\n",
              "      <td>4</td>\n",
              "      <td>6</td>\n",
              "      <td>10</td>\n",
              "      <td>10</td>\n",
              "    </tr>\n",
              "    <tr>\n",
              "      <th>...</th>\n",
              "      <td>...</td>\n",
              "      <td>...</td>\n",
              "      <td>...</td>\n",
              "      <td>...</td>\n",
              "      <td>...</td>\n",
              "      <td>...</td>\n",
              "      <td>...</td>\n",
              "      <td>...</td>\n",
              "      <td>...</td>\n",
              "      <td>...</td>\n",
              "      <td>...</td>\n",
              "      <td>...</td>\n",
              "      <td>...</td>\n",
              "      <td>...</td>\n",
              "      <td>...</td>\n",
              "      <td>...</td>\n",
              "      <td>...</td>\n",
              "      <td>...</td>\n",
              "      <td>...</td>\n",
              "      <td>...</td>\n",
              "      <td>...</td>\n",
              "      <td>...</td>\n",
              "      <td>...</td>\n",
              "      <td>...</td>\n",
              "      <td>...</td>\n",
              "      <td>...</td>\n",
              "      <td>...</td>\n",
              "      <td>...</td>\n",
              "      <td>...</td>\n",
              "      <td>...</td>\n",
              "      <td>...</td>\n",
              "      <td>...</td>\n",
              "      <td>...</td>\n",
              "      <td>...</td>\n",
              "    </tr>\n",
              "    <tr>\n",
              "      <th>390</th>\n",
              "      <td>MS</td>\n",
              "      <td>M</td>\n",
              "      <td>20</td>\n",
              "      <td>40</td>\n",
              "      <td>U</td>\n",
              "      <td>LE3</td>\n",
              "      <td>A</td>\n",
              "      <td>2</td>\n",
              "      <td>2</td>\n",
              "      <td>services</td>\n",
              "      <td>services</td>\n",
              "      <td>course</td>\n",
              "      <td>other</td>\n",
              "      <td>1</td>\n",
              "      <td>2</td>\n",
              "      <td>2</td>\n",
              "      <td>no</td>\n",
              "      <td>yes</td>\n",
              "      <td>yes</td>\n",
              "      <td>no</td>\n",
              "      <td>yes</td>\n",
              "      <td>yes</td>\n",
              "      <td>no</td>\n",
              "      <td>no</td>\n",
              "      <td>5</td>\n",
              "      <td>5</td>\n",
              "      <td>4</td>\n",
              "      <td>4</td>\n",
              "      <td>5</td>\n",
              "      <td>4</td>\n",
              "      <td>11</td>\n",
              "      <td>9</td>\n",
              "      <td>9</td>\n",
              "      <td>9</td>\n",
              "    </tr>\n",
              "    <tr>\n",
              "      <th>391</th>\n",
              "      <td>MS</td>\n",
              "      <td>M</td>\n",
              "      <td>17</td>\n",
              "      <td>34</td>\n",
              "      <td>U</td>\n",
              "      <td>LE3</td>\n",
              "      <td>T</td>\n",
              "      <td>3</td>\n",
              "      <td>1</td>\n",
              "      <td>services</td>\n",
              "      <td>services</td>\n",
              "      <td>course</td>\n",
              "      <td>mother</td>\n",
              "      <td>2</td>\n",
              "      <td>1</td>\n",
              "      <td>0</td>\n",
              "      <td>no</td>\n",
              "      <td>no</td>\n",
              "      <td>no</td>\n",
              "      <td>no</td>\n",
              "      <td>no</td>\n",
              "      <td>yes</td>\n",
              "      <td>yes</td>\n",
              "      <td>no</td>\n",
              "      <td>2</td>\n",
              "      <td>4</td>\n",
              "      <td>5</td>\n",
              "      <td>3</td>\n",
              "      <td>4</td>\n",
              "      <td>2</td>\n",
              "      <td>3</td>\n",
              "      <td>14</td>\n",
              "      <td>16</td>\n",
              "      <td>16</td>\n",
              "    </tr>\n",
              "    <tr>\n",
              "      <th>392</th>\n",
              "      <td>MS</td>\n",
              "      <td>M</td>\n",
              "      <td>21</td>\n",
              "      <td>42</td>\n",
              "      <td>R</td>\n",
              "      <td>GT3</td>\n",
              "      <td>T</td>\n",
              "      <td>1</td>\n",
              "      <td>1</td>\n",
              "      <td>other</td>\n",
              "      <td>other</td>\n",
              "      <td>course</td>\n",
              "      <td>other</td>\n",
              "      <td>1</td>\n",
              "      <td>1</td>\n",
              "      <td>3</td>\n",
              "      <td>no</td>\n",
              "      <td>no</td>\n",
              "      <td>no</td>\n",
              "      <td>no</td>\n",
              "      <td>no</td>\n",
              "      <td>yes</td>\n",
              "      <td>no</td>\n",
              "      <td>no</td>\n",
              "      <td>5</td>\n",
              "      <td>5</td>\n",
              "      <td>3</td>\n",
              "      <td>3</td>\n",
              "      <td>3</td>\n",
              "      <td>3</td>\n",
              "      <td>3</td>\n",
              "      <td>10</td>\n",
              "      <td>8</td>\n",
              "      <td>7</td>\n",
              "    </tr>\n",
              "    <tr>\n",
              "      <th>393</th>\n",
              "      <td>MS</td>\n",
              "      <td>M</td>\n",
              "      <td>18</td>\n",
              "      <td>36</td>\n",
              "      <td>R</td>\n",
              "      <td>LE3</td>\n",
              "      <td>T</td>\n",
              "      <td>3</td>\n",
              "      <td>2</td>\n",
              "      <td>services</td>\n",
              "      <td>other</td>\n",
              "      <td>course</td>\n",
              "      <td>mother</td>\n",
              "      <td>3</td>\n",
              "      <td>1</td>\n",
              "      <td>0</td>\n",
              "      <td>no</td>\n",
              "      <td>no</td>\n",
              "      <td>no</td>\n",
              "      <td>no</td>\n",
              "      <td>no</td>\n",
              "      <td>yes</td>\n",
              "      <td>yes</td>\n",
              "      <td>no</td>\n",
              "      <td>4</td>\n",
              "      <td>4</td>\n",
              "      <td>1</td>\n",
              "      <td>3</td>\n",
              "      <td>4</td>\n",
              "      <td>5</td>\n",
              "      <td>0</td>\n",
              "      <td>11</td>\n",
              "      <td>12</td>\n",
              "      <td>10</td>\n",
              "    </tr>\n",
              "    <tr>\n",
              "      <th>394</th>\n",
              "      <td>MS</td>\n",
              "      <td>M</td>\n",
              "      <td>19</td>\n",
              "      <td>38</td>\n",
              "      <td>U</td>\n",
              "      <td>LE3</td>\n",
              "      <td>T</td>\n",
              "      <td>1</td>\n",
              "      <td>1</td>\n",
              "      <td>other</td>\n",
              "      <td>at_home</td>\n",
              "      <td>course</td>\n",
              "      <td>father</td>\n",
              "      <td>1</td>\n",
              "      <td>1</td>\n",
              "      <td>0</td>\n",
              "      <td>no</td>\n",
              "      <td>no</td>\n",
              "      <td>no</td>\n",
              "      <td>no</td>\n",
              "      <td>yes</td>\n",
              "      <td>yes</td>\n",
              "      <td>yes</td>\n",
              "      <td>no</td>\n",
              "      <td>3</td>\n",
              "      <td>2</td>\n",
              "      <td>3</td>\n",
              "      <td>3</td>\n",
              "      <td>3</td>\n",
              "      <td>5</td>\n",
              "      <td>5</td>\n",
              "      <td>8</td>\n",
              "      <td>9</td>\n",
              "      <td>9</td>\n",
              "    </tr>\n",
              "  </tbody>\n",
              "</table>\n",
              "<p>395 rows × 34 columns</p>\n",
              "</div>"
            ],
            "text/plain": [
              "    school sex  age  age2 address famsize  ... Walc  health  absences  G1  G2  G3\n",
              "0       GP   F   18    36       U     GT3  ...    1       3         6   5   6   6\n",
              "1       GP   F   17    34       U     GT3  ...    1       3         4   5   5   6\n",
              "2       GP   F   15    30       U     LE3  ...    3       3        10   7   8  10\n",
              "3       GP   F   15    30       U     GT3  ...    1       5         2  15  14  15\n",
              "4       GP   F   16    32       U     GT3  ...    2       5         4   6  10  10\n",
              "..     ...  ..  ...   ...     ...     ...  ...  ...     ...       ...  ..  ..  ..\n",
              "390     MS   M   20    40       U     LE3  ...    5       4        11   9   9   9\n",
              "391     MS   M   17    34       U     LE3  ...    4       2         3  14  16  16\n",
              "392     MS   M   21    42       R     GT3  ...    3       3         3  10   8   7\n",
              "393     MS   M   18    36       R     LE3  ...    4       5         0  11  12  10\n",
              "394     MS   M   19    38       U     LE3  ...    3       5         5   8   9   9\n",
              "\n",
              "[395 rows x 34 columns]"
            ]
          },
          "metadata": {},
          "execution_count": 63
        }
      ]
    },
    {
      "cell_type": "markdown",
      "metadata": {
        "id": "cd8_S2Awrkcp"
      },
      "source": [
        "### [ 연습문제 6-8 ]\n",
        "연습문제 6-7과 동일한 데이터에서 absences 컬럼을 세 개의 구간으로 나누고 각 구간별 학생 수를 계산하세요. cut이 기본 설정은 오른쪽이 구간에 포함되지 않는데(폐구간), 이번에는 cut 함수에서 right = False 옵션을 지정해 오른쪽을 구간에 포함하세요(개구간).  "
      ]
    },
    {
      "cell_type": "code",
      "metadata": {
        "id": "w9HDijXFr1Ga"
      },
      "source": [
        "# 구간 분할 간격\n",
        "absences_bins = [0, 1, 5, 100]"
      ],
      "execution_count": 64,
      "outputs": []
    },
    {
      "cell_type": "code",
      "metadata": {
        "id": "lieTEzDkr5es"
      },
      "source": [
        "cut_absences = pd.cut(student_data_mat.absences, absences_bins, right = False)"
      ],
      "execution_count": 65,
      "outputs": []
    },
    {
      "cell_type": "code",
      "metadata": {
        "colab": {
          "base_uri": "https://localhost:8080/"
        },
        "id": "ENJyO8I46-e0",
        "outputId": "57a348c6-870d-4773-8132-a116a7af7a56"
      },
      "source": [
        "pd.value_counts(cut_absences)"
      ],
      "execution_count": 66,
      "outputs": [
        {
          "output_type": "execute_result",
          "data": {
            "text/plain": [
              "[5, 100)    151\n",
              "[1, 5)      129\n",
              "[0, 1)      115\n",
              "Name: absences, dtype: int64"
            ]
          },
          "metadata": {},
          "execution_count": 66
        }
      ]
    },
    {
      "cell_type": "code",
      "metadata": {
        "id": "gzbLe9ut9ZlH"
      },
      "source": [
        ""
      ],
      "execution_count": 66,
      "outputs": []
    },
    {
      "cell_type": "markdown",
      "metadata": {
        "id": "_prm1kq-r6-q"
      },
      "source": [
        "### [ 연습문제 6-9 ]\n",
        "동일한 데이터에서 absences 컬럼을 qcut 함수로 세 개의 구간으로 분할하세요."
      ]
    },
    {
      "cell_type": "code",
      "metadata": {
        "id": "r92AK9_CsBbW"
      },
      "source": [
        "qcut_absences = pd.qcut(student_data_mat.absences, 3)"
      ],
      "execution_count": 67,
      "outputs": []
    },
    {
      "cell_type": "code",
      "metadata": {
        "colab": {
          "base_uri": "https://localhost:8080/"
        },
        "id": "KaC_QOy48Hnh",
        "outputId": "5fc69a7b-8728-4103-8161-279f5bc4354d"
      },
      "source": [
        "pd.value_counts(qcut_absences)"
      ],
      "execution_count": 68,
      "outputs": [
        {
          "output_type": "execute_result",
          "data": {
            "text/plain": [
              "(-0.001, 2.0]    183\n",
              "(6.0, 75.0]      115\n",
              "(2.0, 6.0]        97\n",
              "Name: absences, dtype: int64"
            ]
          },
          "metadata": {},
          "execution_count": 68
        }
      ]
    },
    {
      "cell_type": "markdown",
      "metadata": {
        "id": "awrKR9JY9szE"
      },
      "source": [
        "6.2.4. 데이터 집계와 그룹 연산"
      ]
    },
    {
      "cell_type": "code",
      "metadata": {
        "colab": {
          "base_uri": "https://localhost:8080/",
          "height": 0
        },
        "id": "YEQM_iJl8Wq4",
        "outputId": "8a79d1b2-cdb4-4bcd-da30-9f7211ecb0cf"
      },
      "source": [
        "# 데이터 준비(확인), region 포함\n",
        "df1"
      ],
      "execution_count": 69,
      "outputs": [
        {
          "output_type": "execute_result",
          "data": {
            "text/html": [
              "<div>\n",
              "<style scoped>\n",
              "    .dataframe tbody tr th:only-of-type {\n",
              "        vertical-align: middle;\n",
              "    }\n",
              "\n",
              "    .dataframe tbody tr th {\n",
              "        vertical-align: top;\n",
              "    }\n",
              "\n",
              "    .dataframe thead th {\n",
              "        text-align: right;\n",
              "    }\n",
              "</style>\n",
              "<table border=\"1\" class=\"dataframe\">\n",
              "  <thead>\n",
              "    <tr style=\"text-align: right;\">\n",
              "      <th></th>\n",
              "      <th>id</th>\n",
              "      <th>city</th>\n",
              "      <th>birth_year</th>\n",
              "      <th>name</th>\n",
              "      <th>region</th>\n",
              "      <th>up_two_num</th>\n",
              "    </tr>\n",
              "  </thead>\n",
              "  <tbody>\n",
              "    <tr>\n",
              "      <th>0</th>\n",
              "      <td>100</td>\n",
              "      <td>Seoul</td>\n",
              "      <td>1990</td>\n",
              "      <td>Junho</td>\n",
              "      <td>Sudo</td>\n",
              "      <td>199</td>\n",
              "    </tr>\n",
              "    <tr>\n",
              "      <th>1</th>\n",
              "      <td>101</td>\n",
              "      <td>Pusan</td>\n",
              "      <td>1989</td>\n",
              "      <td>Heejin</td>\n",
              "      <td>Yeongnam</td>\n",
              "      <td>198</td>\n",
              "    </tr>\n",
              "    <tr>\n",
              "      <th>2</th>\n",
              "      <td>102</td>\n",
              "      <td>Daegu</td>\n",
              "      <td>1992</td>\n",
              "      <td>Mijung</td>\n",
              "      <td>Yeongnam</td>\n",
              "      <td>199</td>\n",
              "    </tr>\n",
              "    <tr>\n",
              "      <th>3</th>\n",
              "      <td>103</td>\n",
              "      <td>Gangneung</td>\n",
              "      <td>1997</td>\n",
              "      <td>Minho</td>\n",
              "      <td>Yeongdong</td>\n",
              "      <td>199</td>\n",
              "    </tr>\n",
              "    <tr>\n",
              "      <th>4</th>\n",
              "      <td>104</td>\n",
              "      <td>Seoul</td>\n",
              "      <td>1982</td>\n",
              "      <td>Steeve</td>\n",
              "      <td>Sudo</td>\n",
              "      <td>198</td>\n",
              "    </tr>\n",
              "    <tr>\n",
              "      <th>5</th>\n",
              "      <td>106</td>\n",
              "      <td>Seoul</td>\n",
              "      <td>1991</td>\n",
              "      <td>Mina</td>\n",
              "      <td>Sudo</td>\n",
              "      <td>199</td>\n",
              "    </tr>\n",
              "    <tr>\n",
              "      <th>6</th>\n",
              "      <td>108</td>\n",
              "      <td>Pusan</td>\n",
              "      <td>1988</td>\n",
              "      <td>Sumi</td>\n",
              "      <td>Yeongnam</td>\n",
              "      <td>198</td>\n",
              "    </tr>\n",
              "    <tr>\n",
              "      <th>7</th>\n",
              "      <td>110</td>\n",
              "      <td>Daegu</td>\n",
              "      <td>1990</td>\n",
              "      <td>Minsu</td>\n",
              "      <td>Yeongnam</td>\n",
              "      <td>199</td>\n",
              "    </tr>\n",
              "    <tr>\n",
              "      <th>8</th>\n",
              "      <td>111</td>\n",
              "      <td>Gangneung</td>\n",
              "      <td>1995</td>\n",
              "      <td>Jinhee</td>\n",
              "      <td>Yeongdong</td>\n",
              "      <td>199</td>\n",
              "    </tr>\n",
              "    <tr>\n",
              "      <th>9</th>\n",
              "      <td>113</td>\n",
              "      <td>Seoul</td>\n",
              "      <td>1981</td>\n",
              "      <td>Daeho</td>\n",
              "      <td>Sudo</td>\n",
              "      <td>198</td>\n",
              "    </tr>\n",
              "  </tbody>\n",
              "</table>\n",
              "</div>"
            ],
            "text/plain": [
              "    id       city  birth_year    name     region up_two_num\n",
              "0  100      Seoul        1990   Junho       Sudo        199\n",
              "1  101      Pusan        1989  Heejin   Yeongnam        198\n",
              "2  102      Daegu        1992  Mijung   Yeongnam        199\n",
              "3  103  Gangneung        1997   Minho  Yeongdong        199\n",
              "4  104      Seoul        1982  Steeve       Sudo        198\n",
              "5  106      Seoul        1991    Mina       Sudo        199\n",
              "6  108      Pusan        1988    Sumi   Yeongnam        198\n",
              "7  110      Daegu        1990   Minsu   Yeongnam        199\n",
              "8  111  Gangneung        1995  Jinhee  Yeongdong        199\n",
              "9  113      Seoul        1981   Daeho       Sudo        198"
            ]
          },
          "metadata": {},
          "execution_count": 69
        }
      ]
    },
    {
      "cell_type": "code",
      "metadata": {
        "colab": {
          "base_uri": "https://localhost:8080/"
        },
        "id": "QVyQpDn790Ez",
        "outputId": "05305427-a38d-4843-b4a9-d0d451cb39ad"
      },
      "source": [
        "# groupby 메서드 : 데이터를 특정 변수 기준으로 그룹화한 후 size 메서드로 각 city별 데이터 개수가 몇 개인지 집계 가능\n",
        "\n",
        "df1.groupby('city').size()"
      ],
      "execution_count": 70,
      "outputs": [
        {
          "output_type": "execute_result",
          "data": {
            "text/plain": [
              "city\n",
              "Daegu        2\n",
              "Gangneung    2\n",
              "Pusan        2\n",
              "Seoul        4\n",
              "dtype: int64"
            ]
          },
          "metadata": {},
          "execution_count": 70
        }
      ]
    },
    {
      "cell_type": "code",
      "metadata": {
        "colab": {
          "base_uri": "https://localhost:8080/"
        },
        "id": "U7xVI2em-MuD",
        "outputId": "dbebce9a-d871-458a-d271-68bb20e8d5b0"
      },
      "source": [
        "# city를 기준으로 birth_yerar 평균값을 구함\n",
        "df1.groupby('city')['birth_year'].mean()"
      ],
      "execution_count": 71,
      "outputs": [
        {
          "output_type": "execute_result",
          "data": {
            "text/plain": [
              "city\n",
              "Daegu        1991.0\n",
              "Gangneung    1996.0\n",
              "Pusan        1988.5\n",
              "Seoul        1986.0\n",
              "Name: birth_year, dtype: float64"
            ]
          },
          "metadata": {},
          "execution_count": 71
        }
      ]
    },
    {
      "cell_type": "code",
      "metadata": {
        "colab": {
          "base_uri": "https://localhost:8080/",
          "height": 0
        },
        "id": "wRqS_z82-Z7b",
        "outputId": "16270ce6-5c24-485c-9e2e-6d1c6c18ec37"
      },
      "source": [
        "# 이렇게 해도 같은 결과 출력됨\n",
        "df1.groupby('city').mean('birth_year')"
      ],
      "execution_count": 72,
      "outputs": [
        {
          "output_type": "execute_result",
          "data": {
            "text/html": [
              "<div>\n",
              "<style scoped>\n",
              "    .dataframe tbody tr th:only-of-type {\n",
              "        vertical-align: middle;\n",
              "    }\n",
              "\n",
              "    .dataframe tbody tr th {\n",
              "        vertical-align: top;\n",
              "    }\n",
              "\n",
              "    .dataframe thead th {\n",
              "        text-align: right;\n",
              "    }\n",
              "</style>\n",
              "<table border=\"1\" class=\"dataframe\">\n",
              "  <thead>\n",
              "    <tr style=\"text-align: right;\">\n",
              "      <th></th>\n",
              "      <th>birth_year</th>\n",
              "    </tr>\n",
              "    <tr>\n",
              "      <th>city</th>\n",
              "      <th></th>\n",
              "    </tr>\n",
              "  </thead>\n",
              "  <tbody>\n",
              "    <tr>\n",
              "      <th>Daegu</th>\n",
              "      <td>1991.0</td>\n",
              "    </tr>\n",
              "    <tr>\n",
              "      <th>Gangneung</th>\n",
              "      <td>1996.0</td>\n",
              "    </tr>\n",
              "    <tr>\n",
              "      <th>Pusan</th>\n",
              "      <td>1988.5</td>\n",
              "    </tr>\n",
              "    <tr>\n",
              "      <th>Seoul</th>\n",
              "      <td>1986.0</td>\n",
              "    </tr>\n",
              "  </tbody>\n",
              "</table>\n",
              "</div>"
            ],
            "text/plain": [
              "           birth_year\n",
              "city                 \n",
              "Daegu          1991.0\n",
              "Gangneung      1996.0\n",
              "Pusan          1988.5\n",
              "Seoul          1986.0"
            ]
          },
          "metadata": {},
          "execution_count": 72
        }
      ]
    },
    {
      "cell_type": "code",
      "metadata": {
        "colab": {
          "base_uri": "https://localhost:8080/",
          "height": 0
        },
        "id": "IjBu6jpi-g36",
        "outputId": "e82557cc-323b-4b43-cd41-f10cd2014d5e"
      },
      "source": [
        "# groupby 메서드에서 as_index = False 설정 시 그룹별 출력 결과에 인덱스가 지정되지 않음\n",
        "# 인덱스가 없는 형태의 데이터를 다뤄야 할 때 이용\n",
        "\n",
        "df1.groupby(['region', 'city'], as_index = False)['birth_year'].mean()"
      ],
      "execution_count": 73,
      "outputs": [
        {
          "output_type": "execute_result",
          "data": {
            "text/html": [
              "<div>\n",
              "<style scoped>\n",
              "    .dataframe tbody tr th:only-of-type {\n",
              "        vertical-align: middle;\n",
              "    }\n",
              "\n",
              "    .dataframe tbody tr th {\n",
              "        vertical-align: top;\n",
              "    }\n",
              "\n",
              "    .dataframe thead th {\n",
              "        text-align: right;\n",
              "    }\n",
              "</style>\n",
              "<table border=\"1\" class=\"dataframe\">\n",
              "  <thead>\n",
              "    <tr style=\"text-align: right;\">\n",
              "      <th></th>\n",
              "      <th>region</th>\n",
              "      <th>city</th>\n",
              "      <th>birth_year</th>\n",
              "    </tr>\n",
              "  </thead>\n",
              "  <tbody>\n",
              "    <tr>\n",
              "      <th>0</th>\n",
              "      <td>Sudo</td>\n",
              "      <td>Seoul</td>\n",
              "      <td>1986.0</td>\n",
              "    </tr>\n",
              "    <tr>\n",
              "      <th>1</th>\n",
              "      <td>Yeongdong</td>\n",
              "      <td>Gangneung</td>\n",
              "      <td>1996.0</td>\n",
              "    </tr>\n",
              "    <tr>\n",
              "      <th>2</th>\n",
              "      <td>Yeongnam</td>\n",
              "      <td>Daegu</td>\n",
              "      <td>1991.0</td>\n",
              "    </tr>\n",
              "    <tr>\n",
              "      <th>3</th>\n",
              "      <td>Yeongnam</td>\n",
              "      <td>Pusan</td>\n",
              "      <td>1988.5</td>\n",
              "    </tr>\n",
              "  </tbody>\n",
              "</table>\n",
              "</div>"
            ],
            "text/plain": [
              "      region       city  birth_year\n",
              "0       Sudo      Seoul      1986.0\n",
              "1  Yeongdong  Gangneung      1996.0\n",
              "2   Yeongnam      Daegu      1991.0\n",
              "3   Yeongnam      Pusan      1988.5"
            ]
          },
          "metadata": {},
          "execution_count": 73
        }
      ]
    },
    {
      "cell_type": "code",
      "metadata": {
        "id": "KOkmLMqp_Ju1"
      },
      "source": [
        "# iterator 반복자 기능 : 실행 결과 원솟값을 파이썬 for 문으로 작업할 수 있어 편리"
      ],
      "execution_count": 74,
      "outputs": []
    },
    {
      "cell_type": "code",
      "metadata": {
        "colab": {
          "base_uri": "https://localhost:8080/"
        },
        "id": "S04EvktmBJ4W",
        "outputId": "519cd757-45d9-4b19-9675-77c766261fc5"
      },
      "source": [
        "# region의 이름을 추출하고 subdf는 해당 region만의 행 데이터를 추출\n",
        "\n",
        "for group, subdf in df1.groupby('region'):\n",
        "  print('===========================================')\n",
        "  print('Region Name: {0}'.format(group))\n",
        "  print(subdf)"
      ],
      "execution_count": 75,
      "outputs": [
        {
          "output_type": "stream",
          "text": [
            "===========================================\n",
            "Region Name: Sudo\n",
            "    id   city  birth_year    name region up_two_num\n",
            "0  100  Seoul        1990   Junho   Sudo        199\n",
            "4  104  Seoul        1982  Steeve   Sudo        198\n",
            "5  106  Seoul        1991    Mina   Sudo        199\n",
            "9  113  Seoul        1981   Daeho   Sudo        198\n",
            "===========================================\n",
            "Region Name: Yeongdong\n",
            "    id       city  birth_year    name     region up_two_num\n",
            "3  103  Gangneung        1997   Minho  Yeongdong        199\n",
            "8  111  Gangneung        1995  Jinhee  Yeongdong        199\n",
            "===========================================\n",
            "Region Name: Yeongnam\n",
            "    id   city  birth_year    name    region up_two_num\n",
            "1  101  Pusan        1989  Heejin  Yeongnam        198\n",
            "2  102  Daegu        1992  Mijung  Yeongnam        199\n",
            "6  108  Pusan        1988    Sumi  Yeongnam        198\n",
            "7  110  Daegu        1990   Minsu  Yeongnam        199\n"
          ],
          "name": "stdout"
        }
      ]
    },
    {
      "cell_type": "code",
      "metadata": {
        "id": "VBRL5yg0Bg4g"
      },
      "source": [
        "# agg 메서드 : 여러 가지 계산을 한번에 모아 수행 시 편리\n",
        "# agg 메서드의 인수는 여러 개의 실행 함수를 히스트 데이터 형태로 전달"
      ],
      "execution_count": 79,
      "outputs": []
    },
    {
      "cell_type": "code",
      "metadata": {
        "colab": {
          "base_uri": "https://localhost:8080/",
          "height": 0
        },
        "id": "UkUJnqMxn_-P",
        "outputId": "bedcb873-e8fb-42ee-f859-df27410d0061"
      },
      "source": [
        "# student_data_mat 사용해 데이터 개수, 평균, 최댓값, 최솟값 계산\n",
        "student_data_math = student_data_mat\n",
        "\n",
        "# 데이터 각 열에 복수의 함수 적용\n",
        "functions = ['count', 'mean', 'min', 'max']\n",
        "grouped_student_data_math1 = student_data_math.groupby(['sex', 'address'])\n",
        "grouped_student_data_math1['age', 'G1'].agg(functions)"
      ],
      "execution_count": 82,
      "outputs": [
        {
          "output_type": "stream",
          "text": [
            "/usr/local/lib/python3.7/dist-packages/ipykernel_launcher.py:7: FutureWarning: Indexing with multiple keys (implicitly converted to a tuple of keys) will be deprecated, use a list instead.\n",
            "  import sys\n"
          ],
          "name": "stderr"
        },
        {
          "output_type": "execute_result",
          "data": {
            "text/html": [
              "<div>\n",
              "<style scoped>\n",
              "    .dataframe tbody tr th:only-of-type {\n",
              "        vertical-align: middle;\n",
              "    }\n",
              "\n",
              "    .dataframe tbody tr th {\n",
              "        vertical-align: top;\n",
              "    }\n",
              "\n",
              "    .dataframe thead tr th {\n",
              "        text-align: left;\n",
              "    }\n",
              "\n",
              "    .dataframe thead tr:last-of-type th {\n",
              "        text-align: right;\n",
              "    }\n",
              "</style>\n",
              "<table border=\"1\" class=\"dataframe\">\n",
              "  <thead>\n",
              "    <tr>\n",
              "      <th></th>\n",
              "      <th></th>\n",
              "      <th colspan=\"4\" halign=\"left\">age</th>\n",
              "      <th colspan=\"4\" halign=\"left\">G1</th>\n",
              "    </tr>\n",
              "    <tr>\n",
              "      <th></th>\n",
              "      <th></th>\n",
              "      <th>count</th>\n",
              "      <th>mean</th>\n",
              "      <th>min</th>\n",
              "      <th>max</th>\n",
              "      <th>count</th>\n",
              "      <th>mean</th>\n",
              "      <th>min</th>\n",
              "      <th>max</th>\n",
              "    </tr>\n",
              "    <tr>\n",
              "      <th>sex</th>\n",
              "      <th>address</th>\n",
              "      <th></th>\n",
              "      <th></th>\n",
              "      <th></th>\n",
              "      <th></th>\n",
              "      <th></th>\n",
              "      <th></th>\n",
              "      <th></th>\n",
              "      <th></th>\n",
              "    </tr>\n",
              "  </thead>\n",
              "  <tbody>\n",
              "    <tr>\n",
              "      <th rowspan=\"2\" valign=\"top\">F</th>\n",
              "      <th>R</th>\n",
              "      <td>44</td>\n",
              "      <td>16.977273</td>\n",
              "      <td>15</td>\n",
              "      <td>19</td>\n",
              "      <td>44</td>\n",
              "      <td>10.295455</td>\n",
              "      <td>6</td>\n",
              "      <td>19</td>\n",
              "    </tr>\n",
              "    <tr>\n",
              "      <th>U</th>\n",
              "      <td>164</td>\n",
              "      <td>16.664634</td>\n",
              "      <td>15</td>\n",
              "      <td>20</td>\n",
              "      <td>164</td>\n",
              "      <td>10.707317</td>\n",
              "      <td>4</td>\n",
              "      <td>18</td>\n",
              "    </tr>\n",
              "    <tr>\n",
              "      <th rowspan=\"2\" valign=\"top\">M</th>\n",
              "      <th>R</th>\n",
              "      <td>44</td>\n",
              "      <td>17.113636</td>\n",
              "      <td>15</td>\n",
              "      <td>21</td>\n",
              "      <td>44</td>\n",
              "      <td>10.659091</td>\n",
              "      <td>3</td>\n",
              "      <td>18</td>\n",
              "    </tr>\n",
              "    <tr>\n",
              "      <th>U</th>\n",
              "      <td>143</td>\n",
              "      <td>16.517483</td>\n",
              "      <td>15</td>\n",
              "      <td>22</td>\n",
              "      <td>143</td>\n",
              "      <td>11.405594</td>\n",
              "      <td>5</td>\n",
              "      <td>19</td>\n",
              "    </tr>\n",
              "  </tbody>\n",
              "</table>\n",
              "</div>"
            ],
            "text/plain": [
              "              age                       G1                   \n",
              "            count       mean min max count       mean min max\n",
              "sex address                                                  \n",
              "F   R          44  16.977273  15  19    44  10.295455   6  19\n",
              "    U         164  16.664634  15  20   164  10.707317   4  18\n",
              "M   R          44  17.113636  15  21    44  10.659091   3  18\n",
              "    U         143  16.517483  15  22   143  11.405594   5  19"
            ]
          },
          "metadata": {},
          "execution_count": 82
        }
      ]
    },
    {
      "cell_type": "markdown",
      "metadata": {
        "id": "CSB4RmpXuxNX"
      },
      "source": [
        "### [ 연습문제 6 - 10 ]\n",
        "연습문제 6-7의 student-mat.csv 에서 학교(school) 변수를 기준으로 각 학교의 G1 평균 점수를 구하세요."
      ]
    },
    {
      "cell_type": "code",
      "metadata": {
        "colab": {
          "base_uri": "https://localhost:8080/"
        },
        "id": "TZZCL2EZoPNV",
        "outputId": "8c0b98c3-8843-498d-ff8d-b386845036bb"
      },
      "source": [
        "student_data_math.groupby(['school'])['G1'].mean()"
      ],
      "execution_count": 85,
      "outputs": [
        {
          "output_type": "execute_result",
          "data": {
            "text/plain": [
              "school\n",
              "GP    10.939828\n",
              "MS    10.673913\n",
              "Name: G1, dtype: float64"
            ]
          },
          "metadata": {},
          "execution_count": 85
        }
      ]
    },
    {
      "cell_type": "markdown",
      "metadata": {
        "id": "-BNXAd5hvbvc"
      },
      "source": [
        "### [ 연습문제 6 - 11 ]\n",
        "연습문제 6-7의 student-mat.csv 에서 학교(school)와 성별(sex) 기준으로 G1, G2, G3 평균 점수를 구하세요."
      ]
    },
    {
      "cell_type": "code",
      "metadata": {
        "colab": {
          "base_uri": "https://localhost:8080/",
          "height": 0
        },
        "id": "vbmbSg4LvD0i",
        "outputId": "6d18ecf7-1c91-4ea5-9445-e33dff1294e7"
      },
      "source": [
        "student_data_math.groupby(['school', 'sex'])['G1', 'G2', 'G3'].mean()"
      ],
      "execution_count": 86,
      "outputs": [
        {
          "output_type": "stream",
          "text": [
            "/usr/local/lib/python3.7/dist-packages/ipykernel_launcher.py:1: FutureWarning: Indexing with multiple keys (implicitly converted to a tuple of keys) will be deprecated, use a list instead.\n",
            "  \"\"\"Entry point for launching an IPython kernel.\n"
          ],
          "name": "stderr"
        },
        {
          "output_type": "execute_result",
          "data": {
            "text/html": [
              "<div>\n",
              "<style scoped>\n",
              "    .dataframe tbody tr th:only-of-type {\n",
              "        vertical-align: middle;\n",
              "    }\n",
              "\n",
              "    .dataframe tbody tr th {\n",
              "        vertical-align: top;\n",
              "    }\n",
              "\n",
              "    .dataframe thead th {\n",
              "        text-align: right;\n",
              "    }\n",
              "</style>\n",
              "<table border=\"1\" class=\"dataframe\">\n",
              "  <thead>\n",
              "    <tr style=\"text-align: right;\">\n",
              "      <th></th>\n",
              "      <th></th>\n",
              "      <th>G1</th>\n",
              "      <th>G2</th>\n",
              "      <th>G3</th>\n",
              "    </tr>\n",
              "    <tr>\n",
              "      <th>school</th>\n",
              "      <th>sex</th>\n",
              "      <th></th>\n",
              "      <th></th>\n",
              "      <th></th>\n",
              "    </tr>\n",
              "  </thead>\n",
              "  <tbody>\n",
              "    <tr>\n",
              "      <th rowspan=\"2\" valign=\"top\">GP</th>\n",
              "      <th>F</th>\n",
              "      <td>10.579235</td>\n",
              "      <td>10.398907</td>\n",
              "      <td>9.972678</td>\n",
              "    </tr>\n",
              "    <tr>\n",
              "      <th>M</th>\n",
              "      <td>11.337349</td>\n",
              "      <td>11.204819</td>\n",
              "      <td>11.060241</td>\n",
              "    </tr>\n",
              "    <tr>\n",
              "      <th rowspan=\"2\" valign=\"top\">MS</th>\n",
              "      <th>F</th>\n",
              "      <td>10.920000</td>\n",
              "      <td>10.320000</td>\n",
              "      <td>9.920000</td>\n",
              "    </tr>\n",
              "    <tr>\n",
              "      <th>M</th>\n",
              "      <td>10.380952</td>\n",
              "      <td>10.047619</td>\n",
              "      <td>9.761905</td>\n",
              "    </tr>\n",
              "  </tbody>\n",
              "</table>\n",
              "</div>"
            ],
            "text/plain": [
              "                   G1         G2         G3\n",
              "school sex                                 \n",
              "GP     F    10.579235  10.398907   9.972678\n",
              "       M    11.337349  11.204819  11.060241\n",
              "MS     F    10.920000  10.320000   9.920000\n",
              "       M    10.380952  10.047619   9.761905"
            ]
          },
          "metadata": {},
          "execution_count": 86
        }
      ]
    },
    {
      "cell_type": "markdown",
      "metadata": {
        "id": "JwPgyLcR1JUh"
      },
      "source": [
        "### [ 연습문제 6 - 12 ]\n",
        "연습문제 6-7의 student-mat.csv에서 학교(school)와 성별(sex) 기준으로 G1, G2, G3의 최댓값, 최솟값을 한번에 계산하세요."
      ]
    },
    {
      "cell_type": "code",
      "metadata": {
        "colab": {
          "base_uri": "https://localhost:8080/",
          "height": 0
        },
        "id": "PB9n8X0Av02t",
        "outputId": "7d6bd479-83d2-473b-89ae-3608184e89ec"
      },
      "source": [
        "functions = ['max', 'min']\n",
        "student_data_math.groupby(['school', 'sex'])['G1', 'G2', 'G3'].agg(functions)"
      ],
      "execution_count": 88,
      "outputs": [
        {
          "output_type": "stream",
          "text": [
            "/usr/local/lib/python3.7/dist-packages/ipykernel_launcher.py:2: FutureWarning: Indexing with multiple keys (implicitly converted to a tuple of keys) will be deprecated, use a list instead.\n",
            "  \n"
          ],
          "name": "stderr"
        },
        {
          "output_type": "execute_result",
          "data": {
            "text/html": [
              "<div>\n",
              "<style scoped>\n",
              "    .dataframe tbody tr th:only-of-type {\n",
              "        vertical-align: middle;\n",
              "    }\n",
              "\n",
              "    .dataframe tbody tr th {\n",
              "        vertical-align: top;\n",
              "    }\n",
              "\n",
              "    .dataframe thead tr th {\n",
              "        text-align: left;\n",
              "    }\n",
              "\n",
              "    .dataframe thead tr:last-of-type th {\n",
              "        text-align: right;\n",
              "    }\n",
              "</style>\n",
              "<table border=\"1\" class=\"dataframe\">\n",
              "  <thead>\n",
              "    <tr>\n",
              "      <th></th>\n",
              "      <th></th>\n",
              "      <th colspan=\"2\" halign=\"left\">G1</th>\n",
              "      <th colspan=\"2\" halign=\"left\">G2</th>\n",
              "      <th colspan=\"2\" halign=\"left\">G3</th>\n",
              "    </tr>\n",
              "    <tr>\n",
              "      <th></th>\n",
              "      <th></th>\n",
              "      <th>max</th>\n",
              "      <th>min</th>\n",
              "      <th>max</th>\n",
              "      <th>min</th>\n",
              "      <th>max</th>\n",
              "      <th>min</th>\n",
              "    </tr>\n",
              "    <tr>\n",
              "      <th>school</th>\n",
              "      <th>sex</th>\n",
              "      <th></th>\n",
              "      <th></th>\n",
              "      <th></th>\n",
              "      <th></th>\n",
              "      <th></th>\n",
              "      <th></th>\n",
              "    </tr>\n",
              "  </thead>\n",
              "  <tbody>\n",
              "    <tr>\n",
              "      <th rowspan=\"2\" valign=\"top\">GP</th>\n",
              "      <th>F</th>\n",
              "      <td>18</td>\n",
              "      <td>4</td>\n",
              "      <td>18</td>\n",
              "      <td>0</td>\n",
              "      <td>19</td>\n",
              "      <td>0</td>\n",
              "    </tr>\n",
              "    <tr>\n",
              "      <th>M</th>\n",
              "      <td>19</td>\n",
              "      <td>3</td>\n",
              "      <td>19</td>\n",
              "      <td>0</td>\n",
              "      <td>20</td>\n",
              "      <td>0</td>\n",
              "    </tr>\n",
              "    <tr>\n",
              "      <th rowspan=\"2\" valign=\"top\">MS</th>\n",
              "      <th>F</th>\n",
              "      <td>19</td>\n",
              "      <td>6</td>\n",
              "      <td>18</td>\n",
              "      <td>5</td>\n",
              "      <td>19</td>\n",
              "      <td>0</td>\n",
              "    </tr>\n",
              "    <tr>\n",
              "      <th>M</th>\n",
              "      <td>15</td>\n",
              "      <td>6</td>\n",
              "      <td>16</td>\n",
              "      <td>5</td>\n",
              "      <td>16</td>\n",
              "      <td>0</td>\n",
              "    </tr>\n",
              "  </tbody>\n",
              "</table>\n",
              "</div>"
            ],
            "text/plain": [
              "            G1      G2      G3    \n",
              "           max min max min max min\n",
              "school sex                        \n",
              "GP     F    18   4  18   0  19   0\n",
              "       M    19   3  19   0  20   0\n",
              "MS     F    19   6  18   5  19   0\n",
              "       M    15   6  16   5  16   0"
            ]
          },
          "metadata": {},
          "execution_count": 88
        }
      ]
    },
    {
      "cell_type": "markdown",
      "metadata": {
        "id": "MgpMcnq52cuz"
      },
      "source": [
        "### 6.3 결측 데이터와 이상값 처리"
      ]
    },
    {
      "cell_type": "markdown",
      "metadata": {
        "id": "Cex8uwUV2gZZ"
      },
      "source": [
        "6.3.1 결측 데이터 대처 방법"
      ]
    },
    {
      "cell_type": "code",
      "metadata": {
        "id": "DcqCRQhm2VOQ"
      },
      "source": [
        "# 결측 데이터에 대한 무시, 삭제, 대체 등의 결정 필요 -> 편향 발생 가능성"
      ],
      "execution_count": 89,
      "outputs": []
    },
    {
      "cell_type": "code",
      "metadata": {
        "id": "D6TCWhIv2xd8"
      },
      "source": [
        "# 라이브러리 임포트\n",
        "import numpy as np\n",
        "from numpy import nan as NA\n",
        "import pandas as pd\n",
        "\n",
        "# 데이터 생성\n",
        "df = pd.DataFrame(np.random.rand(10, 4))\n",
        "\n",
        "# NA로 변경\n",
        "df.iloc[1,0] = NA\n",
        "df.iloc[2:3, 2] = NA\n",
        "df.iloc[5:, 3] = NA"
      ],
      "execution_count": 90,
      "outputs": []
    },
    {
      "cell_type": "code",
      "metadata": {
        "colab": {
          "base_uri": "https://localhost:8080/",
          "height": 0
        },
        "id": "Hq0MU_r63Nui",
        "outputId": "fe7771a6-2ff0-42ad-8404-9b5752805575"
      },
      "source": [
        "df"
      ],
      "execution_count": 91,
      "outputs": [
        {
          "output_type": "execute_result",
          "data": {
            "text/html": [
              "<div>\n",
              "<style scoped>\n",
              "    .dataframe tbody tr th:only-of-type {\n",
              "        vertical-align: middle;\n",
              "    }\n",
              "\n",
              "    .dataframe tbody tr th {\n",
              "        vertical-align: top;\n",
              "    }\n",
              "\n",
              "    .dataframe thead th {\n",
              "        text-align: right;\n",
              "    }\n",
              "</style>\n",
              "<table border=\"1\" class=\"dataframe\">\n",
              "  <thead>\n",
              "    <tr style=\"text-align: right;\">\n",
              "      <th></th>\n",
              "      <th>0</th>\n",
              "      <th>1</th>\n",
              "      <th>2</th>\n",
              "      <th>3</th>\n",
              "    </tr>\n",
              "  </thead>\n",
              "  <tbody>\n",
              "    <tr>\n",
              "      <th>0</th>\n",
              "      <td>0.446172</td>\n",
              "      <td>0.003929</td>\n",
              "      <td>0.651559</td>\n",
              "      <td>0.084023</td>\n",
              "    </tr>\n",
              "    <tr>\n",
              "      <th>1</th>\n",
              "      <td>NaN</td>\n",
              "      <td>0.612880</td>\n",
              "      <td>0.661242</td>\n",
              "      <td>0.247499</td>\n",
              "    </tr>\n",
              "    <tr>\n",
              "      <th>2</th>\n",
              "      <td>0.770408</td>\n",
              "      <td>0.883478</td>\n",
              "      <td>NaN</td>\n",
              "      <td>0.655746</td>\n",
              "    </tr>\n",
              "    <tr>\n",
              "      <th>3</th>\n",
              "      <td>0.934316</td>\n",
              "      <td>0.054061</td>\n",
              "      <td>0.295767</td>\n",
              "      <td>0.393036</td>\n",
              "    </tr>\n",
              "    <tr>\n",
              "      <th>4</th>\n",
              "      <td>0.101299</td>\n",
              "      <td>0.263455</td>\n",
              "      <td>0.522541</td>\n",
              "      <td>0.862756</td>\n",
              "    </tr>\n",
              "    <tr>\n",
              "      <th>5</th>\n",
              "      <td>0.323135</td>\n",
              "      <td>0.603585</td>\n",
              "      <td>0.376343</td>\n",
              "      <td>NaN</td>\n",
              "    </tr>\n",
              "    <tr>\n",
              "      <th>6</th>\n",
              "      <td>0.187597</td>\n",
              "      <td>0.740824</td>\n",
              "      <td>0.724371</td>\n",
              "      <td>NaN</td>\n",
              "    </tr>\n",
              "    <tr>\n",
              "      <th>7</th>\n",
              "      <td>0.864645</td>\n",
              "      <td>0.926293</td>\n",
              "      <td>0.032185</td>\n",
              "      <td>NaN</td>\n",
              "    </tr>\n",
              "    <tr>\n",
              "      <th>8</th>\n",
              "      <td>0.968126</td>\n",
              "      <td>0.279385</td>\n",
              "      <td>0.476837</td>\n",
              "      <td>NaN</td>\n",
              "    </tr>\n",
              "    <tr>\n",
              "      <th>9</th>\n",
              "      <td>0.654867</td>\n",
              "      <td>0.954398</td>\n",
              "      <td>0.392000</td>\n",
              "      <td>NaN</td>\n",
              "    </tr>\n",
              "  </tbody>\n",
              "</table>\n",
              "</div>"
            ],
            "text/plain": [
              "          0         1         2         3\n",
              "0  0.446172  0.003929  0.651559  0.084023\n",
              "1       NaN  0.612880  0.661242  0.247499\n",
              "2  0.770408  0.883478       NaN  0.655746\n",
              "3  0.934316  0.054061  0.295767  0.393036\n",
              "4  0.101299  0.263455  0.522541  0.862756\n",
              "5  0.323135  0.603585  0.376343       NaN\n",
              "6  0.187597  0.740824  0.724371       NaN\n",
              "7  0.864645  0.926293  0.032185       NaN\n",
              "8  0.968126  0.279385  0.476837       NaN\n",
              "9  0.654867  0.954398  0.392000       NaN"
            ]
          },
          "metadata": {},
          "execution_count": 91
        }
      ]
    },
    {
      "cell_type": "markdown",
      "metadata": {
        "id": "AB8L_VS53b7k"
      },
      "source": [
        "리스트와이즈 삭제"
      ]
    },
    {
      "cell_type": "code",
      "metadata": {
        "colab": {
          "base_uri": "https://localhost:8080/",
          "height": 0
        },
        "id": "qCJ6flxf3Qv1",
        "outputId": "f4ebcad8-3847-487b-b6b2-3786cd53a0d4"
      },
      "source": [
        "# 리스트와이즈listwise 삭제 : NaN이 있는 행을 모두 삭제하기 위해 dropna 메서드를 사용하는 방법\n",
        "\n",
        "df.dropna()"
      ],
      "execution_count": 92,
      "outputs": [
        {
          "output_type": "execute_result",
          "data": {
            "text/html": [
              "<div>\n",
              "<style scoped>\n",
              "    .dataframe tbody tr th:only-of-type {\n",
              "        vertical-align: middle;\n",
              "    }\n",
              "\n",
              "    .dataframe tbody tr th {\n",
              "        vertical-align: top;\n",
              "    }\n",
              "\n",
              "    .dataframe thead th {\n",
              "        text-align: right;\n",
              "    }\n",
              "</style>\n",
              "<table border=\"1\" class=\"dataframe\">\n",
              "  <thead>\n",
              "    <tr style=\"text-align: right;\">\n",
              "      <th></th>\n",
              "      <th>0</th>\n",
              "      <th>1</th>\n",
              "      <th>2</th>\n",
              "      <th>3</th>\n",
              "    </tr>\n",
              "  </thead>\n",
              "  <tbody>\n",
              "    <tr>\n",
              "      <th>0</th>\n",
              "      <td>0.446172</td>\n",
              "      <td>0.003929</td>\n",
              "      <td>0.651559</td>\n",
              "      <td>0.084023</td>\n",
              "    </tr>\n",
              "    <tr>\n",
              "      <th>3</th>\n",
              "      <td>0.934316</td>\n",
              "      <td>0.054061</td>\n",
              "      <td>0.295767</td>\n",
              "      <td>0.393036</td>\n",
              "    </tr>\n",
              "    <tr>\n",
              "      <th>4</th>\n",
              "      <td>0.101299</td>\n",
              "      <td>0.263455</td>\n",
              "      <td>0.522541</td>\n",
              "      <td>0.862756</td>\n",
              "    </tr>\n",
              "  </tbody>\n",
              "</table>\n",
              "</div>"
            ],
            "text/plain": [
              "          0         1         2         3\n",
              "0  0.446172  0.003929  0.651559  0.084023\n",
              "3  0.934316  0.054061  0.295767  0.393036\n",
              "4  0.101299  0.263455  0.522541  0.862756"
            ]
          },
          "metadata": {},
          "execution_count": 92
        }
      ]
    },
    {
      "cell_type": "markdown",
      "metadata": {
        "id": "t1nBC8li31PL"
      },
      "source": [
        "페어와이즈 삭제"
      ]
    },
    {
      "cell_type": "code",
      "metadata": {
        "colab": {
          "base_uri": "https://localhost:8080/",
          "height": 328
        },
        "id": "7pcUfLko3uid",
        "outputId": "d9af6893-cb0a-48b5-c6db-827d6e176fc2"
      },
      "source": [
        "# 페어와이즈pairwise 삭제 : 결측 데이터가 있는 열의 데이터는 무시하고 사용 가능한 데이터만 활용하는 방법\n",
        "\n",
        "df[[0,1]].dropna()"
      ],
      "execution_count": 93,
      "outputs": [
        {
          "output_type": "execute_result",
          "data": {
            "text/html": [
              "<div>\n",
              "<style scoped>\n",
              "    .dataframe tbody tr th:only-of-type {\n",
              "        vertical-align: middle;\n",
              "    }\n",
              "\n",
              "    .dataframe tbody tr th {\n",
              "        vertical-align: top;\n",
              "    }\n",
              "\n",
              "    .dataframe thead th {\n",
              "        text-align: right;\n",
              "    }\n",
              "</style>\n",
              "<table border=\"1\" class=\"dataframe\">\n",
              "  <thead>\n",
              "    <tr style=\"text-align: right;\">\n",
              "      <th></th>\n",
              "      <th>0</th>\n",
              "      <th>1</th>\n",
              "    </tr>\n",
              "  </thead>\n",
              "  <tbody>\n",
              "    <tr>\n",
              "      <th>0</th>\n",
              "      <td>0.446172</td>\n",
              "      <td>0.003929</td>\n",
              "    </tr>\n",
              "    <tr>\n",
              "      <th>2</th>\n",
              "      <td>0.770408</td>\n",
              "      <td>0.883478</td>\n",
              "    </tr>\n",
              "    <tr>\n",
              "      <th>3</th>\n",
              "      <td>0.934316</td>\n",
              "      <td>0.054061</td>\n",
              "    </tr>\n",
              "    <tr>\n",
              "      <th>4</th>\n",
              "      <td>0.101299</td>\n",
              "      <td>0.263455</td>\n",
              "    </tr>\n",
              "    <tr>\n",
              "      <th>5</th>\n",
              "      <td>0.323135</td>\n",
              "      <td>0.603585</td>\n",
              "    </tr>\n",
              "    <tr>\n",
              "      <th>6</th>\n",
              "      <td>0.187597</td>\n",
              "      <td>0.740824</td>\n",
              "    </tr>\n",
              "    <tr>\n",
              "      <th>7</th>\n",
              "      <td>0.864645</td>\n",
              "      <td>0.926293</td>\n",
              "    </tr>\n",
              "    <tr>\n",
              "      <th>8</th>\n",
              "      <td>0.968126</td>\n",
              "      <td>0.279385</td>\n",
              "    </tr>\n",
              "    <tr>\n",
              "      <th>9</th>\n",
              "      <td>0.654867</td>\n",
              "      <td>0.954398</td>\n",
              "    </tr>\n",
              "  </tbody>\n",
              "</table>\n",
              "</div>"
            ],
            "text/plain": [
              "          0         1\n",
              "0  0.446172  0.003929\n",
              "2  0.770408  0.883478\n",
              "3  0.934316  0.054061\n",
              "4  0.101299  0.263455\n",
              "5  0.323135  0.603585\n",
              "6  0.187597  0.740824\n",
              "7  0.864645  0.926293\n",
              "8  0.968126  0.279385\n",
              "9  0.654867  0.954398"
            ]
          },
          "metadata": {},
          "execution_count": 93
        }
      ]
    },
    {
      "cell_type": "markdown",
      "metadata": {
        "id": "LUxEI4ck43kZ"
      },
      "source": [
        "fillna로 채우기"
      ]
    },
    {
      "cell_type": "code",
      "metadata": {
        "colab": {
          "base_uri": "https://localhost:8080/",
          "height": 359
        },
        "id": "mUWygonp4j4T",
        "outputId": "a1ea9bdd-f20d-4d47-fd71-f35d1c33231b"
      },
      "source": [
        "# fillna(value)로 NaN을 괄호 안의 값으로 대체 가능\n",
        "\n",
        "df.fillna(0)"
      ],
      "execution_count": 96,
      "outputs": [
        {
          "output_type": "execute_result",
          "data": {
            "text/html": [
              "<div>\n",
              "<style scoped>\n",
              "    .dataframe tbody tr th:only-of-type {\n",
              "        vertical-align: middle;\n",
              "    }\n",
              "\n",
              "    .dataframe tbody tr th {\n",
              "        vertical-align: top;\n",
              "    }\n",
              "\n",
              "    .dataframe thead th {\n",
              "        text-align: right;\n",
              "    }\n",
              "</style>\n",
              "<table border=\"1\" class=\"dataframe\">\n",
              "  <thead>\n",
              "    <tr style=\"text-align: right;\">\n",
              "      <th></th>\n",
              "      <th>0</th>\n",
              "      <th>1</th>\n",
              "      <th>2</th>\n",
              "      <th>3</th>\n",
              "    </tr>\n",
              "  </thead>\n",
              "  <tbody>\n",
              "    <tr>\n",
              "      <th>0</th>\n",
              "      <td>0.446172</td>\n",
              "      <td>0.003929</td>\n",
              "      <td>0.651559</td>\n",
              "      <td>0.084023</td>\n",
              "    </tr>\n",
              "    <tr>\n",
              "      <th>1</th>\n",
              "      <td>0.000000</td>\n",
              "      <td>0.612880</td>\n",
              "      <td>0.661242</td>\n",
              "      <td>0.247499</td>\n",
              "    </tr>\n",
              "    <tr>\n",
              "      <th>2</th>\n",
              "      <td>0.770408</td>\n",
              "      <td>0.883478</td>\n",
              "      <td>0.000000</td>\n",
              "      <td>0.655746</td>\n",
              "    </tr>\n",
              "    <tr>\n",
              "      <th>3</th>\n",
              "      <td>0.934316</td>\n",
              "      <td>0.054061</td>\n",
              "      <td>0.295767</td>\n",
              "      <td>0.393036</td>\n",
              "    </tr>\n",
              "    <tr>\n",
              "      <th>4</th>\n",
              "      <td>0.101299</td>\n",
              "      <td>0.263455</td>\n",
              "      <td>0.522541</td>\n",
              "      <td>0.862756</td>\n",
              "    </tr>\n",
              "    <tr>\n",
              "      <th>5</th>\n",
              "      <td>0.323135</td>\n",
              "      <td>0.603585</td>\n",
              "      <td>0.376343</td>\n",
              "      <td>0.000000</td>\n",
              "    </tr>\n",
              "    <tr>\n",
              "      <th>6</th>\n",
              "      <td>0.187597</td>\n",
              "      <td>0.740824</td>\n",
              "      <td>0.724371</td>\n",
              "      <td>0.000000</td>\n",
              "    </tr>\n",
              "    <tr>\n",
              "      <th>7</th>\n",
              "      <td>0.864645</td>\n",
              "      <td>0.926293</td>\n",
              "      <td>0.032185</td>\n",
              "      <td>0.000000</td>\n",
              "    </tr>\n",
              "    <tr>\n",
              "      <th>8</th>\n",
              "      <td>0.968126</td>\n",
              "      <td>0.279385</td>\n",
              "      <td>0.476837</td>\n",
              "      <td>0.000000</td>\n",
              "    </tr>\n",
              "    <tr>\n",
              "      <th>9</th>\n",
              "      <td>0.654867</td>\n",
              "      <td>0.954398</td>\n",
              "      <td>0.392000</td>\n",
              "      <td>0.000000</td>\n",
              "    </tr>\n",
              "  </tbody>\n",
              "</table>\n",
              "</div>"
            ],
            "text/plain": [
              "          0         1         2         3\n",
              "0  0.446172  0.003929  0.651559  0.084023\n",
              "1  0.000000  0.612880  0.661242  0.247499\n",
              "2  0.770408  0.883478  0.000000  0.655746\n",
              "3  0.934316  0.054061  0.295767  0.393036\n",
              "4  0.101299  0.263455  0.522541  0.862756\n",
              "5  0.323135  0.603585  0.376343  0.000000\n",
              "6  0.187597  0.740824  0.724371  0.000000\n",
              "7  0.864645  0.926293  0.032185  0.000000\n",
              "8  0.968126  0.279385  0.476837  0.000000\n",
              "9  0.654867  0.954398  0.392000  0.000000"
            ]
          },
          "metadata": {},
          "execution_count": 96
        }
      ]
    },
    {
      "cell_type": "markdown",
      "metadata": {
        "id": "7a_sqfU75EK6"
      },
      "source": [
        "이웃하는 값으로 대체하기"
      ]
    },
    {
      "cell_type": "code",
      "metadata": {
        "colab": {
          "base_uri": "https://localhost:8080/"
        },
        "id": "mzQSxEZA5Bv8",
        "outputId": "5a1e78f9-eb02-4500-a79d-efa44626827b"
      },
      "source": [
        "# fill 메서드를 이용해 이웃하는 값(직전 행의 값)으로 대체 가능\n",
        "\n",
        "df.iloc[1, 0]"
      ],
      "execution_count": 97,
      "outputs": [
        {
          "output_type": "execute_result",
          "data": {
            "text/plain": [
              "nan"
            ]
          },
          "metadata": {},
          "execution_count": 97
        }
      ]
    },
    {
      "cell_type": "code",
      "metadata": {
        "colab": {
          "base_uri": "https://localhost:8080/",
          "height": 69
        },
        "id": "EIwFQdfX5QFo",
        "outputId": "438cd873-4abe-45df-b9d6-899a2b69046b"
      },
      "source": [
        "df.fillna(method = 'ffill')\n",
        "\n",
        "# method : {'backfill', 'bfill', 'pad', 'ffill', None}, default None\n",
        "# Method to use for filling holes in reindexed Series\n",
        "# pad / ffill: propagate last valid observation forward to next valid\n",
        "# backfill / bfill: use next valid observation to fill gap."
      ],
      "execution_count": 100,
      "outputs": [
        {
          "output_type": "execute_result",
          "data": {
            "application/vnd.google.colaboratory.intrinsic+json": {
              "type": "string"
            },
            "text/plain": [
              "\"  method : {'backfill', 'bfill', 'pad', 'ffill', None}, default None\\n     Method to use for filling holes in reindexed Series\\n     pad / ffill: propagate last valid observation forward to next valid\\n     backfill / bfill: use next valid observation to fill gap. \""
            ]
          },
          "metadata": {},
          "execution_count": 100
        }
      ]
    },
    {
      "cell_type": "markdown",
      "metadata": {
        "id": "RJJBbSkg8jPo"
      },
      "source": [
        "평균값으로 대체하기"
      ]
    },
    {
      "cell_type": "code",
      "metadata": {
        "colab": {
          "base_uri": "https://localhost:8080/"
        },
        "id": "RGBrutHJ5afI",
        "outputId": "7bd098b4-4d3c-4d67-b79b-eab8703bf4c5"
      },
      "source": [
        "# 평균대체법 : mean 메서드를 이용하여 결측 데이터를 평균값으로 대체\n",
        "\n",
        "# 각 컬럼의 평균값(확인용)\n",
        "df.mean()"
      ],
      "execution_count": 101,
      "outputs": [
        {
          "output_type": "execute_result",
          "data": {
            "text/plain": [
              "0    0.583396\n",
              "1    0.532229\n",
              "2    0.459205\n",
              "3    0.448612\n",
              "dtype: float64"
            ]
          },
          "metadata": {},
          "execution_count": 101
        }
      ]
    },
    {
      "cell_type": "code",
      "metadata": {
        "colab": {
          "base_uri": "https://localhost:8080/",
          "height": 359
        },
        "id": "yzJ89ZIg8vca",
        "outputId": "087e8b5b-1f99-49b3-810f-66b75b9e081b"
      },
      "source": [
        "df.fillna(df.mean())"
      ],
      "execution_count": 102,
      "outputs": [
        {
          "output_type": "execute_result",
          "data": {
            "text/html": [
              "<div>\n",
              "<style scoped>\n",
              "    .dataframe tbody tr th:only-of-type {\n",
              "        vertical-align: middle;\n",
              "    }\n",
              "\n",
              "    .dataframe tbody tr th {\n",
              "        vertical-align: top;\n",
              "    }\n",
              "\n",
              "    .dataframe thead th {\n",
              "        text-align: right;\n",
              "    }\n",
              "</style>\n",
              "<table border=\"1\" class=\"dataframe\">\n",
              "  <thead>\n",
              "    <tr style=\"text-align: right;\">\n",
              "      <th></th>\n",
              "      <th>0</th>\n",
              "      <th>1</th>\n",
              "      <th>2</th>\n",
              "      <th>3</th>\n",
              "    </tr>\n",
              "  </thead>\n",
              "  <tbody>\n",
              "    <tr>\n",
              "      <th>0</th>\n",
              "      <td>0.446172</td>\n",
              "      <td>0.003929</td>\n",
              "      <td>0.651559</td>\n",
              "      <td>0.084023</td>\n",
              "    </tr>\n",
              "    <tr>\n",
              "      <th>1</th>\n",
              "      <td>0.583396</td>\n",
              "      <td>0.612880</td>\n",
              "      <td>0.661242</td>\n",
              "      <td>0.247499</td>\n",
              "    </tr>\n",
              "    <tr>\n",
              "      <th>2</th>\n",
              "      <td>0.770408</td>\n",
              "      <td>0.883478</td>\n",
              "      <td>0.459205</td>\n",
              "      <td>0.655746</td>\n",
              "    </tr>\n",
              "    <tr>\n",
              "      <th>3</th>\n",
              "      <td>0.934316</td>\n",
              "      <td>0.054061</td>\n",
              "      <td>0.295767</td>\n",
              "      <td>0.393036</td>\n",
              "    </tr>\n",
              "    <tr>\n",
              "      <th>4</th>\n",
              "      <td>0.101299</td>\n",
              "      <td>0.263455</td>\n",
              "      <td>0.522541</td>\n",
              "      <td>0.862756</td>\n",
              "    </tr>\n",
              "    <tr>\n",
              "      <th>5</th>\n",
              "      <td>0.323135</td>\n",
              "      <td>0.603585</td>\n",
              "      <td>0.376343</td>\n",
              "      <td>0.448612</td>\n",
              "    </tr>\n",
              "    <tr>\n",
              "      <th>6</th>\n",
              "      <td>0.187597</td>\n",
              "      <td>0.740824</td>\n",
              "      <td>0.724371</td>\n",
              "      <td>0.448612</td>\n",
              "    </tr>\n",
              "    <tr>\n",
              "      <th>7</th>\n",
              "      <td>0.864645</td>\n",
              "      <td>0.926293</td>\n",
              "      <td>0.032185</td>\n",
              "      <td>0.448612</td>\n",
              "    </tr>\n",
              "    <tr>\n",
              "      <th>8</th>\n",
              "      <td>0.968126</td>\n",
              "      <td>0.279385</td>\n",
              "      <td>0.476837</td>\n",
              "      <td>0.448612</td>\n",
              "    </tr>\n",
              "    <tr>\n",
              "      <th>9</th>\n",
              "      <td>0.654867</td>\n",
              "      <td>0.954398</td>\n",
              "      <td>0.392000</td>\n",
              "      <td>0.448612</td>\n",
              "    </tr>\n",
              "  </tbody>\n",
              "</table>\n",
              "</div>"
            ],
            "text/plain": [
              "          0         1         2         3\n",
              "0  0.446172  0.003929  0.651559  0.084023\n",
              "1  0.583396  0.612880  0.661242  0.247499\n",
              "2  0.770408  0.883478  0.459205  0.655746\n",
              "3  0.934316  0.054061  0.295767  0.393036\n",
              "4  0.101299  0.263455  0.522541  0.862756\n",
              "5  0.323135  0.603585  0.376343  0.448612\n",
              "6  0.187597  0.740824  0.724371  0.448612\n",
              "7  0.864645  0.926293  0.032185  0.448612\n",
              "8  0.968126  0.279385  0.476837  0.448612\n",
              "9  0.654867  0.954398  0.392000  0.448612"
            ]
          },
          "metadata": {},
          "execution_count": 102
        }
      ]
    },
    {
      "cell_type": "code",
      "metadata": {
        "id": "8I_ZwprW8yg1"
      },
      "source": [
        "?df.fillna"
      ],
      "execution_count": 103,
      "outputs": []
    },
    {
      "cell_type": "markdown",
      "metadata": {
        "id": "Kik8mcll84nz"
      },
      "source": [
        "### [ 연습문제 6 - 13 ]\n",
        "아래 데이터에서 1열이라도 NaN이 있는 경우 삭제하고 그 결과를 출력하세요."
      ]
    },
    {
      "cell_type": "code",
      "metadata": {
        "colab": {
          "base_uri": "https://localhost:8080/",
          "height": 514
        },
        "id": "QnRHaxlf80x1",
        "outputId": "42ec388e-3094-44e0-bfa0-0bda5606a802"
      },
      "source": [
        "# 데이터 생성\n",
        "df2 = pd.DataFrame(np.random.rand(15,6))\n",
        "\n",
        "# NA으로 설정\n",
        "df2.iloc[2,0] = NA\n",
        "df2.iloc[5:8, 2] = NA\n",
        "df2.iloc[7:9, 3] = NA\n",
        "df2.iloc[10, 5] = NA\n",
        "\n",
        "df2"
      ],
      "execution_count": 105,
      "outputs": [
        {
          "output_type": "execute_result",
          "data": {
            "text/html": [
              "<div>\n",
              "<style scoped>\n",
              "    .dataframe tbody tr th:only-of-type {\n",
              "        vertical-align: middle;\n",
              "    }\n",
              "\n",
              "    .dataframe tbody tr th {\n",
              "        vertical-align: top;\n",
              "    }\n",
              "\n",
              "    .dataframe thead th {\n",
              "        text-align: right;\n",
              "    }\n",
              "</style>\n",
              "<table border=\"1\" class=\"dataframe\">\n",
              "  <thead>\n",
              "    <tr style=\"text-align: right;\">\n",
              "      <th></th>\n",
              "      <th>0</th>\n",
              "      <th>1</th>\n",
              "      <th>2</th>\n",
              "      <th>3</th>\n",
              "      <th>4</th>\n",
              "      <th>5</th>\n",
              "    </tr>\n",
              "  </thead>\n",
              "  <tbody>\n",
              "    <tr>\n",
              "      <th>0</th>\n",
              "      <td>0.230645</td>\n",
              "      <td>0.503831</td>\n",
              "      <td>0.686570</td>\n",
              "      <td>0.143755</td>\n",
              "      <td>0.191673</td>\n",
              "      <td>0.283552</td>\n",
              "    </tr>\n",
              "    <tr>\n",
              "      <th>1</th>\n",
              "      <td>0.336010</td>\n",
              "      <td>0.997230</td>\n",
              "      <td>0.668141</td>\n",
              "      <td>0.679791</td>\n",
              "      <td>0.660924</td>\n",
              "      <td>0.975388</td>\n",
              "    </tr>\n",
              "    <tr>\n",
              "      <th>2</th>\n",
              "      <td>NaN</td>\n",
              "      <td>0.751187</td>\n",
              "      <td>0.160328</td>\n",
              "      <td>0.023238</td>\n",
              "      <td>0.720907</td>\n",
              "      <td>0.844804</td>\n",
              "    </tr>\n",
              "    <tr>\n",
              "      <th>3</th>\n",
              "      <td>0.787293</td>\n",
              "      <td>0.638538</td>\n",
              "      <td>0.272068</td>\n",
              "      <td>0.451298</td>\n",
              "      <td>0.498588</td>\n",
              "      <td>0.366096</td>\n",
              "    </tr>\n",
              "    <tr>\n",
              "      <th>4</th>\n",
              "      <td>0.639026</td>\n",
              "      <td>0.155033</td>\n",
              "      <td>0.754330</td>\n",
              "      <td>0.228818</td>\n",
              "      <td>0.516834</td>\n",
              "      <td>0.484174</td>\n",
              "    </tr>\n",
              "    <tr>\n",
              "      <th>5</th>\n",
              "      <td>0.098398</td>\n",
              "      <td>0.244528</td>\n",
              "      <td>NaN</td>\n",
              "      <td>0.640256</td>\n",
              "      <td>0.753341</td>\n",
              "      <td>0.954041</td>\n",
              "    </tr>\n",
              "    <tr>\n",
              "      <th>6</th>\n",
              "      <td>0.145784</td>\n",
              "      <td>0.569335</td>\n",
              "      <td>NaN</td>\n",
              "      <td>0.032253</td>\n",
              "      <td>0.396065</td>\n",
              "      <td>0.885987</td>\n",
              "    </tr>\n",
              "    <tr>\n",
              "      <th>7</th>\n",
              "      <td>0.651162</td>\n",
              "      <td>0.296624</td>\n",
              "      <td>NaN</td>\n",
              "      <td>NaN</td>\n",
              "      <td>0.468545</td>\n",
              "      <td>0.300553</td>\n",
              "    </tr>\n",
              "    <tr>\n",
              "      <th>8</th>\n",
              "      <td>0.794864</td>\n",
              "      <td>0.277316</td>\n",
              "      <td>0.285733</td>\n",
              "      <td>NaN</td>\n",
              "      <td>0.880189</td>\n",
              "      <td>0.970076</td>\n",
              "    </tr>\n",
              "    <tr>\n",
              "      <th>9</th>\n",
              "      <td>0.896086</td>\n",
              "      <td>0.189121</td>\n",
              "      <td>0.542573</td>\n",
              "      <td>0.166711</td>\n",
              "      <td>0.671869</td>\n",
              "      <td>0.814108</td>\n",
              "    </tr>\n",
              "    <tr>\n",
              "      <th>10</th>\n",
              "      <td>0.186947</td>\n",
              "      <td>0.784959</td>\n",
              "      <td>0.277628</td>\n",
              "      <td>0.341512</td>\n",
              "      <td>0.004865</td>\n",
              "      <td>NaN</td>\n",
              "    </tr>\n",
              "    <tr>\n",
              "      <th>11</th>\n",
              "      <td>0.101211</td>\n",
              "      <td>0.241622</td>\n",
              "      <td>0.002751</td>\n",
              "      <td>0.905440</td>\n",
              "      <td>0.064862</td>\n",
              "      <td>0.198014</td>\n",
              "    </tr>\n",
              "    <tr>\n",
              "      <th>12</th>\n",
              "      <td>0.398824</td>\n",
              "      <td>0.014088</td>\n",
              "      <td>0.447212</td>\n",
              "      <td>0.802235</td>\n",
              "      <td>0.760415</td>\n",
              "      <td>0.310051</td>\n",
              "    </tr>\n",
              "    <tr>\n",
              "      <th>13</th>\n",
              "      <td>0.818621</td>\n",
              "      <td>0.933177</td>\n",
              "      <td>0.843105</td>\n",
              "      <td>0.831184</td>\n",
              "      <td>0.851310</td>\n",
              "      <td>0.903692</td>\n",
              "    </tr>\n",
              "    <tr>\n",
              "      <th>14</th>\n",
              "      <td>0.119488</td>\n",
              "      <td>0.272458</td>\n",
              "      <td>0.028326</td>\n",
              "      <td>0.422571</td>\n",
              "      <td>0.228086</td>\n",
              "      <td>0.260121</td>\n",
              "    </tr>\n",
              "  </tbody>\n",
              "</table>\n",
              "</div>"
            ],
            "text/plain": [
              "           0         1         2         3         4         5\n",
              "0   0.230645  0.503831  0.686570  0.143755  0.191673  0.283552\n",
              "1   0.336010  0.997230  0.668141  0.679791  0.660924  0.975388\n",
              "2        NaN  0.751187  0.160328  0.023238  0.720907  0.844804\n",
              "3   0.787293  0.638538  0.272068  0.451298  0.498588  0.366096\n",
              "4   0.639026  0.155033  0.754330  0.228818  0.516834  0.484174\n",
              "5   0.098398  0.244528       NaN  0.640256  0.753341  0.954041\n",
              "6   0.145784  0.569335       NaN  0.032253  0.396065  0.885987\n",
              "7   0.651162  0.296624       NaN       NaN  0.468545  0.300553\n",
              "8   0.794864  0.277316  0.285733       NaN  0.880189  0.970076\n",
              "9   0.896086  0.189121  0.542573  0.166711  0.671869  0.814108\n",
              "10  0.186947  0.784959  0.277628  0.341512  0.004865       NaN\n",
              "11  0.101211  0.241622  0.002751  0.905440  0.064862  0.198014\n",
              "12  0.398824  0.014088  0.447212  0.802235  0.760415  0.310051\n",
              "13  0.818621  0.933177  0.843105  0.831184  0.851310  0.903692\n",
              "14  0.119488  0.272458  0.028326  0.422571  0.228086  0.260121"
            ]
          },
          "metadata": {},
          "execution_count": 105
        }
      ]
    },
    {
      "cell_type": "code",
      "metadata": {
        "colab": {
          "base_uri": "https://localhost:8080/",
          "height": 328
        },
        "id": "PBIrKZX69XMk",
        "outputId": "0cf49990-73d9-42e6-e060-b4d6203c6904"
      },
      "source": [
        "df2.dropna()"
      ],
      "execution_count": 106,
      "outputs": [
        {
          "output_type": "execute_result",
          "data": {
            "text/html": [
              "<div>\n",
              "<style scoped>\n",
              "    .dataframe tbody tr th:only-of-type {\n",
              "        vertical-align: middle;\n",
              "    }\n",
              "\n",
              "    .dataframe tbody tr th {\n",
              "        vertical-align: top;\n",
              "    }\n",
              "\n",
              "    .dataframe thead th {\n",
              "        text-align: right;\n",
              "    }\n",
              "</style>\n",
              "<table border=\"1\" class=\"dataframe\">\n",
              "  <thead>\n",
              "    <tr style=\"text-align: right;\">\n",
              "      <th></th>\n",
              "      <th>0</th>\n",
              "      <th>1</th>\n",
              "      <th>2</th>\n",
              "      <th>3</th>\n",
              "      <th>4</th>\n",
              "      <th>5</th>\n",
              "    </tr>\n",
              "  </thead>\n",
              "  <tbody>\n",
              "    <tr>\n",
              "      <th>0</th>\n",
              "      <td>0.230645</td>\n",
              "      <td>0.503831</td>\n",
              "      <td>0.686570</td>\n",
              "      <td>0.143755</td>\n",
              "      <td>0.191673</td>\n",
              "      <td>0.283552</td>\n",
              "    </tr>\n",
              "    <tr>\n",
              "      <th>1</th>\n",
              "      <td>0.336010</td>\n",
              "      <td>0.997230</td>\n",
              "      <td>0.668141</td>\n",
              "      <td>0.679791</td>\n",
              "      <td>0.660924</td>\n",
              "      <td>0.975388</td>\n",
              "    </tr>\n",
              "    <tr>\n",
              "      <th>3</th>\n",
              "      <td>0.787293</td>\n",
              "      <td>0.638538</td>\n",
              "      <td>0.272068</td>\n",
              "      <td>0.451298</td>\n",
              "      <td>0.498588</td>\n",
              "      <td>0.366096</td>\n",
              "    </tr>\n",
              "    <tr>\n",
              "      <th>4</th>\n",
              "      <td>0.639026</td>\n",
              "      <td>0.155033</td>\n",
              "      <td>0.754330</td>\n",
              "      <td>0.228818</td>\n",
              "      <td>0.516834</td>\n",
              "      <td>0.484174</td>\n",
              "    </tr>\n",
              "    <tr>\n",
              "      <th>9</th>\n",
              "      <td>0.896086</td>\n",
              "      <td>0.189121</td>\n",
              "      <td>0.542573</td>\n",
              "      <td>0.166711</td>\n",
              "      <td>0.671869</td>\n",
              "      <td>0.814108</td>\n",
              "    </tr>\n",
              "    <tr>\n",
              "      <th>11</th>\n",
              "      <td>0.101211</td>\n",
              "      <td>0.241622</td>\n",
              "      <td>0.002751</td>\n",
              "      <td>0.905440</td>\n",
              "      <td>0.064862</td>\n",
              "      <td>0.198014</td>\n",
              "    </tr>\n",
              "    <tr>\n",
              "      <th>12</th>\n",
              "      <td>0.398824</td>\n",
              "      <td>0.014088</td>\n",
              "      <td>0.447212</td>\n",
              "      <td>0.802235</td>\n",
              "      <td>0.760415</td>\n",
              "      <td>0.310051</td>\n",
              "    </tr>\n",
              "    <tr>\n",
              "      <th>13</th>\n",
              "      <td>0.818621</td>\n",
              "      <td>0.933177</td>\n",
              "      <td>0.843105</td>\n",
              "      <td>0.831184</td>\n",
              "      <td>0.851310</td>\n",
              "      <td>0.903692</td>\n",
              "    </tr>\n",
              "    <tr>\n",
              "      <th>14</th>\n",
              "      <td>0.119488</td>\n",
              "      <td>0.272458</td>\n",
              "      <td>0.028326</td>\n",
              "      <td>0.422571</td>\n",
              "      <td>0.228086</td>\n",
              "      <td>0.260121</td>\n",
              "    </tr>\n",
              "  </tbody>\n",
              "</table>\n",
              "</div>"
            ],
            "text/plain": [
              "           0         1         2         3         4         5\n",
              "0   0.230645  0.503831  0.686570  0.143755  0.191673  0.283552\n",
              "1   0.336010  0.997230  0.668141  0.679791  0.660924  0.975388\n",
              "3   0.787293  0.638538  0.272068  0.451298  0.498588  0.366096\n",
              "4   0.639026  0.155033  0.754330  0.228818  0.516834  0.484174\n",
              "9   0.896086  0.189121  0.542573  0.166711  0.671869  0.814108\n",
              "11  0.101211  0.241622  0.002751  0.905440  0.064862  0.198014\n",
              "12  0.398824  0.014088  0.447212  0.802235  0.760415  0.310051\n",
              "13  0.818621  0.933177  0.843105  0.831184  0.851310  0.903692\n",
              "14  0.119488  0.272458  0.028326  0.422571  0.228086  0.260121"
            ]
          },
          "metadata": {},
          "execution_count": 106
        }
      ]
    },
    {
      "cell_type": "markdown",
      "metadata": {
        "id": "xxIvxzAT9dH9"
      },
      "source": [
        "### [ 연습문제 6 - 14 ]\n",
        "연습문제 6-13에서 생성한 데이터에서 NaN을 0으로 대체하세요."
      ]
    },
    {
      "cell_type": "code",
      "metadata": {
        "colab": {
          "base_uri": "https://localhost:8080/",
          "height": 514
        },
        "id": "5G7lHp-A9bbA",
        "outputId": "ca95d02e-ef9a-4734-868a-e855de2b06da"
      },
      "source": [
        "df2.fillna(0)"
      ],
      "execution_count": 107,
      "outputs": [
        {
          "output_type": "execute_result",
          "data": {
            "text/html": [
              "<div>\n",
              "<style scoped>\n",
              "    .dataframe tbody tr th:only-of-type {\n",
              "        vertical-align: middle;\n",
              "    }\n",
              "\n",
              "    .dataframe tbody tr th {\n",
              "        vertical-align: top;\n",
              "    }\n",
              "\n",
              "    .dataframe thead th {\n",
              "        text-align: right;\n",
              "    }\n",
              "</style>\n",
              "<table border=\"1\" class=\"dataframe\">\n",
              "  <thead>\n",
              "    <tr style=\"text-align: right;\">\n",
              "      <th></th>\n",
              "      <th>0</th>\n",
              "      <th>1</th>\n",
              "      <th>2</th>\n",
              "      <th>3</th>\n",
              "      <th>4</th>\n",
              "      <th>5</th>\n",
              "    </tr>\n",
              "  </thead>\n",
              "  <tbody>\n",
              "    <tr>\n",
              "      <th>0</th>\n",
              "      <td>0.230645</td>\n",
              "      <td>0.503831</td>\n",
              "      <td>0.686570</td>\n",
              "      <td>0.143755</td>\n",
              "      <td>0.191673</td>\n",
              "      <td>0.283552</td>\n",
              "    </tr>\n",
              "    <tr>\n",
              "      <th>1</th>\n",
              "      <td>0.336010</td>\n",
              "      <td>0.997230</td>\n",
              "      <td>0.668141</td>\n",
              "      <td>0.679791</td>\n",
              "      <td>0.660924</td>\n",
              "      <td>0.975388</td>\n",
              "    </tr>\n",
              "    <tr>\n",
              "      <th>2</th>\n",
              "      <td>0.000000</td>\n",
              "      <td>0.751187</td>\n",
              "      <td>0.160328</td>\n",
              "      <td>0.023238</td>\n",
              "      <td>0.720907</td>\n",
              "      <td>0.844804</td>\n",
              "    </tr>\n",
              "    <tr>\n",
              "      <th>3</th>\n",
              "      <td>0.787293</td>\n",
              "      <td>0.638538</td>\n",
              "      <td>0.272068</td>\n",
              "      <td>0.451298</td>\n",
              "      <td>0.498588</td>\n",
              "      <td>0.366096</td>\n",
              "    </tr>\n",
              "    <tr>\n",
              "      <th>4</th>\n",
              "      <td>0.639026</td>\n",
              "      <td>0.155033</td>\n",
              "      <td>0.754330</td>\n",
              "      <td>0.228818</td>\n",
              "      <td>0.516834</td>\n",
              "      <td>0.484174</td>\n",
              "    </tr>\n",
              "    <tr>\n",
              "      <th>5</th>\n",
              "      <td>0.098398</td>\n",
              "      <td>0.244528</td>\n",
              "      <td>0.000000</td>\n",
              "      <td>0.640256</td>\n",
              "      <td>0.753341</td>\n",
              "      <td>0.954041</td>\n",
              "    </tr>\n",
              "    <tr>\n",
              "      <th>6</th>\n",
              "      <td>0.145784</td>\n",
              "      <td>0.569335</td>\n",
              "      <td>0.000000</td>\n",
              "      <td>0.032253</td>\n",
              "      <td>0.396065</td>\n",
              "      <td>0.885987</td>\n",
              "    </tr>\n",
              "    <tr>\n",
              "      <th>7</th>\n",
              "      <td>0.651162</td>\n",
              "      <td>0.296624</td>\n",
              "      <td>0.000000</td>\n",
              "      <td>0.000000</td>\n",
              "      <td>0.468545</td>\n",
              "      <td>0.300553</td>\n",
              "    </tr>\n",
              "    <tr>\n",
              "      <th>8</th>\n",
              "      <td>0.794864</td>\n",
              "      <td>0.277316</td>\n",
              "      <td>0.285733</td>\n",
              "      <td>0.000000</td>\n",
              "      <td>0.880189</td>\n",
              "      <td>0.970076</td>\n",
              "    </tr>\n",
              "    <tr>\n",
              "      <th>9</th>\n",
              "      <td>0.896086</td>\n",
              "      <td>0.189121</td>\n",
              "      <td>0.542573</td>\n",
              "      <td>0.166711</td>\n",
              "      <td>0.671869</td>\n",
              "      <td>0.814108</td>\n",
              "    </tr>\n",
              "    <tr>\n",
              "      <th>10</th>\n",
              "      <td>0.186947</td>\n",
              "      <td>0.784959</td>\n",
              "      <td>0.277628</td>\n",
              "      <td>0.341512</td>\n",
              "      <td>0.004865</td>\n",
              "      <td>0.000000</td>\n",
              "    </tr>\n",
              "    <tr>\n",
              "      <th>11</th>\n",
              "      <td>0.101211</td>\n",
              "      <td>0.241622</td>\n",
              "      <td>0.002751</td>\n",
              "      <td>0.905440</td>\n",
              "      <td>0.064862</td>\n",
              "      <td>0.198014</td>\n",
              "    </tr>\n",
              "    <tr>\n",
              "      <th>12</th>\n",
              "      <td>0.398824</td>\n",
              "      <td>0.014088</td>\n",
              "      <td>0.447212</td>\n",
              "      <td>0.802235</td>\n",
              "      <td>0.760415</td>\n",
              "      <td>0.310051</td>\n",
              "    </tr>\n",
              "    <tr>\n",
              "      <th>13</th>\n",
              "      <td>0.818621</td>\n",
              "      <td>0.933177</td>\n",
              "      <td>0.843105</td>\n",
              "      <td>0.831184</td>\n",
              "      <td>0.851310</td>\n",
              "      <td>0.903692</td>\n",
              "    </tr>\n",
              "    <tr>\n",
              "      <th>14</th>\n",
              "      <td>0.119488</td>\n",
              "      <td>0.272458</td>\n",
              "      <td>0.028326</td>\n",
              "      <td>0.422571</td>\n",
              "      <td>0.228086</td>\n",
              "      <td>0.260121</td>\n",
              "    </tr>\n",
              "  </tbody>\n",
              "</table>\n",
              "</div>"
            ],
            "text/plain": [
              "           0         1         2         3         4         5\n",
              "0   0.230645  0.503831  0.686570  0.143755  0.191673  0.283552\n",
              "1   0.336010  0.997230  0.668141  0.679791  0.660924  0.975388\n",
              "2   0.000000  0.751187  0.160328  0.023238  0.720907  0.844804\n",
              "3   0.787293  0.638538  0.272068  0.451298  0.498588  0.366096\n",
              "4   0.639026  0.155033  0.754330  0.228818  0.516834  0.484174\n",
              "5   0.098398  0.244528  0.000000  0.640256  0.753341  0.954041\n",
              "6   0.145784  0.569335  0.000000  0.032253  0.396065  0.885987\n",
              "7   0.651162  0.296624  0.000000  0.000000  0.468545  0.300553\n",
              "8   0.794864  0.277316  0.285733  0.000000  0.880189  0.970076\n",
              "9   0.896086  0.189121  0.542573  0.166711  0.671869  0.814108\n",
              "10  0.186947  0.784959  0.277628  0.341512  0.004865  0.000000\n",
              "11  0.101211  0.241622  0.002751  0.905440  0.064862  0.198014\n",
              "12  0.398824  0.014088  0.447212  0.802235  0.760415  0.310051\n",
              "13  0.818621  0.933177  0.843105  0.831184  0.851310  0.903692\n",
              "14  0.119488  0.272458  0.028326  0.422571  0.228086  0.260121"
            ]
          },
          "metadata": {},
          "execution_count": 107
        }
      ]
    },
    {
      "cell_type": "markdown",
      "metadata": {
        "id": "WHCMGzFP9j7J"
      },
      "source": [
        "### [ 연습문제 6 - 15 ]\n",
        "연습문제 6-13에서 생성한 데이터에서 NaN을 각 열의 평균값으로 대체하세요."
      ]
    },
    {
      "cell_type": "code",
      "metadata": {
        "colab": {
          "base_uri": "https://localhost:8080/"
        },
        "id": "QlSN4osC9uOd",
        "outputId": "2a04fef2-06c9-4ec5-e94c-4fed94c2cdc0"
      },
      "source": [
        "df2.mean()"
      ],
      "execution_count": 110,
      "outputs": [
        {
          "output_type": "execute_result",
          "data": {
            "text/plain": [
              "0    0.443168\n",
              "1    0.457937\n",
              "2    0.414064\n",
              "3    0.436082\n",
              "4    0.511231\n",
              "5    0.610761\n",
              "dtype: float64"
            ]
          },
          "metadata": {},
          "execution_count": 110
        }
      ]
    },
    {
      "cell_type": "code",
      "metadata": {
        "colab": {
          "base_uri": "https://localhost:8080/",
          "height": 514
        },
        "id": "xQ8mpKMw904b",
        "outputId": "af7a8f59-f6aa-499e-c604-2c9c9bd61fcf"
      },
      "source": [
        "df2.fillna(df2.mean())"
      ],
      "execution_count": 111,
      "outputs": [
        {
          "output_type": "execute_result",
          "data": {
            "text/html": [
              "<div>\n",
              "<style scoped>\n",
              "    .dataframe tbody tr th:only-of-type {\n",
              "        vertical-align: middle;\n",
              "    }\n",
              "\n",
              "    .dataframe tbody tr th {\n",
              "        vertical-align: top;\n",
              "    }\n",
              "\n",
              "    .dataframe thead th {\n",
              "        text-align: right;\n",
              "    }\n",
              "</style>\n",
              "<table border=\"1\" class=\"dataframe\">\n",
              "  <thead>\n",
              "    <tr style=\"text-align: right;\">\n",
              "      <th></th>\n",
              "      <th>0</th>\n",
              "      <th>1</th>\n",
              "      <th>2</th>\n",
              "      <th>3</th>\n",
              "      <th>4</th>\n",
              "      <th>5</th>\n",
              "    </tr>\n",
              "  </thead>\n",
              "  <tbody>\n",
              "    <tr>\n",
              "      <th>0</th>\n",
              "      <td>0.230645</td>\n",
              "      <td>0.503831</td>\n",
              "      <td>0.686570</td>\n",
              "      <td>0.143755</td>\n",
              "      <td>0.191673</td>\n",
              "      <td>0.283552</td>\n",
              "    </tr>\n",
              "    <tr>\n",
              "      <th>1</th>\n",
              "      <td>0.336010</td>\n",
              "      <td>0.997230</td>\n",
              "      <td>0.668141</td>\n",
              "      <td>0.679791</td>\n",
              "      <td>0.660924</td>\n",
              "      <td>0.975388</td>\n",
              "    </tr>\n",
              "    <tr>\n",
              "      <th>2</th>\n",
              "      <td>0.443168</td>\n",
              "      <td>0.751187</td>\n",
              "      <td>0.160328</td>\n",
              "      <td>0.023238</td>\n",
              "      <td>0.720907</td>\n",
              "      <td>0.844804</td>\n",
              "    </tr>\n",
              "    <tr>\n",
              "      <th>3</th>\n",
              "      <td>0.787293</td>\n",
              "      <td>0.638538</td>\n",
              "      <td>0.272068</td>\n",
              "      <td>0.451298</td>\n",
              "      <td>0.498588</td>\n",
              "      <td>0.366096</td>\n",
              "    </tr>\n",
              "    <tr>\n",
              "      <th>4</th>\n",
              "      <td>0.639026</td>\n",
              "      <td>0.155033</td>\n",
              "      <td>0.754330</td>\n",
              "      <td>0.228818</td>\n",
              "      <td>0.516834</td>\n",
              "      <td>0.484174</td>\n",
              "    </tr>\n",
              "    <tr>\n",
              "      <th>5</th>\n",
              "      <td>0.098398</td>\n",
              "      <td>0.244528</td>\n",
              "      <td>0.414064</td>\n",
              "      <td>0.640256</td>\n",
              "      <td>0.753341</td>\n",
              "      <td>0.954041</td>\n",
              "    </tr>\n",
              "    <tr>\n",
              "      <th>6</th>\n",
              "      <td>0.145784</td>\n",
              "      <td>0.569335</td>\n",
              "      <td>0.414064</td>\n",
              "      <td>0.032253</td>\n",
              "      <td>0.396065</td>\n",
              "      <td>0.885987</td>\n",
              "    </tr>\n",
              "    <tr>\n",
              "      <th>7</th>\n",
              "      <td>0.651162</td>\n",
              "      <td>0.296624</td>\n",
              "      <td>0.414064</td>\n",
              "      <td>0.436082</td>\n",
              "      <td>0.468545</td>\n",
              "      <td>0.300553</td>\n",
              "    </tr>\n",
              "    <tr>\n",
              "      <th>8</th>\n",
              "      <td>0.794864</td>\n",
              "      <td>0.277316</td>\n",
              "      <td>0.285733</td>\n",
              "      <td>0.436082</td>\n",
              "      <td>0.880189</td>\n",
              "      <td>0.970076</td>\n",
              "    </tr>\n",
              "    <tr>\n",
              "      <th>9</th>\n",
              "      <td>0.896086</td>\n",
              "      <td>0.189121</td>\n",
              "      <td>0.542573</td>\n",
              "      <td>0.166711</td>\n",
              "      <td>0.671869</td>\n",
              "      <td>0.814108</td>\n",
              "    </tr>\n",
              "    <tr>\n",
              "      <th>10</th>\n",
              "      <td>0.186947</td>\n",
              "      <td>0.784959</td>\n",
              "      <td>0.277628</td>\n",
              "      <td>0.341512</td>\n",
              "      <td>0.004865</td>\n",
              "      <td>0.610761</td>\n",
              "    </tr>\n",
              "    <tr>\n",
              "      <th>11</th>\n",
              "      <td>0.101211</td>\n",
              "      <td>0.241622</td>\n",
              "      <td>0.002751</td>\n",
              "      <td>0.905440</td>\n",
              "      <td>0.064862</td>\n",
              "      <td>0.198014</td>\n",
              "    </tr>\n",
              "    <tr>\n",
              "      <th>12</th>\n",
              "      <td>0.398824</td>\n",
              "      <td>0.014088</td>\n",
              "      <td>0.447212</td>\n",
              "      <td>0.802235</td>\n",
              "      <td>0.760415</td>\n",
              "      <td>0.310051</td>\n",
              "    </tr>\n",
              "    <tr>\n",
              "      <th>13</th>\n",
              "      <td>0.818621</td>\n",
              "      <td>0.933177</td>\n",
              "      <td>0.843105</td>\n",
              "      <td>0.831184</td>\n",
              "      <td>0.851310</td>\n",
              "      <td>0.903692</td>\n",
              "    </tr>\n",
              "    <tr>\n",
              "      <th>14</th>\n",
              "      <td>0.119488</td>\n",
              "      <td>0.272458</td>\n",
              "      <td>0.028326</td>\n",
              "      <td>0.422571</td>\n",
              "      <td>0.228086</td>\n",
              "      <td>0.260121</td>\n",
              "    </tr>\n",
              "  </tbody>\n",
              "</table>\n",
              "</div>"
            ],
            "text/plain": [
              "           0         1         2         3         4         5\n",
              "0   0.230645  0.503831  0.686570  0.143755  0.191673  0.283552\n",
              "1   0.336010  0.997230  0.668141  0.679791  0.660924  0.975388\n",
              "2   0.443168  0.751187  0.160328  0.023238  0.720907  0.844804\n",
              "3   0.787293  0.638538  0.272068  0.451298  0.498588  0.366096\n",
              "4   0.639026  0.155033  0.754330  0.228818  0.516834  0.484174\n",
              "5   0.098398  0.244528  0.414064  0.640256  0.753341  0.954041\n",
              "6   0.145784  0.569335  0.414064  0.032253  0.396065  0.885987\n",
              "7   0.651162  0.296624  0.414064  0.436082  0.468545  0.300553\n",
              "8   0.794864  0.277316  0.285733  0.436082  0.880189  0.970076\n",
              "9   0.896086  0.189121  0.542573  0.166711  0.671869  0.814108\n",
              "10  0.186947  0.784959  0.277628  0.341512  0.004865  0.610761\n",
              "11  0.101211  0.241622  0.002751  0.905440  0.064862  0.198014\n",
              "12  0.398824  0.014088  0.447212  0.802235  0.760415  0.310051\n",
              "13  0.818621  0.933177  0.843105  0.831184  0.851310  0.903692\n",
              "14  0.119488  0.272458  0.028326  0.422571  0.228086  0.260121"
            ]
          },
          "metadata": {},
          "execution_count": 111
        }
      ]
    },
    {
      "cell_type": "markdown",
      "metadata": {
        "id": "TFmD64rD-Pqe"
      },
      "source": [
        "6.3.2 이상값을 다루는 방법"
      ]
    },
    {
      "cell_type": "code",
      "metadata": {
        "id": "yPzHrTJy96XX"
      },
      "source": [
        "# 이상값 데이터에 대한 유지, 삭제, 대체 결정 필요"
      ],
      "execution_count": 112,
      "outputs": []
    },
    {
      "cell_type": "code",
      "metadata": {
        "id": "GFbV2EVlC4pQ"
      },
      "source": [
        "# 박스플롯\n",
        "# 정규분포\n",
        "# 공간적 근접성\n",
        "# 머신러닝 등 활용 가능"
      ],
      "execution_count": 113,
      "outputs": []
    },
    {
      "cell_type": "markdown",
      "metadata": {
        "id": "o0dVJ9kQDCFb"
      },
      "source": [
        "6.4 시계열 데이터 분석 방법 기초"
      ]
    },
    {
      "cell_type": "code",
      "metadata": {
        "id": "jFwCDOTRDBpB"
      },
      "source": [
        "import pandas_datareader.data as pdr"
      ],
      "execution_count": 114,
      "outputs": []
    },
    {
      "cell_type": "markdown",
      "metadata": {
        "id": "2Tb1VHvYDKbX"
      },
      "source": [
        "6.4.1 시계열 데이터 조작과 변환"
      ]
    },
    {
      "cell_type": "code",
      "metadata": {
        "id": "qXeQBt73DJMT"
      },
      "source": [
        "start_date = '2001/1/2'\n",
        "end_date = '2016/12/30'\n",
        "\n",
        "fx_jpusdata = pdr.DataReader('DEXJPUS', 'fred', start_date, end_date)"
      ],
      "execution_count": 118,
      "outputs": []
    },
    {
      "cell_type": "code",
      "metadata": {
        "colab": {
          "base_uri": "https://localhost:8080/",
          "height": 235
        },
        "id": "tEkJzKskDWQv",
        "outputId": "df2e0013-8965-47d4-cb23-88afa286fe52"
      },
      "source": [
        "fx_jpusdata.head()"
      ],
      "execution_count": 119,
      "outputs": [
        {
          "output_type": "execute_result",
          "data": {
            "text/html": [
              "<div>\n",
              "<style scoped>\n",
              "    .dataframe tbody tr th:only-of-type {\n",
              "        vertical-align: middle;\n",
              "    }\n",
              "\n",
              "    .dataframe tbody tr th {\n",
              "        vertical-align: top;\n",
              "    }\n",
              "\n",
              "    .dataframe thead th {\n",
              "        text-align: right;\n",
              "    }\n",
              "</style>\n",
              "<table border=\"1\" class=\"dataframe\">\n",
              "  <thead>\n",
              "    <tr style=\"text-align: right;\">\n",
              "      <th></th>\n",
              "      <th>DEXJPUS</th>\n",
              "    </tr>\n",
              "    <tr>\n",
              "      <th>DATE</th>\n",
              "      <th></th>\n",
              "    </tr>\n",
              "  </thead>\n",
              "  <tbody>\n",
              "    <tr>\n",
              "      <th>2001-01-02</th>\n",
              "      <td>114.73</td>\n",
              "    </tr>\n",
              "    <tr>\n",
              "      <th>2001-01-03</th>\n",
              "      <td>114.26</td>\n",
              "    </tr>\n",
              "    <tr>\n",
              "      <th>2001-01-04</th>\n",
              "      <td>115.47</td>\n",
              "    </tr>\n",
              "    <tr>\n",
              "      <th>2001-01-05</th>\n",
              "      <td>116.19</td>\n",
              "    </tr>\n",
              "    <tr>\n",
              "      <th>2001-01-08</th>\n",
              "      <td>115.97</td>\n",
              "    </tr>\n",
              "  </tbody>\n",
              "</table>\n",
              "</div>"
            ],
            "text/plain": [
              "            DEXJPUS\n",
              "DATE               \n",
              "2001-01-02   114.73\n",
              "2001-01-03   114.26\n",
              "2001-01-04   115.47\n",
              "2001-01-05   116.19\n",
              "2001-01-08   115.97"
            ]
          },
          "metadata": {},
          "execution_count": 119
        }
      ]
    },
    {
      "cell_type": "markdown",
      "metadata": {
        "id": "hfo9g-4QEnol"
      },
      "source": [
        "특정 연월 데이터 참조"
      ]
    },
    {
      "cell_type": "code",
      "metadata": {
        "colab": {
          "base_uri": "https://localhost:8080/",
          "height": 731
        },
        "id": "bloNKtXPEClO",
        "outputId": "532328b0-9cb6-4471-8a17-49f141661740"
      },
      "source": [
        "# 2016년 4월 데이터만 보고 싶을 경우\n",
        "\n",
        "fx_jpusdata['2016-04']"
      ],
      "execution_count": 120,
      "outputs": [
        {
          "output_type": "execute_result",
          "data": {
            "text/html": [
              "<div>\n",
              "<style scoped>\n",
              "    .dataframe tbody tr th:only-of-type {\n",
              "        vertical-align: middle;\n",
              "    }\n",
              "\n",
              "    .dataframe tbody tr th {\n",
              "        vertical-align: top;\n",
              "    }\n",
              "\n",
              "    .dataframe thead th {\n",
              "        text-align: right;\n",
              "    }\n",
              "</style>\n",
              "<table border=\"1\" class=\"dataframe\">\n",
              "  <thead>\n",
              "    <tr style=\"text-align: right;\">\n",
              "      <th></th>\n",
              "      <th>DEXJPUS</th>\n",
              "    </tr>\n",
              "    <tr>\n",
              "      <th>DATE</th>\n",
              "      <th></th>\n",
              "    </tr>\n",
              "  </thead>\n",
              "  <tbody>\n",
              "    <tr>\n",
              "      <th>2016-04-01</th>\n",
              "      <td>112.06</td>\n",
              "    </tr>\n",
              "    <tr>\n",
              "      <th>2016-04-04</th>\n",
              "      <td>111.18</td>\n",
              "    </tr>\n",
              "    <tr>\n",
              "      <th>2016-04-05</th>\n",
              "      <td>110.26</td>\n",
              "    </tr>\n",
              "    <tr>\n",
              "      <th>2016-04-06</th>\n",
              "      <td>109.63</td>\n",
              "    </tr>\n",
              "    <tr>\n",
              "      <th>2016-04-07</th>\n",
              "      <td>107.98</td>\n",
              "    </tr>\n",
              "    <tr>\n",
              "      <th>2016-04-08</th>\n",
              "      <td>108.36</td>\n",
              "    </tr>\n",
              "    <tr>\n",
              "      <th>2016-04-11</th>\n",
              "      <td>107.96</td>\n",
              "    </tr>\n",
              "    <tr>\n",
              "      <th>2016-04-12</th>\n",
              "      <td>108.54</td>\n",
              "    </tr>\n",
              "    <tr>\n",
              "      <th>2016-04-13</th>\n",
              "      <td>109.21</td>\n",
              "    </tr>\n",
              "    <tr>\n",
              "      <th>2016-04-14</th>\n",
              "      <td>109.20</td>\n",
              "    </tr>\n",
              "    <tr>\n",
              "      <th>2016-04-15</th>\n",
              "      <td>108.76</td>\n",
              "    </tr>\n",
              "    <tr>\n",
              "      <th>2016-04-18</th>\n",
              "      <td>108.85</td>\n",
              "    </tr>\n",
              "    <tr>\n",
              "      <th>2016-04-19</th>\n",
              "      <td>109.16</td>\n",
              "    </tr>\n",
              "    <tr>\n",
              "      <th>2016-04-20</th>\n",
              "      <td>109.51</td>\n",
              "    </tr>\n",
              "    <tr>\n",
              "      <th>2016-04-21</th>\n",
              "      <td>109.41</td>\n",
              "    </tr>\n",
              "    <tr>\n",
              "      <th>2016-04-22</th>\n",
              "      <td>111.50</td>\n",
              "    </tr>\n",
              "    <tr>\n",
              "      <th>2016-04-25</th>\n",
              "      <td>111.08</td>\n",
              "    </tr>\n",
              "    <tr>\n",
              "      <th>2016-04-26</th>\n",
              "      <td>111.23</td>\n",
              "    </tr>\n",
              "    <tr>\n",
              "      <th>2016-04-27</th>\n",
              "      <td>111.26</td>\n",
              "    </tr>\n",
              "    <tr>\n",
              "      <th>2016-04-28</th>\n",
              "      <td>108.55</td>\n",
              "    </tr>\n",
              "    <tr>\n",
              "      <th>2016-04-29</th>\n",
              "      <td>106.90</td>\n",
              "    </tr>\n",
              "  </tbody>\n",
              "</table>\n",
              "</div>"
            ],
            "text/plain": [
              "            DEXJPUS\n",
              "DATE               \n",
              "2016-04-01   112.06\n",
              "2016-04-04   111.18\n",
              "2016-04-05   110.26\n",
              "2016-04-06   109.63\n",
              "2016-04-07   107.98\n",
              "2016-04-08   108.36\n",
              "2016-04-11   107.96\n",
              "2016-04-12   108.54\n",
              "2016-04-13   109.21\n",
              "2016-04-14   109.20\n",
              "2016-04-15   108.76\n",
              "2016-04-18   108.85\n",
              "2016-04-19   109.16\n",
              "2016-04-20   109.51\n",
              "2016-04-21   109.41\n",
              "2016-04-22   111.50\n",
              "2016-04-25   111.08\n",
              "2016-04-26   111.23\n",
              "2016-04-27   111.26\n",
              "2016-04-28   108.55\n",
              "2016-04-29   106.90"
            ]
          },
          "metadata": {},
          "execution_count": 120
        }
      ]
    },
    {
      "cell_type": "code",
      "metadata": {
        "colab": {
          "base_uri": "https://localhost:8080/",
          "height": 235
        },
        "id": "TaZEEke1Ew4p",
        "outputId": "05e73f35-2f2d-44c6-b309-82f33ce2af26"
      },
      "source": [
        "# resample 메서드 인수에 M을 지정해 월별 데이터를 지정, 일별은 D, 연도별은 Y\n",
        "# last 메서드로 매월 마지막 날 데이터만 추출, 평균은 mean 메서드 사용\n",
        "# 리샘플링 : 빈도 데이터를 별개의 빈도 데이터 기준으로 재추출하는 것\n",
        "\n",
        "fx_jpusdata.resample('M').last().head()"
      ],
      "execution_count": 121,
      "outputs": [
        {
          "output_type": "execute_result",
          "data": {
            "text/html": [
              "<div>\n",
              "<style scoped>\n",
              "    .dataframe tbody tr th:only-of-type {\n",
              "        vertical-align: middle;\n",
              "    }\n",
              "\n",
              "    .dataframe tbody tr th {\n",
              "        vertical-align: top;\n",
              "    }\n",
              "\n",
              "    .dataframe thead th {\n",
              "        text-align: right;\n",
              "    }\n",
              "</style>\n",
              "<table border=\"1\" class=\"dataframe\">\n",
              "  <thead>\n",
              "    <tr style=\"text-align: right;\">\n",
              "      <th></th>\n",
              "      <th>DEXJPUS</th>\n",
              "    </tr>\n",
              "    <tr>\n",
              "      <th>DATE</th>\n",
              "      <th></th>\n",
              "    </tr>\n",
              "  </thead>\n",
              "  <tbody>\n",
              "    <tr>\n",
              "      <th>2001-01-31</th>\n",
              "      <td>116.39</td>\n",
              "    </tr>\n",
              "    <tr>\n",
              "      <th>2001-02-28</th>\n",
              "      <td>117.28</td>\n",
              "    </tr>\n",
              "    <tr>\n",
              "      <th>2001-03-31</th>\n",
              "      <td>125.54</td>\n",
              "    </tr>\n",
              "    <tr>\n",
              "      <th>2001-04-30</th>\n",
              "      <td>123.57</td>\n",
              "    </tr>\n",
              "    <tr>\n",
              "      <th>2001-05-31</th>\n",
              "      <td>118.88</td>\n",
              "    </tr>\n",
              "  </tbody>\n",
              "</table>\n",
              "</div>"
            ],
            "text/plain": [
              "            DEXJPUS\n",
              "DATE               \n",
              "2001-01-31   116.39\n",
              "2001-02-28   117.28\n",
              "2001-03-31   125.54\n",
              "2001-04-30   123.57\n",
              "2001-05-31   118.88"
            ]
          },
          "metadata": {},
          "execution_count": 121
        }
      ]
    },
    {
      "cell_type": "markdown",
      "metadata": {
        "id": "vCmbFIGPHZj_"
      },
      "source": [
        "결측 데이터가 있을 경우 처리 방법"
      ]
    },
    {
      "cell_type": "code",
      "metadata": {
        "colab": {
          "base_uri": "https://localhost:8080/",
          "height": 235
        },
        "id": "pElOxieYHEzS",
        "outputId": "9fbef3ce-f060-4235-ed5e-91c9aa9490c7"
      },
      "source": [
        "# 시계열 데이터에 결측 데이터가 있는 경우\n",
        "\n",
        "fx_jpusdata.resample('D').last().head()"
      ],
      "execution_count": 122,
      "outputs": [
        {
          "output_type": "execute_result",
          "data": {
            "text/html": [
              "<div>\n",
              "<style scoped>\n",
              "    .dataframe tbody tr th:only-of-type {\n",
              "        vertical-align: middle;\n",
              "    }\n",
              "\n",
              "    .dataframe tbody tr th {\n",
              "        vertical-align: top;\n",
              "    }\n",
              "\n",
              "    .dataframe thead th {\n",
              "        text-align: right;\n",
              "    }\n",
              "</style>\n",
              "<table border=\"1\" class=\"dataframe\">\n",
              "  <thead>\n",
              "    <tr style=\"text-align: right;\">\n",
              "      <th></th>\n",
              "      <th>DEXJPUS</th>\n",
              "    </tr>\n",
              "    <tr>\n",
              "      <th>DATE</th>\n",
              "      <th></th>\n",
              "    </tr>\n",
              "  </thead>\n",
              "  <tbody>\n",
              "    <tr>\n",
              "      <th>2001-01-02</th>\n",
              "      <td>114.73</td>\n",
              "    </tr>\n",
              "    <tr>\n",
              "      <th>2001-01-03</th>\n",
              "      <td>114.26</td>\n",
              "    </tr>\n",
              "    <tr>\n",
              "      <th>2001-01-04</th>\n",
              "      <td>115.47</td>\n",
              "    </tr>\n",
              "    <tr>\n",
              "      <th>2001-01-05</th>\n",
              "      <td>116.19</td>\n",
              "    </tr>\n",
              "    <tr>\n",
              "      <th>2001-01-06</th>\n",
              "      <td>NaN</td>\n",
              "    </tr>\n",
              "  </tbody>\n",
              "</table>\n",
              "</div>"
            ],
            "text/plain": [
              "            DEXJPUS\n",
              "DATE               \n",
              "2001-01-02   114.73\n",
              "2001-01-03   114.26\n",
              "2001-01-04   115.47\n",
              "2001-01-05   116.19\n",
              "2001-01-06      NaN"
            ]
          },
          "metadata": {},
          "execution_count": 122
        }
      ]
    },
    {
      "cell_type": "code",
      "metadata": {
        "colab": {
          "base_uri": "https://localhost:8080/",
          "height": 235
        },
        "id": "XhE93pqJH18k",
        "outputId": "fc27ad43-6cb5-4695-f6f4-051788a87cd2"
      },
      "source": [
        "# 직전 날의 값으로 대체\n",
        "\n",
        "fx_jpusdata.resample('D').ffill().head()"
      ],
      "execution_count": 123,
      "outputs": [
        {
          "output_type": "execute_result",
          "data": {
            "text/html": [
              "<div>\n",
              "<style scoped>\n",
              "    .dataframe tbody tr th:only-of-type {\n",
              "        vertical-align: middle;\n",
              "    }\n",
              "\n",
              "    .dataframe tbody tr th {\n",
              "        vertical-align: top;\n",
              "    }\n",
              "\n",
              "    .dataframe thead th {\n",
              "        text-align: right;\n",
              "    }\n",
              "</style>\n",
              "<table border=\"1\" class=\"dataframe\">\n",
              "  <thead>\n",
              "    <tr style=\"text-align: right;\">\n",
              "      <th></th>\n",
              "      <th>DEXJPUS</th>\n",
              "    </tr>\n",
              "    <tr>\n",
              "      <th>DATE</th>\n",
              "      <th></th>\n",
              "    </tr>\n",
              "  </thead>\n",
              "  <tbody>\n",
              "    <tr>\n",
              "      <th>2001-01-02</th>\n",
              "      <td>114.73</td>\n",
              "    </tr>\n",
              "    <tr>\n",
              "      <th>2001-01-03</th>\n",
              "      <td>114.26</td>\n",
              "    </tr>\n",
              "    <tr>\n",
              "      <th>2001-01-04</th>\n",
              "      <td>115.47</td>\n",
              "    </tr>\n",
              "    <tr>\n",
              "      <th>2001-01-05</th>\n",
              "      <td>116.19</td>\n",
              "    </tr>\n",
              "    <tr>\n",
              "      <th>2001-01-06</th>\n",
              "      <td>116.19</td>\n",
              "    </tr>\n",
              "  </tbody>\n",
              "</table>\n",
              "</div>"
            ],
            "text/plain": [
              "            DEXJPUS\n",
              "DATE               \n",
              "2001-01-02   114.73\n",
              "2001-01-03   114.26\n",
              "2001-01-04   115.47\n",
              "2001-01-05   116.19\n",
              "2001-01-06   116.19"
            ]
          },
          "metadata": {},
          "execution_count": 123
        }
      ]
    },
    {
      "cell_type": "markdown",
      "metadata": {
        "id": "_EYQPwh3IId3"
      },
      "source": [
        "데이터를 이동시켜 비율 계산"
      ]
    },
    {
      "cell_type": "code",
      "metadata": {
        "colab": {
          "base_uri": "https://localhost:8080/",
          "height": 235
        },
        "id": "XNjIDRymIHIY",
        "outputId": "49aca10c-773a-4696-a604-f2737e6850fb"
      },
      "source": [
        "# shift 메서드 : 인덱스는 고정 데이터는 이동\n",
        "\n",
        "# 데이터를 하나씩 뒤로 이동시켜 2001-01-02 환율을 2001-01-03 환율로 변경\n",
        "fx_jpusdata.shift(1).head()"
      ],
      "execution_count": 131,
      "outputs": [
        {
          "output_type": "execute_result",
          "data": {
            "text/html": [
              "<div>\n",
              "<style scoped>\n",
              "    .dataframe tbody tr th:only-of-type {\n",
              "        vertical-align: middle;\n",
              "    }\n",
              "\n",
              "    .dataframe tbody tr th {\n",
              "        vertical-align: top;\n",
              "    }\n",
              "\n",
              "    .dataframe thead th {\n",
              "        text-align: right;\n",
              "    }\n",
              "</style>\n",
              "<table border=\"1\" class=\"dataframe\">\n",
              "  <thead>\n",
              "    <tr style=\"text-align: right;\">\n",
              "      <th></th>\n",
              "      <th>DEXJPUS</th>\n",
              "    </tr>\n",
              "    <tr>\n",
              "      <th>DATE</th>\n",
              "      <th></th>\n",
              "    </tr>\n",
              "  </thead>\n",
              "  <tbody>\n",
              "    <tr>\n",
              "      <th>2001-01-02</th>\n",
              "      <td>NaN</td>\n",
              "    </tr>\n",
              "    <tr>\n",
              "      <th>2001-01-03</th>\n",
              "      <td>114.73</td>\n",
              "    </tr>\n",
              "    <tr>\n",
              "      <th>2001-01-04</th>\n",
              "      <td>114.26</td>\n",
              "    </tr>\n",
              "    <tr>\n",
              "      <th>2001-01-05</th>\n",
              "      <td>115.47</td>\n",
              "    </tr>\n",
              "    <tr>\n",
              "      <th>2001-01-08</th>\n",
              "      <td>116.19</td>\n",
              "    </tr>\n",
              "  </tbody>\n",
              "</table>\n",
              "</div>"
            ],
            "text/plain": [
              "            DEXJPUS\n",
              "DATE               \n",
              "2001-01-02      NaN\n",
              "2001-01-03   114.73\n",
              "2001-01-04   114.26\n",
              "2001-01-05   115.47\n",
              "2001-01-08   116.19"
            ]
          },
          "metadata": {},
          "execution_count": 131
        }
      ]
    },
    {
      "cell_type": "code",
      "metadata": {
        "colab": {
          "base_uri": "https://localhost:8080/",
          "height": 235
        },
        "id": "AktyPgrIIbz6",
        "outputId": "03dfe8ba-d73f-420f-fb9d-b2729e0d1358"
      },
      "source": [
        "fx_jpusdata_ratio = fx_jpusdata / fx_jpusdata.shift(1)\n",
        "fx_jpusdata_ratio.head()"
      ],
      "execution_count": 130,
      "outputs": [
        {
          "output_type": "execute_result",
          "data": {
            "text/html": [
              "<div>\n",
              "<style scoped>\n",
              "    .dataframe tbody tr th:only-of-type {\n",
              "        vertical-align: middle;\n",
              "    }\n",
              "\n",
              "    .dataframe tbody tr th {\n",
              "        vertical-align: top;\n",
              "    }\n",
              "\n",
              "    .dataframe thead th {\n",
              "        text-align: right;\n",
              "    }\n",
              "</style>\n",
              "<table border=\"1\" class=\"dataframe\">\n",
              "  <thead>\n",
              "    <tr style=\"text-align: right;\">\n",
              "      <th></th>\n",
              "      <th>DEXJPUS</th>\n",
              "    </tr>\n",
              "    <tr>\n",
              "      <th>DATE</th>\n",
              "      <th></th>\n",
              "    </tr>\n",
              "  </thead>\n",
              "  <tbody>\n",
              "    <tr>\n",
              "      <th>2001-01-02</th>\n",
              "      <td>NaN</td>\n",
              "    </tr>\n",
              "    <tr>\n",
              "      <th>2001-01-03</th>\n",
              "      <td>0.995903</td>\n",
              "    </tr>\n",
              "    <tr>\n",
              "      <th>2001-01-04</th>\n",
              "      <td>1.010590</td>\n",
              "    </tr>\n",
              "    <tr>\n",
              "      <th>2001-01-05</th>\n",
              "      <td>1.006235</td>\n",
              "    </tr>\n",
              "    <tr>\n",
              "      <th>2001-01-08</th>\n",
              "      <td>0.998107</td>\n",
              "    </tr>\n",
              "  </tbody>\n",
              "</table>\n",
              "</div>"
            ],
            "text/plain": [
              "             DEXJPUS\n",
              "DATE                \n",
              "2001-01-02       NaN\n",
              "2001-01-03  0.995903\n",
              "2001-01-04  1.010590\n",
              "2001-01-05  1.006235\n",
              "2001-01-08  0.998107"
            ]
          },
          "metadata": {},
          "execution_count": 130
        }
      ]
    },
    {
      "cell_type": "code",
      "metadata": {
        "id": "5aXC3JvSIu8R"
      },
      "source": [
        "# diff와 pct_change 조사하기"
      ],
      "execution_count": 132,
      "outputs": []
    },
    {
      "cell_type": "markdown",
      "metadata": {
        "id": "B051oXXFJFCX"
      },
      "source": [
        "### [ 연습문제 6 -16 ]\n",
        "6-4-1에서 읽어 들인 fx_jpusdata을 이용해 연도별 평균값 추세 데이터를 만들어 보세요."
      ]
    },
    {
      "cell_type": "code",
      "metadata": {
        "colab": {
          "base_uri": "https://localhost:8080/",
          "height": 576
        },
        "id": "khj-4fgiJEQo",
        "outputId": "af2946a6-648f-4313-c343-9428af941886"
      },
      "source": [
        "fx_jpusdata.resample('Y').mean()"
      ],
      "execution_count": 133,
      "outputs": [
        {
          "output_type": "execute_result",
          "data": {
            "text/html": [
              "<div>\n",
              "<style scoped>\n",
              "    .dataframe tbody tr th:only-of-type {\n",
              "        vertical-align: middle;\n",
              "    }\n",
              "\n",
              "    .dataframe tbody tr th {\n",
              "        vertical-align: top;\n",
              "    }\n",
              "\n",
              "    .dataframe thead th {\n",
              "        text-align: right;\n",
              "    }\n",
              "</style>\n",
              "<table border=\"1\" class=\"dataframe\">\n",
              "  <thead>\n",
              "    <tr style=\"text-align: right;\">\n",
              "      <th></th>\n",
              "      <th>DEXJPUS</th>\n",
              "    </tr>\n",
              "    <tr>\n",
              "      <th>DATE</th>\n",
              "      <th></th>\n",
              "    </tr>\n",
              "  </thead>\n",
              "  <tbody>\n",
              "    <tr>\n",
              "      <th>2001-12-31</th>\n",
              "      <td>121.568040</td>\n",
              "    </tr>\n",
              "    <tr>\n",
              "      <th>2002-12-31</th>\n",
              "      <td>125.220438</td>\n",
              "    </tr>\n",
              "    <tr>\n",
              "      <th>2003-12-31</th>\n",
              "      <td>115.938685</td>\n",
              "    </tr>\n",
              "    <tr>\n",
              "      <th>2004-12-31</th>\n",
              "      <td>108.150830</td>\n",
              "    </tr>\n",
              "    <tr>\n",
              "      <th>2005-12-31</th>\n",
              "      <td>110.106932</td>\n",
              "    </tr>\n",
              "    <tr>\n",
              "      <th>2006-12-31</th>\n",
              "      <td>116.312072</td>\n",
              "    </tr>\n",
              "    <tr>\n",
              "      <th>2007-12-31</th>\n",
              "      <td>117.762323</td>\n",
              "    </tr>\n",
              "    <tr>\n",
              "      <th>2008-12-31</th>\n",
              "      <td>103.390635</td>\n",
              "    </tr>\n",
              "    <tr>\n",
              "      <th>2009-12-31</th>\n",
              "      <td>93.682659</td>\n",
              "    </tr>\n",
              "    <tr>\n",
              "      <th>2010-12-31</th>\n",
              "      <td>87.781680</td>\n",
              "    </tr>\n",
              "    <tr>\n",
              "      <th>2011-12-31</th>\n",
              "      <td>79.696653</td>\n",
              "    </tr>\n",
              "    <tr>\n",
              "      <th>2012-12-31</th>\n",
              "      <td>79.818008</td>\n",
              "    </tr>\n",
              "    <tr>\n",
              "      <th>2013-12-31</th>\n",
              "      <td>97.597131</td>\n",
              "    </tr>\n",
              "    <tr>\n",
              "      <th>2014-12-31</th>\n",
              "      <td>105.739800</td>\n",
              "    </tr>\n",
              "    <tr>\n",
              "      <th>2015-12-31</th>\n",
              "      <td>121.049084</td>\n",
              "    </tr>\n",
              "    <tr>\n",
              "      <th>2016-12-31</th>\n",
              "      <td>108.656932</td>\n",
              "    </tr>\n",
              "  </tbody>\n",
              "</table>\n",
              "</div>"
            ],
            "text/plain": [
              "               DEXJPUS\n",
              "DATE                  \n",
              "2001-12-31  121.568040\n",
              "2002-12-31  125.220438\n",
              "2003-12-31  115.938685\n",
              "2004-12-31  108.150830\n",
              "2005-12-31  110.106932\n",
              "2006-12-31  116.312072\n",
              "2007-12-31  117.762323\n",
              "2008-12-31  103.390635\n",
              "2009-12-31   93.682659\n",
              "2010-12-31   87.781680\n",
              "2011-12-31   79.696653\n",
              "2012-12-31   79.818008\n",
              "2013-12-31   97.597131\n",
              "2014-12-31  105.739800\n",
              "2015-12-31  121.049084\n",
              "2016-12-31  108.656932"
            ]
          },
          "metadata": {},
          "execution_count": 133
        }
      ]
    },
    {
      "cell_type": "markdown",
      "metadata": {
        "id": "yuUYkr5RLH8b"
      },
      "source": [
        "6.4.2 이동평균"
      ]
    },
    {
      "cell_type": "code",
      "metadata": {
        "colab": {
          "base_uri": "https://localhost:8080/",
          "height": 235
        },
        "id": "hmiLajy-LFaU",
        "outputId": "a0de79a6-2220-477c-ae01-040a8a0a618f"
      },
      "source": [
        "# 판다스 rolling 메서드로 3일 이동 평균선 만들기\n",
        "# rolling 메서드와 mean 메서드를 이용해 이동평균 계산\n",
        "\n",
        "fx_jpusdata.head()"
      ],
      "execution_count": 136,
      "outputs": [
        {
          "output_type": "execute_result",
          "data": {
            "text/html": [
              "<div>\n",
              "<style scoped>\n",
              "    .dataframe tbody tr th:only-of-type {\n",
              "        vertical-align: middle;\n",
              "    }\n",
              "\n",
              "    .dataframe tbody tr th {\n",
              "        vertical-align: top;\n",
              "    }\n",
              "\n",
              "    .dataframe thead th {\n",
              "        text-align: right;\n",
              "    }\n",
              "</style>\n",
              "<table border=\"1\" class=\"dataframe\">\n",
              "  <thead>\n",
              "    <tr style=\"text-align: right;\">\n",
              "      <th></th>\n",
              "      <th>DEXJPUS</th>\n",
              "    </tr>\n",
              "    <tr>\n",
              "      <th>DATE</th>\n",
              "      <th></th>\n",
              "    </tr>\n",
              "  </thead>\n",
              "  <tbody>\n",
              "    <tr>\n",
              "      <th>2001-01-02</th>\n",
              "      <td>114.73</td>\n",
              "    </tr>\n",
              "    <tr>\n",
              "      <th>2001-01-03</th>\n",
              "      <td>114.26</td>\n",
              "    </tr>\n",
              "    <tr>\n",
              "      <th>2001-01-04</th>\n",
              "      <td>115.47</td>\n",
              "    </tr>\n",
              "    <tr>\n",
              "      <th>2001-01-05</th>\n",
              "      <td>116.19</td>\n",
              "    </tr>\n",
              "    <tr>\n",
              "      <th>2001-01-08</th>\n",
              "      <td>115.97</td>\n",
              "    </tr>\n",
              "  </tbody>\n",
              "</table>\n",
              "</div>"
            ],
            "text/plain": [
              "            DEXJPUS\n",
              "DATE               \n",
              "2001-01-02   114.73\n",
              "2001-01-03   114.26\n",
              "2001-01-04   115.47\n",
              "2001-01-05   116.19\n",
              "2001-01-08   115.97"
            ]
          },
          "metadata": {},
          "execution_count": 136
        }
      ]
    },
    {
      "cell_type": "code",
      "metadata": {
        "colab": {
          "base_uri": "https://localhost:8080/",
          "height": 235
        },
        "id": "UyiiQg2SLOqz",
        "outputId": "40839275-9ab4-4101-88dc-31b44d27ba65"
      },
      "source": [
        "fx_jpusdata.rolling(3).mean().head()"
      ],
      "execution_count": 137,
      "outputs": [
        {
          "output_type": "execute_result",
          "data": {
            "text/html": [
              "<div>\n",
              "<style scoped>\n",
              "    .dataframe tbody tr th:only-of-type {\n",
              "        vertical-align: middle;\n",
              "    }\n",
              "\n",
              "    .dataframe tbody tr th {\n",
              "        vertical-align: top;\n",
              "    }\n",
              "\n",
              "    .dataframe thead th {\n",
              "        text-align: right;\n",
              "    }\n",
              "</style>\n",
              "<table border=\"1\" class=\"dataframe\">\n",
              "  <thead>\n",
              "    <tr style=\"text-align: right;\">\n",
              "      <th></th>\n",
              "      <th>DEXJPUS</th>\n",
              "    </tr>\n",
              "    <tr>\n",
              "      <th>DATE</th>\n",
              "      <th></th>\n",
              "    </tr>\n",
              "  </thead>\n",
              "  <tbody>\n",
              "    <tr>\n",
              "      <th>2001-01-02</th>\n",
              "      <td>NaN</td>\n",
              "    </tr>\n",
              "    <tr>\n",
              "      <th>2001-01-03</th>\n",
              "      <td>NaN</td>\n",
              "    </tr>\n",
              "    <tr>\n",
              "      <th>2001-01-04</th>\n",
              "      <td>114.820000</td>\n",
              "    </tr>\n",
              "    <tr>\n",
              "      <th>2001-01-05</th>\n",
              "      <td>115.306667</td>\n",
              "    </tr>\n",
              "    <tr>\n",
              "      <th>2001-01-08</th>\n",
              "      <td>115.876667</td>\n",
              "    </tr>\n",
              "  </tbody>\n",
              "</table>\n",
              "</div>"
            ],
            "text/plain": [
              "               DEXJPUS\n",
              "DATE                  \n",
              "2001-01-02         NaN\n",
              "2001-01-03         NaN\n",
              "2001-01-04  114.820000\n",
              "2001-01-05  115.306667\n",
              "2001-01-08  115.876667"
            ]
          },
          "metadata": {},
          "execution_count": 137
        }
      ]
    },
    {
      "cell_type": "code",
      "metadata": {
        "colab": {
          "base_uri": "https://localhost:8080/",
          "height": 450
        },
        "id": "ivVnrJibLiBq",
        "outputId": "a36d10b5-6fae-42e7-dc32-99f4bdc9c809"
      },
      "source": [
        "fx_jpusdata.rolling(3).std()"
      ],
      "execution_count": 138,
      "outputs": [
        {
          "output_type": "execute_result",
          "data": {
            "text/html": [
              "<div>\n",
              "<style scoped>\n",
              "    .dataframe tbody tr th:only-of-type {\n",
              "        vertical-align: middle;\n",
              "    }\n",
              "\n",
              "    .dataframe tbody tr th {\n",
              "        vertical-align: top;\n",
              "    }\n",
              "\n",
              "    .dataframe thead th {\n",
              "        text-align: right;\n",
              "    }\n",
              "</style>\n",
              "<table border=\"1\" class=\"dataframe\">\n",
              "  <thead>\n",
              "    <tr style=\"text-align: right;\">\n",
              "      <th></th>\n",
              "      <th>DEXJPUS</th>\n",
              "    </tr>\n",
              "    <tr>\n",
              "      <th>DATE</th>\n",
              "      <th></th>\n",
              "    </tr>\n",
              "  </thead>\n",
              "  <tbody>\n",
              "    <tr>\n",
              "      <th>2001-01-02</th>\n",
              "      <td>NaN</td>\n",
              "    </tr>\n",
              "    <tr>\n",
              "      <th>2001-01-03</th>\n",
              "      <td>NaN</td>\n",
              "    </tr>\n",
              "    <tr>\n",
              "      <th>2001-01-04</th>\n",
              "      <td>0.610000</td>\n",
              "    </tr>\n",
              "    <tr>\n",
              "      <th>2001-01-05</th>\n",
              "      <td>0.975312</td>\n",
              "    </tr>\n",
              "    <tr>\n",
              "      <th>2001-01-08</th>\n",
              "      <td>0.368963</td>\n",
              "    </tr>\n",
              "    <tr>\n",
              "      <th>...</th>\n",
              "      <td>...</td>\n",
              "    </tr>\n",
              "    <tr>\n",
              "      <th>2016-12-26</th>\n",
              "      <td>NaN</td>\n",
              "    </tr>\n",
              "    <tr>\n",
              "      <th>2016-12-27</th>\n",
              "      <td>NaN</td>\n",
              "    </tr>\n",
              "    <tr>\n",
              "      <th>2016-12-28</th>\n",
              "      <td>NaN</td>\n",
              "    </tr>\n",
              "    <tr>\n",
              "      <th>2016-12-29</th>\n",
              "      <td>0.736569</td>\n",
              "    </tr>\n",
              "    <tr>\n",
              "      <th>2016-12-30</th>\n",
              "      <td>0.680882</td>\n",
              "    </tr>\n",
              "  </tbody>\n",
              "</table>\n",
              "<p>4174 rows × 1 columns</p>\n",
              "</div>"
            ],
            "text/plain": [
              "             DEXJPUS\n",
              "DATE                \n",
              "2001-01-02       NaN\n",
              "2001-01-03       NaN\n",
              "2001-01-04  0.610000\n",
              "2001-01-05  0.975312\n",
              "2001-01-08  0.368963\n",
              "...              ...\n",
              "2016-12-26       NaN\n",
              "2016-12-27       NaN\n",
              "2016-12-28       NaN\n",
              "2016-12-29  0.736569\n",
              "2016-12-30  0.680882\n",
              "\n",
              "[4174 rows x 1 columns]"
            ]
          },
          "metadata": {},
          "execution_count": 138
        }
      ]
    },
    {
      "cell_type": "code",
      "metadata": {
        "id": "ISUszdJGLmgT"
      },
      "source": [
        "?df.rolling()"
      ],
      "execution_count": 143,
      "outputs": []
    },
    {
      "cell_type": "markdown",
      "metadata": {
        "id": "li5XTwckMZZ7"
      },
      "source": [
        "### [ 연습문제 6 - 17 ]\n",
        "연습문제 6-16의 fx_jpusdata 데이터를 이용해 20일 이동평균 데이터를 만드세요. 단, NaN은 삭제하고 원래 존재하지 않는 결측 데이터 값은 대체할 필요는 없습니다."
      ]
    },
    {
      "cell_type": "code",
      "metadata": {
        "colab": {
          "base_uri": "https://localhost:8080/",
          "height": 450
        },
        "id": "8fiFSUZsLqG7",
        "outputId": "04684921-c8b1-4779-86b3-a1108c503cd3"
      },
      "source": [
        "fx_jpusdata.rolling(20).mean().dropna()"
      ],
      "execution_count": 172,
      "outputs": [
        {
          "output_type": "execute_result",
          "data": {
            "text/html": [
              "<div>\n",
              "<style scoped>\n",
              "    .dataframe tbody tr th:only-of-type {\n",
              "        vertical-align: middle;\n",
              "    }\n",
              "\n",
              "    .dataframe tbody tr th {\n",
              "        vertical-align: top;\n",
              "    }\n",
              "\n",
              "    .dataframe thead th {\n",
              "        text-align: right;\n",
              "    }\n",
              "</style>\n",
              "<table border=\"1\" class=\"dataframe\">\n",
              "  <thead>\n",
              "    <tr style=\"text-align: right;\">\n",
              "      <th></th>\n",
              "      <th>DEXJPUS</th>\n",
              "    </tr>\n",
              "    <tr>\n",
              "      <th>DATE</th>\n",
              "      <th></th>\n",
              "    </tr>\n",
              "  </thead>\n",
              "  <tbody>\n",
              "    <tr>\n",
              "      <th>2001-02-12</th>\n",
              "      <td>116.6910</td>\n",
              "    </tr>\n",
              "    <tr>\n",
              "      <th>2001-02-13</th>\n",
              "      <td>116.6920</td>\n",
              "    </tr>\n",
              "    <tr>\n",
              "      <th>2001-02-14</th>\n",
              "      <td>116.6070</td>\n",
              "    </tr>\n",
              "    <tr>\n",
              "      <th>2001-02-15</th>\n",
              "      <td>116.5015</td>\n",
              "    </tr>\n",
              "    <tr>\n",
              "      <th>2001-02-16</th>\n",
              "      <td>116.4130</td>\n",
              "    </tr>\n",
              "    <tr>\n",
              "      <th>...</th>\n",
              "      <td>...</td>\n",
              "    </tr>\n",
              "    <tr>\n",
              "      <th>2016-11-08</th>\n",
              "      <td>104.1600</td>\n",
              "    </tr>\n",
              "    <tr>\n",
              "      <th>2016-11-09</th>\n",
              "      <td>104.1780</td>\n",
              "    </tr>\n",
              "    <tr>\n",
              "      <th>2016-11-10</th>\n",
              "      <td>104.3250</td>\n",
              "    </tr>\n",
              "    <tr>\n",
              "      <th>2016-12-22</th>\n",
              "      <td>115.1555</td>\n",
              "    </tr>\n",
              "    <tr>\n",
              "      <th>2016-12-23</th>\n",
              "      <td>115.3580</td>\n",
              "    </tr>\n",
              "  </tbody>\n",
              "</table>\n",
              "<p>1593 rows × 1 columns</p>\n",
              "</div>"
            ],
            "text/plain": [
              "             DEXJPUS\n",
              "DATE                \n",
              "2001-02-12  116.6910\n",
              "2001-02-13  116.6920\n",
              "2001-02-14  116.6070\n",
              "2001-02-15  116.5015\n",
              "2001-02-16  116.4130\n",
              "...              ...\n",
              "2016-11-08  104.1600\n",
              "2016-11-09  104.1780\n",
              "2016-11-10  104.3250\n",
              "2016-12-22  115.1555\n",
              "2016-12-23  115.3580\n",
              "\n",
              "[1593 rows x 1 columns]"
            ]
          },
          "metadata": {},
          "execution_count": 172
        }
      ]
    },
    {
      "cell_type": "markdown",
      "metadata": {
        "id": "dQWINg6GNOnG"
      },
      "source": [
        "# 6장 종합문제\n",
        "### [ 종합문제 6 - 1 데이터 처리 ]\n",
        "3장에서 사용한 수학 성적 데이터 student-mat.csv를 이용해 다음 질문에 답하세요. "
      ]
    },
    {
      "cell_type": "markdown",
      "metadata": {
        "id": "EbeO-Kj8NZJL"
      },
      "source": [
        "1. 연령(age) x 성별(sex) 기준으로 G1 평균을 계산하고 세로축이 연령(age), 가로축이 성별(sex)인 표를 만드세요."
      ]
    },
    {
      "cell_type": "code",
      "metadata": {
        "colab": {
          "base_uri": "https://localhost:8080/",
          "height": 328
        },
        "id": "Ls0g4Xd9MsFY",
        "outputId": "75bb31dc-9d87-4c16-ecb0-e03371a1812a"
      },
      "source": [
        "student_data_math.groupby(['age', 'sex'])['G1'].mean().unstack()"
      ],
      "execution_count": 168,
      "outputs": [
        {
          "output_type": "execute_result",
          "data": {
            "text/html": [
              "<div>\n",
              "<style scoped>\n",
              "    .dataframe tbody tr th:only-of-type {\n",
              "        vertical-align: middle;\n",
              "    }\n",
              "\n",
              "    .dataframe tbody tr th {\n",
              "        vertical-align: top;\n",
              "    }\n",
              "\n",
              "    .dataframe thead th {\n",
              "        text-align: right;\n",
              "    }\n",
              "</style>\n",
              "<table border=\"1\" class=\"dataframe\">\n",
              "  <thead>\n",
              "    <tr style=\"text-align: right;\">\n",
              "      <th>sex</th>\n",
              "      <th>F</th>\n",
              "      <th>M</th>\n",
              "    </tr>\n",
              "    <tr>\n",
              "      <th>age</th>\n",
              "      <th></th>\n",
              "      <th></th>\n",
              "    </tr>\n",
              "  </thead>\n",
              "  <tbody>\n",
              "    <tr>\n",
              "      <th>15</th>\n",
              "      <td>10.052632</td>\n",
              "      <td>12.250000</td>\n",
              "    </tr>\n",
              "    <tr>\n",
              "      <th>16</th>\n",
              "      <td>10.203704</td>\n",
              "      <td>11.740000</td>\n",
              "    </tr>\n",
              "    <tr>\n",
              "      <th>17</th>\n",
              "      <td>11.103448</td>\n",
              "      <td>10.600000</td>\n",
              "    </tr>\n",
              "    <tr>\n",
              "      <th>18</th>\n",
              "      <td>10.883721</td>\n",
              "      <td>10.538462</td>\n",
              "    </tr>\n",
              "    <tr>\n",
              "      <th>19</th>\n",
              "      <td>10.642857</td>\n",
              "      <td>9.700000</td>\n",
              "    </tr>\n",
              "    <tr>\n",
              "      <th>20</th>\n",
              "      <td>15.000000</td>\n",
              "      <td>13.000000</td>\n",
              "    </tr>\n",
              "    <tr>\n",
              "      <th>21</th>\n",
              "      <td>NaN</td>\n",
              "      <td>10.000000</td>\n",
              "    </tr>\n",
              "    <tr>\n",
              "      <th>22</th>\n",
              "      <td>NaN</td>\n",
              "      <td>6.000000</td>\n",
              "    </tr>\n",
              "  </tbody>\n",
              "</table>\n",
              "</div>"
            ],
            "text/plain": [
              "sex          F          M\n",
              "age                      \n",
              "15   10.052632  12.250000\n",
              "16   10.203704  11.740000\n",
              "17   11.103448  10.600000\n",
              "18   10.883721  10.538462\n",
              "19   10.642857   9.700000\n",
              "20   15.000000  13.000000\n",
              "21         NaN  10.000000\n",
              "22         NaN   6.000000"
            ]
          },
          "metadata": {},
          "execution_count": 168
        }
      ]
    },
    {
      "cell_type": "markdown",
      "metadata": {
        "id": "7oVEKOb-NmE_"
      },
      "source": [
        "2. 1번 문제에서 만든 표에서 NaN인 행 데이터를 모두 제거한 결과를 출력하세요."
      ]
    },
    {
      "cell_type": "code",
      "metadata": {
        "colab": {
          "base_uri": "https://localhost:8080/",
          "height": 266
        },
        "id": "VXIenZsFNp2e",
        "outputId": "4dee0b54-c952-4f71-c433-93ab65fe9e40"
      },
      "source": [
        "student_data_math.groupby(['age', 'sex'])['G1'].mean().unstack().dropna()"
      ],
      "execution_count": 169,
      "outputs": [
        {
          "output_type": "execute_result",
          "data": {
            "text/html": [
              "<div>\n",
              "<style scoped>\n",
              "    .dataframe tbody tr th:only-of-type {\n",
              "        vertical-align: middle;\n",
              "    }\n",
              "\n",
              "    .dataframe tbody tr th {\n",
              "        vertical-align: top;\n",
              "    }\n",
              "\n",
              "    .dataframe thead th {\n",
              "        text-align: right;\n",
              "    }\n",
              "</style>\n",
              "<table border=\"1\" class=\"dataframe\">\n",
              "  <thead>\n",
              "    <tr style=\"text-align: right;\">\n",
              "      <th>sex</th>\n",
              "      <th>F</th>\n",
              "      <th>M</th>\n",
              "    </tr>\n",
              "    <tr>\n",
              "      <th>age</th>\n",
              "      <th></th>\n",
              "      <th></th>\n",
              "    </tr>\n",
              "  </thead>\n",
              "  <tbody>\n",
              "    <tr>\n",
              "      <th>15</th>\n",
              "      <td>10.052632</td>\n",
              "      <td>12.250000</td>\n",
              "    </tr>\n",
              "    <tr>\n",
              "      <th>16</th>\n",
              "      <td>10.203704</td>\n",
              "      <td>11.740000</td>\n",
              "    </tr>\n",
              "    <tr>\n",
              "      <th>17</th>\n",
              "      <td>11.103448</td>\n",
              "      <td>10.600000</td>\n",
              "    </tr>\n",
              "    <tr>\n",
              "      <th>18</th>\n",
              "      <td>10.883721</td>\n",
              "      <td>10.538462</td>\n",
              "    </tr>\n",
              "    <tr>\n",
              "      <th>19</th>\n",
              "      <td>10.642857</td>\n",
              "      <td>9.700000</td>\n",
              "    </tr>\n",
              "    <tr>\n",
              "      <th>20</th>\n",
              "      <td>15.000000</td>\n",
              "      <td>13.000000</td>\n",
              "    </tr>\n",
              "  </tbody>\n",
              "</table>\n",
              "</div>"
            ],
            "text/plain": [
              "sex          F          M\n",
              "age                      \n",
              "15   10.052632  12.250000\n",
              "16   10.203704  11.740000\n",
              "17   11.103448  10.600000\n",
              "18   10.883721  10.538462\n",
              "19   10.642857   9.700000\n",
              "20   15.000000  13.000000"
            ]
          },
          "metadata": {},
          "execution_count": 169
        }
      ]
    },
    {
      "cell_type": "code",
      "metadata": {
        "id": "lf9LnNBKOzVp"
      },
      "source": [
        ""
      ],
      "execution_count": null,
      "outputs": []
    }
  ]
}